{
  "nbformat": 4,
  "nbformat_minor": 0,
  "metadata": {
    "colab": {
      "name": "Predict Employee Promotion.ipynb",
      "provenance": [],
      "collapsed_sections": [
        "UHTYexQigALc",
        "ZQQR-62rf1_W",
        "08wyyrRfhbSr",
        "sQnVlgr5gKM8",
        "9a6qEhB3hmD8"
      ],
      "toc_visible": true,
      "include_colab_link": true
    },
    "kernelspec": {
      "name": "python3",
      "display_name": "Python 3"
    }
  },
  "cells": [
    {
      "cell_type": "markdown",
      "metadata": {
        "id": "view-in-github",
        "colab_type": "text"
      },
      "source": [
        "<a href=\"https://colab.research.google.com/github/HannahanX/Predict-Employee-Promotion-by-FFNN/blob/main/Predict_Employee_Promotion.ipynb\" target=\"_parent\"><img src=\"https://colab.research.google.com/assets/colab-badge.svg\" alt=\"Open In Colab\"/></a>"
      ]
    },
    {
      "cell_type": "markdown",
      "metadata": {
        "id": "r_VfVDbzT3RI"
      },
      "source": [
        "# **Predicting if an employee will be promoted or not**\n",
        "\n",
        "---\n",
        "\n",
        "\n",
        "# **Introduction / Motivation / Literature Review**\n",
        "\n",
        "**Introduction:**\n",
        "\n",
        "HR analytics is an insightful topic that helps in providing insightful information about employees and the company and helps in ensuring the welfare of both.\n",
        "\n",
        "For most organizations, the department needs to collect the annual performance and the achievement to have a piece of brief information to decide whether to promote this employee or not, which is a time-consuming task for the HR department of any organization. Organizations will need to hire enough people to keep tracking employees' performance, leading to added labor cost.\n",
        "\n",
        "This project aims at addressing one of the important organizational activities of identifying the right employees for promotion to the next level.\n",
        "\n",
        "This activity is being carried out manually in most of the organizations, but when automated using machine learning processes will prove to be more accurate and efficient and at the same time also help reduce manual labor work.\n",
        "\n",
        "The neural network machine learning would be quite suitable for an employee promotion system, like an article mentioned. \"A hiring recommendation can be based at least on processing performed by a plurality of neural networks. For example, parallel or series processing by neural networks can be performed. A neural network can be coupled to one or more other neural networks.\" [*David J. ScarboroughBjorn ChamblessAnne Thissen-Roe*, ***Employee selection via multiple neural networks***, *2008*] The employee selection system would be similar to the employee promotion system, so the model might be similar to build to some degree.\n",
        "\n",
        "Thus, we plan to propose a machine learning model that will help organizations ensure that a deserving employee is promoted, based on certain parameters, and this process is done with reduced manual labor and in less time.\n",
        "\n",
        "\n",
        "**Literature review:**\n",
        "\n",
        "Today, human beings is exposed to a dynamic environment, each industry is going through various kind of problems based on its scale, so companies need a proper evaluation strategy to evaluate the performance of their employees in workplace [*Dhir, K., Chhabra, A.*, ***Automated employee evaluation using fuzzy and neural network synergism through IoT assistance***, *2019*].Employees are one of the most important assets for corporations to maintain and improve their competitivity in market campaigns, by leveraging their professional skills and knowledge [*Ahmed I, Sultana I, Paul SK,* ***Employee performance evaluation***,  *2013*]. Performance management ought to combine with the corporation's strategic target and pays attention to “objective leading,” “corporation development,” “customer satisfaction,” and “employees’ growth” [*Hui L, Qin-xuan*, ***Performance appraisal***, *2009*].\n",
        "\n",
        "Manual evaluation does not seem fit for the modern world. Instead of manual estimations, taking advantage of artificial intelligence, machine learning schema could now be used in human resources to avoid human biases or supervisors’ nepotism.\n",
        "\n",
        "**Motivation:**\n",
        "\n",
        "Let's narrow our scope from performance evaluation to employee promotion problem. The prediction of employee promotion is an important problem that has been addressed using machine learning algorithms. However, previously we used classifiers like Decision trees, Random forest regressors, Logistic regression etc.,mostly, while here in this project we are trying to predict this using feed forward neural networks. We believe that the prediction accuracy can be improved when using an artificial neural network for this problem, and higher accuracy is also something that is very much essential in this case since it is related directly to the employee and company's welfare by making the right decision to promote the deserving individuals.\n",
        "\n",
        "\n",
        "**Data Source:**\n",
        "\n",
        "The dataset is part of a hackathon by Analytics Vidhya\n",
        "\n",
        "https://datahack.analyticsvidhya.com/contest/wns-analytics-hackathon-2018-1/\n",
        "\n",
        "The data can be accessed from the shared google drive below: https://drive.google.com/drive/u/1/folders/1Dihq89ykd9tRtxF9a5FLh1KdgKhA5ZzT\n",
        "\n",
        "**References:**\n",
        "\n",
        "\n",
        "1. [Understanding Feedforward Neural Networks ](https://www.learnopencv.com/understanding-feedforward-neural-networks/)\n",
        "  \n",
        "2. [How to Reduce Overfitting With Dropout Regularization in Keras](https://machinelearningmastery.com/how-to-reduce-overfitting-with-dropout-regularization-in-keras/)\n",
        "3. [Dropout layer](https://keras.io/api/layers/regularization_layers/dropout/)\n",
        "4. [How to use Callbacks in Keras to Visualize, Monitor and Improve your Deep Learning Model](https://medium.com/iitg-ai/how-to-use-callbacks-in-keras-to-visualize-monitor-and-improve-your-deep-learning-model-c9ca37901b28)\n",
        "5. [Heaton Research: The Number of Hidden Layers](https://www.heatonresearch.com/2017/06/01/hidden-layers.html)\n",
        "6. [How to choose the number of hidden layers and nodes in a feedforward neural network?](https://stats.stackexchange.com/questions/181/how-to-choose-the-number-of-hidden-layers-and-nodes-in-a-feedforward-neural-netw)\n",
        "7. [Employee selection via multiple neural networks](https://patents.google.com/patent/US7472097B1/en)\n",
        "8. [Automated employee evaluation using fuzzy and neural network synergism through IoT assistance](https://link-springer-com.ezproxy.lib.uconn.edu/article/10.1007/s00779-018-1186-6)\n",
        "9. [Enhancing Person-Job Fit for Talent Recruitment:\n",
        "An Ability-aware Neural Network Approach∗](https://arxiv.org/pdf/1812.08947.pdf)\n",
        "10. [A neural network modeling on human resource talent selection](https://www.researchgate.net/publication/264818908_A_neural_network_modeling_on_human_resource_talent_selection)\n",
        "11. [Performance appraisal: what’s the matter with you?](https://www-sciencedirect-com.ezproxy.lib.uconn.edu/science/article/pii/S1878522009002690?via%3Dihub)\n",
        "12. [Employee performance evaluation: a fuzzy approach](https://www-emerald-com.ezproxy.lib.uconn.edu/insight/content/doi/10.1108/IJPPM-01-2013-0013/full/html)\n",
        "13. [Impact of Rewards on Employee Performance: A Case of Indian\n",
        "Oil Corporation, Patna Region](http://www.iosrjournals.org/iosr-jbm/papers/Vol19-issue6/Version-2/C1906022230.pdf)\n",
        "\n",
        "\n"
      ]
    },
    {
      "cell_type": "code",
      "metadata": {
        "id": "NktQQhUhvyyU",
        "colab": {
          "base_uri": "https://localhost:8080/",
          "height": 35
        },
        "outputId": "615cb0fe-adb5-4876-ecf8-de98b5f8b1cd"
      },
      "source": [
        "# Mounting the google drive\n",
        "from google.colab import drive\n",
        "drive.mount('/content/drive')"
      ],
      "execution_count": null,
      "outputs": [
        {
          "output_type": "stream",
          "text": [
            "Drive already mounted at /content/drive; to attempt to forcibly remount, call drive.mount(\"/content/drive\", force_remount=True).\n"
          ],
          "name": "stdout"
        }
      ]
    },
    {
      "cell_type": "markdown",
      "metadata": {
        "id": "u4LClu1FVlxr"
      },
      "source": [
        "# **Data Gathering and Description**\n",
        "\n",
        "**Data - Google drive location:**\n",
        "\n",
        "The data can be accessed from the shared google drive below: https://drive.google.com/drive/u/1/folders/1Dihq89ykd9tRtxF9a5FLh1KdgKhA5ZzT\n",
        "\n",
        "**Preprocessed data location:**\n",
        "\n",
        "The preprocessed data can be accessed from the below location:\n",
        "\n",
        "https://drive.google.com/drive/u/1/folders/1UgLEBbnoMEys25V6h5hNLN6OPmqLsuLe\n",
        "\n",
        "**Data Description:**\n",
        "\n",
        "Below are the columns in the dataset.\n",
        "\n",
        "• ***employee_id*** - Identifier column\n",
        "\n",
        "• ***department*** - Corresponds to the employee's department\n",
        "\n",
        "• ***region*** - Corresponds to the employee's region\n",
        "\n",
        "• ***education*** - Education level of the employee\n",
        "\n",
        "• ***gender*** - Male/Female\n",
        "\n",
        "• ***recruitment_channel*** - Channel of recruitment of the employee\n",
        "\n",
        "• ***no_of_trainings*** - Total trainings attended by the employee\n",
        "\n",
        "• ***age*** - Age of the employee\n",
        "\n",
        "• ***previous_year_rating*** - Previous year rating for the employee\n",
        "\n",
        "• ***length_of_service*** - Years of service of the employee\n",
        "\n",
        "• ***KPIs_met80*** - Has the KPI's been met by the employee\n",
        "\n",
        "• ***awards_won*** - Has the employee won any awards\n",
        "\n",
        "• ***avg_training_score*** - Average training score of the employee\n",
        "\n",
        "• ***is_promoted*** - Target column- Is the employee promoted or not\n",
        "\n",
        "The dataset consists of 78298 instances (train and test files) with the above features.\n",
        "\n",
        "* The training data file will be split into train and validation dataset to build and validate the model\n",
        "* The test data file will then be used to predict the target column."
      ]
    },
    {
      "cell_type": "code",
      "metadata": {
        "id": "IcCp_d5sZ-g2"
      },
      "source": [
        "# modules\n",
        "import pandas as pd\n",
        "import numpy as np\n",
        "from sklearn.preprocessing import LabelEncoder\n",
        "from keras.wrappers.scikit_learn import KerasClassifier\n",
        "from keras.utils import np_utils\n",
        "\n",
        "# for baseline model\n",
        "from sklearn.linear_model import LogisticRegression\n",
        "\n",
        "#for data split and normalization\n",
        "from sklearn.preprocessing import  MinMaxScaler\n",
        "from sklearn.preprocessing import OneHotEncoder\n",
        "from sklearn.model_selection import train_test_split\n",
        "\n",
        "from sklearn.utils import resample\n",
        "\n",
        "# for modeling\n",
        "from keras.models import Sequential\n",
        "from keras.layers import Dense, Dropout\n",
        "from keras.callbacks import EarlyStopping\n",
        "\n",
        "#for visualiztion and EDA\n",
        "import matplotlib.pyplot as plt\n",
        "import seaborn as sns\n",
        "\n",
        "# classification error metrics\n",
        "from sklearn.metrics import classification_report\n",
        "from sklearn.metrics import confusion_matrix\n"
      ],
      "execution_count": null,
      "outputs": []
    },
    {
      "cell_type": "markdown",
      "metadata": {
        "id": "-n9awbBM_xYy"
      },
      "source": [
        "\n",
        "## Exploratory Data Analysis ##\n",
        "\n",
        "Data preprocessing, identifying interesting relationships between different features "
      ]
    },
    {
      "cell_type": "code",
      "metadata": {
        "id": "1oJymOY_adPq"
      },
      "source": [
        "# read data\n",
        "train = pd.read_csv('/content/drive/Shared drives/OPIM 5509 Group 8 Project/Project#1/Data/train.csv')\n",
        "test  = pd.read_csv('/content/drive/Shared drives/OPIM 5509 Group 8 Project/Project#1/Data/test.csv')"
      ],
      "execution_count": null,
      "outputs": []
    },
    {
      "cell_type": "code",
      "metadata": {
        "id": "tbzL0zrDaoev",
        "colab": {
          "base_uri": "https://localhost:8080/",
          "height": 381
        },
        "outputId": "46fd9868-4825-4516-9e83-efb852e41c9f"
      },
      "source": [
        "# check for missing values - train\n",
        "train.info()"
      ],
      "execution_count": null,
      "outputs": [
        {
          "output_type": "stream",
          "text": [
            "<class 'pandas.core.frame.DataFrame'>\n",
            "RangeIndex: 54808 entries, 0 to 54807\n",
            "Data columns (total 14 columns):\n",
            " #   Column                Non-Null Count  Dtype  \n",
            "---  ------                --------------  -----  \n",
            " 0   employee_id           54808 non-null  int64  \n",
            " 1   department            54808 non-null  object \n",
            " 2   region                54808 non-null  object \n",
            " 3   education             52399 non-null  object \n",
            " 4   gender                54808 non-null  object \n",
            " 5   recruitment_channel   54808 non-null  object \n",
            " 6   no_of_trainings       54808 non-null  int64  \n",
            " 7   age                   54808 non-null  int64  \n",
            " 8   previous_year_rating  50684 non-null  float64\n",
            " 9   length_of_service     54808 non-null  int64  \n",
            " 10  KPIs_met80            54808 non-null  int64  \n",
            " 11  awards_won            54808 non-null  int64  \n",
            " 12  avg_training_score    54808 non-null  int64  \n",
            " 13  is_promoted           54808 non-null  int64  \n",
            "dtypes: float64(1), int64(8), object(5)\n",
            "memory usage: 5.9+ MB\n"
          ],
          "name": "stdout"
        }
      ]
    },
    {
      "cell_type": "code",
      "metadata": {
        "id": "gHJS4aPj4gm1",
        "colab": {
          "base_uri": "https://localhost:8080/",
          "height": 364
        },
        "outputId": "de32a42d-df96-4b75-d7c9-afa769bda450"
      },
      "source": [
        "test.info() #check for missing values in test data"
      ],
      "execution_count": null,
      "outputs": [
        {
          "output_type": "stream",
          "text": [
            "<class 'pandas.core.frame.DataFrame'>\n",
            "RangeIndex: 23490 entries, 0 to 23489\n",
            "Data columns (total 13 columns):\n",
            " #   Column                Non-Null Count  Dtype  \n",
            "---  ------                --------------  -----  \n",
            " 0   employee_id           23490 non-null  int64  \n",
            " 1   department            23490 non-null  object \n",
            " 2   region                23490 non-null  object \n",
            " 3   education             22456 non-null  object \n",
            " 4   gender                23490 non-null  object \n",
            " 5   recruitment_channel   23490 non-null  object \n",
            " 6   no_of_trainings       23490 non-null  int64  \n",
            " 7   age                   23490 non-null  int64  \n",
            " 8   previous_year_rating  21678 non-null  float64\n",
            " 9   length_of_service     23490 non-null  int64  \n",
            " 10  KPIs_met80            23490 non-null  int64  \n",
            " 11  awards_won            23490 non-null  int64  \n",
            " 12  avg_training_score    23490 non-null  int64  \n",
            "dtypes: float64(1), int64(7), object(5)\n",
            "memory usage: 2.3+ MB\n"
          ],
          "name": "stdout"
        }
      ]
    },
    {
      "cell_type": "code",
      "metadata": {
        "id": "jTn6rUAu5HwM",
        "colab": {
          "base_uri": "https://localhost:8080/",
          "height": 364
        },
        "outputId": "b0e52ab4-9125-4b26-f874-3fd79597e018"
      },
      "source": [
        "#We  see that there are missing values in 'education and 'previous_year_rating' columns.\n",
        "#The missing value count for these 2 columns in both- train and test data is more than a 1000.\n",
        "#Looking into the different values of these columns\n",
        "\n",
        "print(train['education'].value_counts())\n",
        "print(test['education'].value_counts())\n",
        "\n",
        "print(train['previous_year_rating'].value_counts())\n",
        "print(test['previous_year_rating'].value_counts())"
      ],
      "execution_count": null,
      "outputs": [
        {
          "output_type": "stream",
          "text": [
            "Bachelor's          36669\n",
            "Master's & above    14925\n",
            "Below Secondary       805\n",
            "Name: education, dtype: int64\n",
            "Bachelor's          15578\n",
            "Master's & above     6504\n",
            "Below Secondary       374\n",
            "Name: education, dtype: int64\n",
            "3.0    18618\n",
            "5.0    11741\n",
            "4.0     9877\n",
            "1.0     6223\n",
            "2.0     4225\n",
            "Name: previous_year_rating, dtype: int64\n",
            "3.0    7921\n",
            "5.0    5097\n",
            "4.0    4249\n",
            "1.0    2680\n",
            "2.0    1731\n",
            "Name: previous_year_rating, dtype: int64\n"
          ],
          "name": "stdout"
        }
      ]
    },
    {
      "cell_type": "code",
      "metadata": {
        "id": "P1MfdUTd6Wvc"
      },
      "source": [
        "#From the value counts we can see that there are enough records under each category \n",
        "#Also the overall dataset(train and test) has more than 70k rows and hence we will not impute these categorical variables\n",
        "#As this might lead to improper predictions\n",
        "#Instead we will remove these rows\n",
        "\n",
        "train.dropna(inplace=True)\n",
        "test.dropna(inplace=True)"
      ],
      "execution_count": null,
      "outputs": []
    },
    {
      "cell_type": "code",
      "metadata": {
        "id": "KG20IZZK7Fzl",
        "colab": {
          "base_uri": "https://localhost:8080/",
          "height": 728
        },
        "outputId": "b0e9eeab-7415-47c7-d1be-21e2d65d33a4"
      },
      "source": [
        "#Check the dataset after dropping the missing data rows\n",
        "train.info()\n",
        "test.info()"
      ],
      "execution_count": null,
      "outputs": [
        {
          "output_type": "stream",
          "text": [
            "<class 'pandas.core.frame.DataFrame'>\n",
            "Int64Index: 48660 entries, 0 to 54807\n",
            "Data columns (total 14 columns):\n",
            " #   Column                Non-Null Count  Dtype  \n",
            "---  ------                --------------  -----  \n",
            " 0   employee_id           48660 non-null  int64  \n",
            " 1   department            48660 non-null  object \n",
            " 2   region                48660 non-null  object \n",
            " 3   education             48660 non-null  object \n",
            " 4   gender                48660 non-null  object \n",
            " 5   recruitment_channel   48660 non-null  object \n",
            " 6   no_of_trainings       48660 non-null  int64  \n",
            " 7   age                   48660 non-null  int64  \n",
            " 8   previous_year_rating  48660 non-null  float64\n",
            " 9   length_of_service     48660 non-null  int64  \n",
            " 10  KPIs_met80            48660 non-null  int64  \n",
            " 11  awards_won            48660 non-null  int64  \n",
            " 12  avg_training_score    48660 non-null  int64  \n",
            " 13  is_promoted           48660 non-null  int64  \n",
            "dtypes: float64(1), int64(8), object(5)\n",
            "memory usage: 5.6+ MB\n",
            "<class 'pandas.core.frame.DataFrame'>\n",
            "Int64Index: 20819 entries, 1 to 23489\n",
            "Data columns (total 13 columns):\n",
            " #   Column                Non-Null Count  Dtype  \n",
            "---  ------                --------------  -----  \n",
            " 0   employee_id           20819 non-null  int64  \n",
            " 1   department            20819 non-null  object \n",
            " 2   region                20819 non-null  object \n",
            " 3   education             20819 non-null  object \n",
            " 4   gender                20819 non-null  object \n",
            " 5   recruitment_channel   20819 non-null  object \n",
            " 6   no_of_trainings       20819 non-null  int64  \n",
            " 7   age                   20819 non-null  int64  \n",
            " 8   previous_year_rating  20819 non-null  float64\n",
            " 9   length_of_service     20819 non-null  int64  \n",
            " 10  KPIs_met80            20819 non-null  int64  \n",
            " 11  awards_won            20819 non-null  int64  \n",
            " 12  avg_training_score    20819 non-null  int64  \n",
            "dtypes: float64(1), int64(7), object(5)\n",
            "memory usage: 2.2+ MB\n"
          ],
          "name": "stdout"
        }
      ]
    },
    {
      "cell_type": "code",
      "metadata": {
        "id": "moePRgLv8i3-"
      },
      "source": [
        "#After removing the missing value rows, we have around 40k rows for training and 20k rows for test data.\n",
        "#Checking for columns that are not essential for the analysis\n",
        "#Employee_id is just an identifier and can be dropped\n",
        "\n",
        "train.drop('employee_id',axis=1,inplace=True)\n",
        "test.drop('employee_id',axis=1,inplace=True)"
      ],
      "execution_count": null,
      "outputs": []
    },
    {
      "cell_type": "code",
      "metadata": {
        "id": "44zk18i_9icM",
        "colab": {
          "base_uri": "https://localhost:8080/",
          "height": 728
        },
        "outputId": "70e4e065-9c3a-46ee-b163-deda9ece47c7"
      },
      "source": [
        "print(train.info())\n",
        "print(test.info())"
      ],
      "execution_count": null,
      "outputs": [
        {
          "output_type": "stream",
          "text": [
            "<class 'pandas.core.frame.DataFrame'>\n",
            "Int64Index: 48660 entries, 0 to 54807\n",
            "Data columns (total 13 columns):\n",
            " #   Column                Non-Null Count  Dtype  \n",
            "---  ------                --------------  -----  \n",
            " 0   department            48660 non-null  object \n",
            " 1   region                48660 non-null  object \n",
            " 2   education             48660 non-null  object \n",
            " 3   gender                48660 non-null  object \n",
            " 4   recruitment_channel   48660 non-null  object \n",
            " 5   no_of_trainings       48660 non-null  int64  \n",
            " 6   age                   48660 non-null  int64  \n",
            " 7   previous_year_rating  48660 non-null  float64\n",
            " 8   length_of_service     48660 non-null  int64  \n",
            " 9   KPIs_met80            48660 non-null  int64  \n",
            " 10  awards_won            48660 non-null  int64  \n",
            " 11  avg_training_score    48660 non-null  int64  \n",
            " 12  is_promoted           48660 non-null  int64  \n",
            "dtypes: float64(1), int64(7), object(5)\n",
            "memory usage: 5.2+ MB\n",
            "None\n",
            "<class 'pandas.core.frame.DataFrame'>\n",
            "Int64Index: 20819 entries, 1 to 23489\n",
            "Data columns (total 12 columns):\n",
            " #   Column                Non-Null Count  Dtype  \n",
            "---  ------                --------------  -----  \n",
            " 0   department            20819 non-null  object \n",
            " 1   region                20819 non-null  object \n",
            " 2   education             20819 non-null  object \n",
            " 3   gender                20819 non-null  object \n",
            " 4   recruitment_channel   20819 non-null  object \n",
            " 5   no_of_trainings       20819 non-null  int64  \n",
            " 6   age                   20819 non-null  int64  \n",
            " 7   previous_year_rating  20819 non-null  float64\n",
            " 8   length_of_service     20819 non-null  int64  \n",
            " 9   KPIs_met80            20819 non-null  int64  \n",
            " 10  awards_won            20819 non-null  int64  \n",
            " 11  avg_training_score    20819 non-null  int64  \n",
            "dtypes: float64(1), int64(6), object(5)\n",
            "memory usage: 2.1+ MB\n",
            "None\n"
          ],
          "name": "stdout"
        }
      ]
    },
    {
      "cell_type": "code",
      "metadata": {
        "id": "yCGAmlKM9qWH",
        "colab": {
          "base_uri": "https://localhost:8080/",
          "height": 382
        },
        "outputId": "eebc2e7f-60a9-4c2c-cc2e-0c6523934a05"
      },
      "source": [
        "#Exploring the dataset to derive some useful insights about the promotions\n",
        "#Is there a gender impact on promotions\n",
        "pert = train.groupby(['is_promoted','gender'])\n",
        "\n",
        "female_count = train['gender'].value_counts()[1]\n",
        "male_count = train['gender'].value_counts()[0]\n",
        "\n",
        "print(female_count)\n",
        "print(male_count)\n",
        "\n",
        "female_promotion_pert = (pert.get_group((1,'f')).shape[0]/female_count)*100   \n",
        "male_promotion_pert = (pert.get_group((1,'m')).shape[0]/male_count)*100\n",
        "\n",
        "print(female_promotion_pert)  # Percentage of females promoted\n",
        "print(male_promotion_pert)    # Percentage of males promoted\n",
        "\n",
        "plt.bar(range(2),[female_promotion_pert,male_promotion_pert])\n",
        "plt.xlabel('Gender')\n",
        "plt.ylabel('Promotion %')\n",
        "plt.xticks(np.arange(2), ['f','m'])\n",
        "plt.title('Promotion % by Gender')\n",
        "\n",
        "#There does not seem to be a significant impact on promotions based on gender as seen from the graph"
      ],
      "execution_count": null,
      "outputs": [
        {
          "output_type": "stream",
          "text": [
            "14808\n",
            "33852\n",
            "9.204484062668827\n",
            "8.475127023514121\n"
          ],
          "name": "stdout"
        },
        {
          "output_type": "execute_result",
          "data": {
            "text/plain": [
              "Text(0.5, 1.0, 'Promotion % by Gender')"
            ]
          },
          "metadata": {
            "tags": []
          },
          "execution_count": 17
        },
        {
          "output_type": "display_data",
          "data": {
            "image/png": "[encoded data removed]",
            "text/plain": [
              "<Figure size 432x288 with 1 Axes>"
            ]
          },
          "metadata": {
            "tags": [],
            "needs_background": "light"
          }
        }
      ]
    },
    {
      "cell_type": "code",
      "metadata": {
        "id": "1JL6tHJijJtz",
        "colab": {
          "base_uri": "https://localhost:8080/",
          "height": 672
        },
        "outputId": "14b8e8c5-ffb2-4019-cded-f051f31cadd9"
      },
      "source": [
        "# Departments with more number of promotions\n",
        "plt.figure(figsize=(15,5))\n",
        "sns.countplot(x=\"department\", hue=\"is_promoted\",\n",
        "           data=train)\n",
        "\n",
        "pd.crosstab(train.department,train.is_promoted)\n",
        "\n",
        "#Percentages\n",
        "pd.crosstab(train.department,train.is_promoted, normalize='index')\n",
        "\n",
        "#Technology has the highest promotion percentage compared to other departments"
      ],
      "execution_count": null,
      "outputs": [
        {
          "output_type": "execute_result",
          "data": {
            "text/html": [
              "<div>\n",
              "<style scoped>\n",
              "    .dataframe tbody tr th:only-of-type {\n",
              "        vertical-align: middle;\n",
              "    }\n",
              "\n",
              "    .dataframe tbody tr th {\n",
              "        vertical-align: top;\n",
              "    }\n",
              "\n",
              "    .dataframe thead th {\n",
              "        text-align: right;\n",
              "    }\n",
              "</style>\n",
              "<table border=\"1\" class=\"dataframe\">\n",
              "  <thead>\n",
              "    <tr style=\"text-align: right;\">\n",
              "      <th>is_promoted</th>\n",
              "      <th>0</th>\n",
              "      <th>1</th>\n",
              "    </tr>\n",
              "    <tr>\n",
              "      <th>department</th>\n",
              "      <th></th>\n",
              "      <th></th>\n",
              "    </tr>\n",
              "  </thead>\n",
              "  <tbody>\n",
              "    <tr>\n",
              "      <th>Analytics</th>\n",
              "      <td>0.903471</td>\n",
              "      <td>0.096529</td>\n",
              "    </tr>\n",
              "    <tr>\n",
              "      <th>Finance</th>\n",
              "      <td>0.917981</td>\n",
              "      <td>0.082019</td>\n",
              "    </tr>\n",
              "    <tr>\n",
              "      <th>HR</th>\n",
              "      <td>0.943511</td>\n",
              "      <td>0.056489</td>\n",
              "    </tr>\n",
              "    <tr>\n",
              "      <th>Legal</th>\n",
              "      <td>0.951557</td>\n",
              "      <td>0.048443</td>\n",
              "    </tr>\n",
              "    <tr>\n",
              "      <th>Operations</th>\n",
              "      <td>0.907177</td>\n",
              "      <td>0.092823</td>\n",
              "    </tr>\n",
              "    <tr>\n",
              "      <th>Procurement</th>\n",
              "      <td>0.901973</td>\n",
              "      <td>0.098027</td>\n",
              "    </tr>\n",
              "    <tr>\n",
              "      <th>R&amp;D</th>\n",
              "      <td>0.935050</td>\n",
              "      <td>0.064950</td>\n",
              "    </tr>\n",
              "    <tr>\n",
              "      <th>Sales &amp; Marketing</th>\n",
              "      <td>0.925557</td>\n",
              "      <td>0.074443</td>\n",
              "    </tr>\n",
              "    <tr>\n",
              "      <th>Technology</th>\n",
              "      <td>0.893264</td>\n",
              "      <td>0.106736</td>\n",
              "    </tr>\n",
              "  </tbody>\n",
              "</table>\n",
              "</div>"
            ],
            "text/plain": [
              "is_promoted               0         1\n",
              "department                           \n",
              "Analytics          0.903471  0.096529\n",
              "Finance            0.917981  0.082019\n",
              "HR                 0.943511  0.056489\n",
              "Legal              0.951557  0.048443\n",
              "Operations         0.907177  0.092823\n",
              "Procurement        0.901973  0.098027\n",
              "R&D                0.935050  0.064950\n",
              "Sales & Marketing  0.925557  0.074443\n",
              "Technology         0.893264  0.106736"
            ]
          },
          "metadata": {
            "tags": []
          },
          "execution_count": 18
        },
        {
          "output_type": "display_data",
          "data": {
            "image/png": "[encoded data removed]",
            "text/plain": [
              "<Figure size 1080x360 with 1 Axes>"
            ]
          },
          "metadata": {
            "tags": [],
            "needs_background": "light"
          }
        }
      ]
    },
    {
      "cell_type": "code",
      "metadata": {
        "id": "UQWhXPwB1Emc",
        "colab": {
          "base_uri": "https://localhost:8080/",
          "height": 488
        },
        "outputId": "cd2b9b11-86e7-4da7-ff88-9a9b9d4aabcf"
      },
      "source": [
        "# Education level with more number of promotions\n",
        "plt.figure(figsize=(15,5))\n",
        "sns.countplot(x=\"education\", hue=\"is_promoted\",\n",
        "           data=train)\n",
        "\n",
        "#Percentages\n",
        "pd.crosstab(train.education,train.is_promoted, normalize='index')\n",
        "\n",
        "#Percentage of employees promoted, with Master's and above level of education, seems to be more than others"
      ],
      "execution_count": null,
      "outputs": [
        {
          "output_type": "execute_result",
          "data": {
            "text/html": [
              "<div>\n",
              "<style scoped>\n",
              "    .dataframe tbody tr th:only-of-type {\n",
              "        vertical-align: middle;\n",
              "    }\n",
              "\n",
              "    .dataframe tbody tr th {\n",
              "        vertical-align: top;\n",
              "    }\n",
              "\n",
              "    .dataframe thead th {\n",
              "        text-align: right;\n",
              "    }\n",
              "</style>\n",
              "<table border=\"1\" class=\"dataframe\">\n",
              "  <thead>\n",
              "    <tr style=\"text-align: right;\">\n",
              "      <th>is_promoted</th>\n",
              "      <th>0</th>\n",
              "      <th>1</th>\n",
              "    </tr>\n",
              "    <tr>\n",
              "      <th>education</th>\n",
              "      <th></th>\n",
              "      <th></th>\n",
              "    </tr>\n",
              "  </thead>\n",
              "  <tbody>\n",
              "    <tr>\n",
              "      <th>Bachelor's</th>\n",
              "      <td>0.918183</td>\n",
              "      <td>0.081817</td>\n",
              "    </tr>\n",
              "    <tr>\n",
              "      <th>Below Secondary</th>\n",
              "      <td>0.921397</td>\n",
              "      <td>0.078603</td>\n",
              "    </tr>\n",
              "    <tr>\n",
              "      <th>Master's &amp; above</th>\n",
              "      <td>0.901135</td>\n",
              "      <td>0.098865</td>\n",
              "    </tr>\n",
              "  </tbody>\n",
              "</table>\n",
              "</div>"
            ],
            "text/plain": [
              "is_promoted              0         1\n",
              "education                           \n",
              "Bachelor's        0.918183  0.081817\n",
              "Below Secondary   0.921397  0.078603\n",
              "Master's & above  0.901135  0.098865"
            ]
          },
          "metadata": {
            "tags": []
          },
          "execution_count": 19
        },
        {
          "output_type": "display_data",
          "data": {
            "image/png": "[encoded data removed]",
            "text/plain": [
              "<Figure size 1080x360 with 1 Axes>"
            ]
          },
          "metadata": {
            "tags": [],
            "needs_background": "light"
          }
        }
      ]
    },
    {
      "cell_type": "code",
      "metadata": {
        "id": "8DxgW8qztK5z",
        "colab": {
          "base_uri": "https://localhost:8080/",
          "height": 301
        },
        "outputId": "e5effb1d-a997-4c52-a899-a2f3167f8843"
      },
      "source": [
        "#Experience and no-of-trainings are correlated?\n",
        "sns.lineplot(x='length_of_service', y='no_of_trainings',data=train)\n",
        "plt.ylim(0,10)\n",
        "\n",
        "#There is not much corelation between number of trainings and length of service"
      ],
      "execution_count": null,
      "outputs": [
        {
          "output_type": "execute_result",
          "data": {
            "text/plain": [
              "(0.0, 10.0)"
            ]
          },
          "metadata": {
            "tags": []
          },
          "execution_count": 20
        },
        {
          "output_type": "display_data",
          "data": {
            "image/png": "[encoded data removed]",
            "text/plain": [
              "<Figure size 432x288 with 1 Axes>"
            ]
          },
          "metadata": {
            "tags": [],
            "needs_background": "light"
          }
        }
      ]
    },
    {
      "cell_type": "code",
      "metadata": {
        "id": "SbiFHn0Uv18Z",
        "colab": {
          "base_uri": "https://localhost:8080/",
          "height": 1000
        },
        "outputId": "c46eddf4-7d8a-4a2c-bbdd-e7e6250ea7b4"
      },
      "source": [
        "#Region and promotions\n",
        "\n",
        "pd.crosstab(train.region,train.is_promoted, normalize='index')\n",
        "\n",
        "#There are some regions with more promotions and some with very less number of promotions.\n",
        "#Region seems to have some impact on the promotions"
      ],
      "execution_count": null,
      "outputs": [
        {
          "output_type": "execute_result",
          "data": {
            "text/html": [
              "<div>\n",
              "<style scoped>\n",
              "    .dataframe tbody tr th:only-of-type {\n",
              "        vertical-align: middle;\n",
              "    }\n",
              "\n",
              "    .dataframe tbody tr th {\n",
              "        vertical-align: top;\n",
              "    }\n",
              "\n",
              "    .dataframe thead th {\n",
              "        text-align: right;\n",
              "    }\n",
              "</style>\n",
              "<table border=\"1\" class=\"dataframe\">\n",
              "  <thead>\n",
              "    <tr style=\"text-align: right;\">\n",
              "      <th>is_promoted</th>\n",
              "      <th>0</th>\n",
              "      <th>1</th>\n",
              "    </tr>\n",
              "    <tr>\n",
              "      <th>region</th>\n",
              "      <th></th>\n",
              "      <th></th>\n",
              "    </tr>\n",
              "  </thead>\n",
              "  <tbody>\n",
              "    <tr>\n",
              "      <th>region_1</th>\n",
              "      <td>0.900542</td>\n",
              "      <td>0.099458</td>\n",
              "    </tr>\n",
              "    <tr>\n",
              "      <th>region_10</th>\n",
              "      <td>0.921824</td>\n",
              "      <td>0.078176</td>\n",
              "    </tr>\n",
              "    <tr>\n",
              "      <th>region_11</th>\n",
              "      <td>0.942809</td>\n",
              "      <td>0.057191</td>\n",
              "    </tr>\n",
              "    <tr>\n",
              "      <th>region_12</th>\n",
              "      <td>0.938824</td>\n",
              "      <td>0.061176</td>\n",
              "    </tr>\n",
              "    <tr>\n",
              "      <th>region_13</th>\n",
              "      <td>0.912302</td>\n",
              "      <td>0.087698</td>\n",
              "    </tr>\n",
              "    <tr>\n",
              "      <th>region_14</th>\n",
              "      <td>0.925974</td>\n",
              "      <td>0.074026</td>\n",
              "    </tr>\n",
              "    <tr>\n",
              "      <th>region_15</th>\n",
              "      <td>0.917596</td>\n",
              "      <td>0.082404</td>\n",
              "    </tr>\n",
              "    <tr>\n",
              "      <th>region_16</th>\n",
              "      <td>0.930250</td>\n",
              "      <td>0.069750</td>\n",
              "    </tr>\n",
              "    <tr>\n",
              "      <th>region_17</th>\n",
              "      <td>0.865229</td>\n",
              "      <td>0.134771</td>\n",
              "    </tr>\n",
              "    <tr>\n",
              "      <th>region_18</th>\n",
              "      <td>0.958333</td>\n",
              "      <td>0.041667</td>\n",
              "    </tr>\n",
              "    <tr>\n",
              "      <th>region_19</th>\n",
              "      <td>0.941527</td>\n",
              "      <td>0.058473</td>\n",
              "    </tr>\n",
              "    <tr>\n",
              "      <th>region_2</th>\n",
              "      <td>0.918139</td>\n",
              "      <td>0.081861</td>\n",
              "    </tr>\n",
              "    <tr>\n",
              "      <th>region_20</th>\n",
              "      <td>0.942308</td>\n",
              "      <td>0.057692</td>\n",
              "    </tr>\n",
              "    <tr>\n",
              "      <th>region_21</th>\n",
              "      <td>0.954054</td>\n",
              "      <td>0.045946</td>\n",
              "    </tr>\n",
              "    <tr>\n",
              "      <th>region_22</th>\n",
              "      <td>0.884269</td>\n",
              "      <td>0.115731</td>\n",
              "    </tr>\n",
              "    <tr>\n",
              "      <th>region_23</th>\n",
              "      <td>0.880435</td>\n",
              "      <td>0.119565</td>\n",
              "    </tr>\n",
              "    <tr>\n",
              "      <th>region_24</th>\n",
              "      <td>0.961039</td>\n",
              "      <td>0.038961</td>\n",
              "    </tr>\n",
              "    <tr>\n",
              "      <th>region_25</th>\n",
              "      <td>0.865465</td>\n",
              "      <td>0.134535</td>\n",
              "    </tr>\n",
              "    <tr>\n",
              "      <th>region_26</th>\n",
              "      <td>0.934893</td>\n",
              "      <td>0.065107</td>\n",
              "    </tr>\n",
              "    <tr>\n",
              "      <th>region_27</th>\n",
              "      <td>0.918195</td>\n",
              "      <td>0.081805</td>\n",
              "    </tr>\n",
              "    <tr>\n",
              "      <th>region_28</th>\n",
              "      <td>0.881015</td>\n",
              "      <td>0.118985</td>\n",
              "    </tr>\n",
              "    <tr>\n",
              "      <th>region_29</th>\n",
              "      <td>0.959821</td>\n",
              "      <td>0.040179</td>\n",
              "    </tr>\n",
              "    <tr>\n",
              "      <th>region_3</th>\n",
              "      <td>0.888218</td>\n",
              "      <td>0.111782</td>\n",
              "    </tr>\n",
              "    <tr>\n",
              "      <th>region_30</th>\n",
              "      <td>0.915282</td>\n",
              "      <td>0.084718</td>\n",
              "    </tr>\n",
              "    <tr>\n",
              "      <th>region_31</th>\n",
              "      <td>0.941489</td>\n",
              "      <td>0.058511</td>\n",
              "    </tr>\n",
              "    <tr>\n",
              "      <th>region_32</th>\n",
              "      <td>0.952135</td>\n",
              "      <td>0.047865</td>\n",
              "    </tr>\n",
              "    <tr>\n",
              "      <th>region_33</th>\n",
              "      <td>0.961538</td>\n",
              "      <td>0.038462</td>\n",
              "    </tr>\n",
              "    <tr>\n",
              "      <th>region_34</th>\n",
              "      <td>0.968379</td>\n",
              "      <td>0.031621</td>\n",
              "    </tr>\n",
              "    <tr>\n",
              "      <th>region_4</th>\n",
              "      <td>0.853014</td>\n",
              "      <td>0.146986</td>\n",
              "    </tr>\n",
              "    <tr>\n",
              "      <th>region_5</th>\n",
              "      <td>0.955072</td>\n",
              "      <td>0.044928</td>\n",
              "    </tr>\n",
              "    <tr>\n",
              "      <th>region_6</th>\n",
              "      <td>0.955095</td>\n",
              "      <td>0.044905</td>\n",
              "    </tr>\n",
              "    <tr>\n",
              "      <th>region_7</th>\n",
              "      <td>0.891517</td>\n",
              "      <td>0.108483</td>\n",
              "    </tr>\n",
              "    <tr>\n",
              "      <th>region_8</th>\n",
              "      <td>0.911765</td>\n",
              "      <td>0.088235</td>\n",
              "    </tr>\n",
              "    <tr>\n",
              "      <th>region_9</th>\n",
              "      <td>0.975309</td>\n",
              "      <td>0.024691</td>\n",
              "    </tr>\n",
              "  </tbody>\n",
              "</table>\n",
              "</div>"
            ],
            "text/plain": [
              "is_promoted         0         1\n",
              "region                         \n",
              "region_1     0.900542  0.099458\n",
              "region_10    0.921824  0.078176\n",
              "region_11    0.942809  0.057191\n",
              "region_12    0.938824  0.061176\n",
              "region_13    0.912302  0.087698\n",
              "region_14    0.925974  0.074026\n",
              "region_15    0.917596  0.082404\n",
              "region_16    0.930250  0.069750\n",
              "region_17    0.865229  0.134771\n",
              "region_18    0.958333  0.041667\n",
              "region_19    0.941527  0.058473\n",
              "region_2     0.918139  0.081861\n",
              "region_20    0.942308  0.057692\n",
              "region_21    0.954054  0.045946\n",
              "region_22    0.884269  0.115731\n",
              "region_23    0.880435  0.119565\n",
              "region_24    0.961039  0.038961\n",
              "region_25    0.865465  0.134535\n",
              "region_26    0.934893  0.065107\n",
              "region_27    0.918195  0.081805\n",
              "region_28    0.881015  0.118985\n",
              "region_29    0.959821  0.040179\n",
              "region_3     0.888218  0.111782\n",
              "region_30    0.915282  0.084718\n",
              "region_31    0.941489  0.058511\n",
              "region_32    0.952135  0.047865\n",
              "region_33    0.961538  0.038462\n",
              "region_34    0.968379  0.031621\n",
              "region_4     0.853014  0.146986\n",
              "region_5     0.955072  0.044928\n",
              "region_6     0.955095  0.044905\n",
              "region_7     0.891517  0.108483\n",
              "region_8     0.911765  0.088235\n",
              "region_9     0.975309  0.024691"
            ]
          },
          "metadata": {
            "tags": []
          },
          "execution_count": 21
        }
      ]
    },
    {
      "cell_type": "code",
      "metadata": {
        "id": "QIxkfTr6trHV",
        "colab": {
          "base_uri": "https://localhost:8080/",
          "height": 351
        },
        "outputId": "de75b4ee-838a-4029-a2a0-5e38b9943bb2"
      },
      "source": [
        "#Age impact on promotion\n",
        "plt.figure(figsize=(15,5))\n",
        "sns.countplot(x=\"age\", hue=\"is_promoted\",\n",
        "           data=train)\n"
      ],
      "execution_count": null,
      "outputs": [
        {
          "output_type": "execute_result",
          "data": {
            "text/plain": [
              "<matplotlib.axes._subplots.AxesSubplot at 0x7ff312731a20>"
            ]
          },
          "metadata": {
            "tags": []
          },
          "execution_count": 22
        },
        {
          "output_type": "display_data",
          "data": {
            "image/png": "[encoded data removed]",
            "text/plain": [
              "<Figure size 1080x360 with 1 Axes>"
            ]
          },
          "metadata": {
            "tags": [],
            "needs_background": "light"
          }
        }
      ]
    },
    {
      "cell_type": "code",
      "metadata": {
        "id": "qde7KI3fuF9y",
        "colab": {
          "base_uri": "https://localhost:8080/",
          "height": 295
        },
        "outputId": "82fad752-ae87-46dc-821c-e34639b9f124"
      },
      "source": [
        "#KPI's met and promotion correlation\n",
        "pd.crosstab(train.is_promoted,train.KPIs_met80, normalize='index').plot.bar()\n",
        "\n",
        "#Those employees who met the KPI's have been promoted more compared to others as seen from the plotted graph."
      ],
      "execution_count": null,
      "outputs": [
        {
          "output_type": "execute_result",
          "data": {
            "text/plain": [
              "<matplotlib.axes._subplots.AxesSubplot at 0x7ff312517748>"
            ]
          },
          "metadata": {
            "tags": []
          },
          "execution_count": 23
        },
        {
          "output_type": "display_data",
          "data": {
            "image/png": "[encoded data removed]",
            "text/plain": [
              "<Figure size 432x288 with 1 Axes>"
            ]
          },
          "metadata": {
            "tags": [],
            "needs_background": "light"
          }
        }
      ]
    },
    {
      "cell_type": "code",
      "metadata": {
        "id": "m3rLx55yz1iB",
        "colab": {
          "base_uri": "https://localhost:8080/",
          "height": 1000
        },
        "outputId": "8c8f5f50-b838-4cad-8494-ec8810758769"
      },
      "source": [
        "#Distribution of the numeric columns\n",
        "#Age, experience, prior rating, avg_training_score\n",
        "\n",
        "sns.boxplot(x='is_promoted',y='age',data=train)\n",
        "plt.show()\n",
        "sns.boxplot(x='is_promoted',y='length_of_service',data=train)\n",
        "plt.show()\n",
        "sns.boxplot(x='is_promoted',y='previous_year_rating',data=train)\n",
        "plt.show()\n",
        "sns.boxplot(x='is_promoted',y='avg_training_score',data=train)\n",
        "plt.show()\n",
        "\n",
        "#From the below graph we can see that previous_year_rating and avg_training_score has a huge impact on promotions"
      ],
      "execution_count": null,
      "outputs": [
        {
          "output_type": "display_data",
          "data": {
            "image/png": "[encoded data removed]",
            "text/plain": [
              "<Figure size 432x288 with 1 Axes>"
            ]
          },
          "metadata": {
            "tags": [],
            "needs_background": "light"
          }
        },
        {
          "output_type": "display_data",
          "data": {
            "image/png": "[encoded data removed]",
            "text/plain": [
              "<Figure size 432x288 with 1 Axes>"
            ]
          },
          "metadata": {
            "tags": [],
            "needs_background": "light"
          }
        },
        {
          "output_type": "display_data",
          "data": {
            "image/png": "[encoded data removed]",
            "text/plain": [
              "<Figure size 432x288 with 1 Axes>"
            ]
          },
          "metadata": {
            "tags": [],
            "needs_background": "light"
          }
        },
        {
          "output_type": "display_data",
          "data": {
            "image/png": "[encoded data removed]",
            "text/plain": [
              "<Figure size 432x288 with 1 Axes>"
            ]
          },
          "metadata": {
            "tags": [],
            "needs_background": "light"
          }
        }
      ]
    },
    {
      "cell_type": "markdown",
      "metadata": {
        "id": "mNzdRy1vkXq1"
      },
      "source": [
        "## Transform Variables ##\n"
      ]
    },
    {
      "cell_type": "code",
      "metadata": {
        "id": "4iV7pod53Crp",
        "colab": {
          "base_uri": "https://localhost:8080/",
          "height": 364
        },
        "outputId": "1e58a42c-0b2a-498b-9af2-57e6cff04854"
      },
      "source": [
        "#Creating dummies for categorical variables for modelling purposes\n",
        "train.info()"
      ],
      "execution_count": null,
      "outputs": [
        {
          "output_type": "stream",
          "text": [
            "<class 'pandas.core.frame.DataFrame'>\n",
            "Int64Index: 48660 entries, 0 to 54807\n",
            "Data columns (total 13 columns):\n",
            " #   Column                Non-Null Count  Dtype  \n",
            "---  ------                --------------  -----  \n",
            " 0   department            48660 non-null  object \n",
            " 1   region                48660 non-null  object \n",
            " 2   education             48660 non-null  object \n",
            " 3   gender                48660 non-null  object \n",
            " 4   recruitment_channel   48660 non-null  object \n",
            " 5   no_of_trainings       48660 non-null  int64  \n",
            " 6   age                   48660 non-null  int64  \n",
            " 7   previous_year_rating  48660 non-null  float64\n",
            " 8   length_of_service     48660 non-null  int64  \n",
            " 9   KPIs_met80            48660 non-null  int64  \n",
            " 10  awards_won            48660 non-null  int64  \n",
            " 11  avg_training_score    48660 non-null  int64  \n",
            " 12  is_promoted           48660 non-null  int64  \n",
            "dtypes: float64(1), int64(7), object(5)\n",
            "memory usage: 6.4+ MB\n"
          ],
          "name": "stdout"
        }
      ]
    },
    {
      "cell_type": "code",
      "metadata": {
        "id": "bCbRkrpmDTtv",
        "colab": {
          "base_uri": "https://localhost:8080/",
          "height": 87
        },
        "outputId": "7718d96c-389f-4b59-e732-c80500d17225"
      },
      "source": [
        "train.recruitment_channel.value_counts()"
      ],
      "execution_count": null,
      "outputs": [
        {
          "output_type": "execute_result",
          "data": {
            "text/plain": [
              "other       27017\n",
              "sourcing    20623\n",
              "referred     1020\n",
              "Name: recruitment_channel, dtype: int64"
            ]
          },
          "metadata": {
            "tags": []
          },
          "execution_count": 26
        }
      ]
    },
    {
      "cell_type": "code",
      "metadata": {
        "id": "ZuROmTzzHHBB",
        "colab": {
          "base_uri": "https://localhost:8080/",
          "height": 69
        },
        "outputId": "57711665-9bc6-40e2-fabd-7ec66232f2e1"
      },
      "source": [
        "#Target column distribution\n",
        "\n",
        "train.is_promoted.value_counts()"
      ],
      "execution_count": null,
      "outputs": [
        {
          "output_type": "execute_result",
          "data": {
            "text/plain": [
              "0    44428\n",
              "1     4232\n",
              "Name: is_promoted, dtype: int64"
            ]
          },
          "metadata": {
            "tags": []
          },
          "execution_count": 27
        }
      ]
    },
    {
      "cell_type": "code",
      "metadata": {
        "id": "b57IKU8VyeHJ",
        "colab": {
          "base_uri": "https://localhost:8080/",
          "height": 35
        },
        "outputId": "b22f33bd-a13a-4922-e62e-9ec59f750216"
      },
      "source": [
        "# a dummy model that just predicts the majority class will have an accuracy of:\n",
        "44428/(4232+44428)"
      ],
      "execution_count": null,
      "outputs": [
        {
          "output_type": "execute_result",
          "data": {
            "text/plain": [
              "0.9130291820797369"
            ]
          },
          "metadata": {
            "tags": []
          },
          "execution_count": 28
        }
      ]
    },
    {
      "cell_type": "code",
      "metadata": {
        "id": "ywsPtQdaYfjE"
      },
      "source": [
        "#Since the dataset is imbalanced, we are upsampling the minority class so that the models don't just predict majority class and still give a high accuracy\n",
        "#This will ensure that the accuracy will not be misleading\n",
        "train_majority = train[train.is_promoted==0]\n",
        "train_minority = train[train.is_promoted==1]\n",
        "\n",
        "\n",
        "train_sampled = resample(train_minority, \n",
        "                                 replace=True,     # sample with replacement\n",
        "                                 n_samples=40000,    # to be similar to majority class\n",
        "                                 random_state=123)\n",
        "\n",
        "train_f = pd.concat([train_majority, train_sampled])"
      ],
      "execution_count": null,
      "outputs": []
    },
    {
      "cell_type": "code",
      "metadata": {
        "id": "1HQH0PbMaDcX",
        "colab": {
          "base_uri": "https://localhost:8080/",
          "height": 69
        },
        "outputId": "a49c1a97-34fe-4bdf-abbc-58f6b844ea30"
      },
      "source": [
        "# Checking the target column distribution again, after resampling \n",
        "train_f.is_promoted.value_counts()"
      ],
      "execution_count": null,
      "outputs": [
        {
          "output_type": "execute_result",
          "data": {
            "text/plain": [
              "0    44428\n",
              "1    40000\n",
              "Name: is_promoted, dtype: int64"
            ]
          },
          "metadata": {
            "tags": []
          },
          "execution_count": 30
        }
      ]
    },
    {
      "cell_type": "code",
      "metadata": {
        "id": "Lq3AAIOdy4Qq",
        "colab": {
          "base_uri": "https://localhost:8080/",
          "height": 260
        },
        "outputId": "efb2f41e-f857-4b95-a53e-3d798c13d59e"
      },
      "source": [
        "# take a look at the data \n",
        "train_f.head"
      ],
      "execution_count": null,
      "outputs": [
        {
          "output_type": "execute_result",
          "data": {
            "text/plain": [
              "<bound method NDFrame.head of               department     region  ... avg_training_score is_promoted\n",
              "0      Sales & Marketing   region_7  ...                 49           0\n",
              "1             Operations  region_22  ...                 60           0\n",
              "2      Sales & Marketing  region_19  ...                 50           0\n",
              "3      Sales & Marketing  region_23  ...                 50           0\n",
              "4             Technology  region_26  ...                 73           0\n",
              "...                  ...        ...  ...                ...         ...\n",
              "27606        Procurement  region_16  ...                 68           1\n",
              "19287        Procurement   region_2  ...                 68           1\n",
              "28878         Technology   region_2  ...                 80           1\n",
              "29902          Analytics   region_2  ...                 86           1\n",
              "41481         Operations  region_31  ...                 57           1\n",
              "\n",
              "[84428 rows x 13 columns]>"
            ]
          },
          "metadata": {
            "tags": []
          },
          "execution_count": 31
        }
      ]
    },
    {
      "cell_type": "code",
      "metadata": {
        "id": "esV2YUxDa2MI",
        "colab": {
          "base_uri": "https://localhost:8080/",
          "height": 35
        },
        "outputId": "046efeed-bf09-40b4-aad8-f5cd3a059290"
      },
      "source": [
        "# After resampling, a dummy model predicting majority class will give an accuracy of:\n",
        "\n",
        "44428/(44428+40000)\n",
        "\n",
        "# so our model should have a better accuracy that this value"
      ],
      "execution_count": null,
      "outputs": [
        {
          "output_type": "execute_result",
          "data": {
            "text/plain": [
              "0.5262235277396125"
            ]
          },
          "metadata": {
            "tags": []
          },
          "execution_count": 32
        }
      ]
    },
    {
      "cell_type": "code",
      "metadata": {
        "id": "4tPzKPybTXs6"
      },
      "source": [
        "# Save the processed data to a csv file \n",
        "processed_data = pd.DataFrame(train_f)\n",
        "processed_data.to_csv('/content/drive/Shared drives/OPIM 5509 Group 8 Project/Project#1/Data/Processed/processed_data.csv')\n"
      ],
      "execution_count": null,
      "outputs": []
    },
    {
      "cell_type": "code",
      "metadata": {
        "id": "RYxw8zL0Jp-P",
        "colab": {
          "base_uri": "https://localhost:8080/",
          "height": 121
        },
        "outputId": "0c1fdf2c-9424-4643-b969-990159a5e919"
      },
      "source": [
        "#Basic logistic regression model\n",
        "#Splitting the data into train and validation\n",
        "#test data rows are for prediction\n",
        "\n",
        "X = train_f.drop('is_promoted', axis=1)\n",
        "\n",
        "print(X.shape)\n",
        "\n",
        "Y = train_f['is_promoted']\n",
        "\n",
        "print(Y.shape)\n",
        "\n",
        "X_train, X_valid, y_train, y_valid = train_test_split(X, Y,\n",
        "                                                    test_size = 0.2,\n",
        "                                                    shuffle = True,\n",
        "                                                    random_state = 42)\n",
        "print(X_train.shape)\n",
        "print(y_train.shape)\n",
        "print(X_valid.shape)\n",
        "print(y_valid.shape)"
      ],
      "execution_count": null,
      "outputs": [
        {
          "output_type": "stream",
          "text": [
            "(84428, 12)\n",
            "(84428,)\n",
            "(67542, 12)\n",
            "(67542,)\n",
            "(16886, 12)\n",
            "(16886,)\n"
          ],
          "name": "stdout"
        }
      ]
    },
    {
      "cell_type": "code",
      "metadata": {
        "id": "AlhCJKKwwNIS",
        "colab": {
          "base_uri": "https://localhost:8080/",
          "height": 274
        },
        "outputId": "4d098f82-54b9-4e53-ca0e-abce70d0e94d"
      },
      "source": [
        "X_train.head(5)"
      ],
      "execution_count": null,
      "outputs": [
        {
          "output_type": "execute_result",
          "data": {
            "text/html": [
              "<div>\n",
              "<style scoped>\n",
              "    .dataframe tbody tr th:only-of-type {\n",
              "        vertical-align: middle;\n",
              "    }\n",
              "\n",
              "    .dataframe tbody tr th {\n",
              "        vertical-align: top;\n",
              "    }\n",
              "\n",
              "    .dataframe thead th {\n",
              "        text-align: right;\n",
              "    }\n",
              "</style>\n",
              "<table border=\"1\" class=\"dataframe\">\n",
              "  <thead>\n",
              "    <tr style=\"text-align: right;\">\n",
              "      <th></th>\n",
              "      <th>department</th>\n",
              "      <th>region</th>\n",
              "      <th>education</th>\n",
              "      <th>gender</th>\n",
              "      <th>recruitment_channel</th>\n",
              "      <th>no_of_trainings</th>\n",
              "      <th>age</th>\n",
              "      <th>previous_year_rating</th>\n",
              "      <th>length_of_service</th>\n",
              "      <th>KPIs_met80</th>\n",
              "      <th>awards_won</th>\n",
              "      <th>avg_training_score</th>\n",
              "    </tr>\n",
              "  </thead>\n",
              "  <tbody>\n",
              "    <tr>\n",
              "      <th>52375</th>\n",
              "      <td>Sales &amp; Marketing</td>\n",
              "      <td>region_22</td>\n",
              "      <td>Bachelor's</td>\n",
              "      <td>f</td>\n",
              "      <td>sourcing</td>\n",
              "      <td>1</td>\n",
              "      <td>26</td>\n",
              "      <td>5.0</td>\n",
              "      <td>3</td>\n",
              "      <td>1</td>\n",
              "      <td>0</td>\n",
              "      <td>47</td>\n",
              "    </tr>\n",
              "    <tr>\n",
              "      <th>26244</th>\n",
              "      <td>Technology</td>\n",
              "      <td>region_22</td>\n",
              "      <td>Bachelor's</td>\n",
              "      <td>f</td>\n",
              "      <td>referred</td>\n",
              "      <td>1</td>\n",
              "      <td>28</td>\n",
              "      <td>5.0</td>\n",
              "      <td>2</td>\n",
              "      <td>1</td>\n",
              "      <td>0</td>\n",
              "      <td>79</td>\n",
              "    </tr>\n",
              "    <tr>\n",
              "      <th>33584</th>\n",
              "      <td>Sales &amp; Marketing</td>\n",
              "      <td>region_22</td>\n",
              "      <td>Bachelor's</td>\n",
              "      <td>m</td>\n",
              "      <td>sourcing</td>\n",
              "      <td>1</td>\n",
              "      <td>45</td>\n",
              "      <td>4.0</td>\n",
              "      <td>18</td>\n",
              "      <td>1</td>\n",
              "      <td>0</td>\n",
              "      <td>52</td>\n",
              "    </tr>\n",
              "    <tr>\n",
              "      <th>22492</th>\n",
              "      <td>Procurement</td>\n",
              "      <td>region_22</td>\n",
              "      <td>Master's &amp; above</td>\n",
              "      <td>f</td>\n",
              "      <td>other</td>\n",
              "      <td>1</td>\n",
              "      <td>45</td>\n",
              "      <td>5.0</td>\n",
              "      <td>18</td>\n",
              "      <td>1</td>\n",
              "      <td>0</td>\n",
              "      <td>77</td>\n",
              "    </tr>\n",
              "    <tr>\n",
              "      <th>49958</th>\n",
              "      <td>Technology</td>\n",
              "      <td>region_26</td>\n",
              "      <td>Bachelor's</td>\n",
              "      <td>f</td>\n",
              "      <td>other</td>\n",
              "      <td>1</td>\n",
              "      <td>30</td>\n",
              "      <td>5.0</td>\n",
              "      <td>2</td>\n",
              "      <td>0</td>\n",
              "      <td>0</td>\n",
              "      <td>80</td>\n",
              "    </tr>\n",
              "  </tbody>\n",
              "</table>\n",
              "</div>"
            ],
            "text/plain": [
              "              department     region  ... awards_won avg_training_score\n",
              "52375  Sales & Marketing  region_22  ...          0                 47\n",
              "26244         Technology  region_22  ...          0                 79\n",
              "33584  Sales & Marketing  region_22  ...          0                 52\n",
              "22492        Procurement  region_22  ...          0                 77\n",
              "49958         Technology  region_26  ...          0                 80\n",
              "\n",
              "[5 rows x 12 columns]"
            ]
          },
          "metadata": {
            "tags": []
          },
          "execution_count": 30
        }
      ]
    },
    {
      "cell_type": "code",
      "metadata": {
        "id": "EZHdYMlc7Xbd"
      },
      "source": [
        "# one hot encode and minmax scaling\n",
        "scaler = MinMaxScaler() #Min max scaling for rescaling the numerical data columns between 0 and 1\n",
        "encoder = OneHotEncoder(sparse=False,drop='first') #drop first to have category-1 dummies created\n",
        "# One hot encoding is used for categorical variables as a plain label encoding might cause some noise in the model\n",
        "# if the model assumes any ordinality of the categorical variables like department, region etc.,"
      ],
      "execution_count": null,
      "outputs": []
    },
    {
      "cell_type": "code",
      "metadata": {
        "id": "OitovCfn7yHy"
      },
      "source": [
        "columns_encode = ['department','region','education','gender','recruitment_channel'] # categorical columns to encode\n",
        "columns_scale =['age','length_of_service','avg_training_score','previous_year_rating','no_of_trainings'] #numerical columns for scaling\n",
        "columns_retain = ['KPIs_met80','awards_won'] # categorical columns that can be directly used in model."
      ],
      "execution_count": null,
      "outputs": []
    },
    {
      "cell_type": "code",
      "metadata": {
        "id": "hgjoGBFa8lGg"
      },
      "source": [
        "# fit and transform train data\n",
        "scaled_columns  = scaler.fit_transform(X_train[columns_scale]) \n",
        "encoded_columns = encoder.fit_transform(X_train[columns_encode]) "
      ],
      "execution_count": null,
      "outputs": []
    },
    {
      "cell_type": "code",
      "metadata": {
        "id": "FfQyOIsw9DbY"
      },
      "source": [
        "# Combine the columns\n",
        "X_train = np.concatenate([scaled_columns,encoded_columns, X_train[columns_retain]],axis=1)"
      ],
      "execution_count": null,
      "outputs": []
    },
    {
      "cell_type": "code",
      "metadata": {
        "id": "ZCkl8j57CXdH"
      },
      "source": [
        "# Transform the validation data\n",
        "scaled_columns_trans  = scaler.transform(X_valid[columns_scale]) \n",
        "encoded_columns_trans = encoder.transform(X_valid[columns_encode])"
      ],
      "execution_count": null,
      "outputs": []
    },
    {
      "cell_type": "code",
      "metadata": {
        "id": "c8ZZ3FjpC68-"
      },
      "source": [
        "# Combine the columns\n",
        "X_valid = np.concatenate([scaled_columns_trans,encoded_columns_trans, X_valid[columns_retain]],axis=1)"
      ],
      "execution_count": null,
      "outputs": []
    },
    {
      "cell_type": "code",
      "metadata": {
        "id": "Dm-8cz_UXDgW",
        "colab": {
          "base_uri": "https://localhost:8080/",
          "height": 375
        },
        "outputId": "9030cc5c-788b-43cc-ef59-e26d37bf60c5"
      },
      "source": [
        "pd.DataFrame(X_train).head(10)"
      ],
      "execution_count": null,
      "outputs": [
        {
          "output_type": "execute_result",
          "data": {
            "text/html": [
              "<div>\n",
              "<style scoped>\n",
              "    .dataframe tbody tr th:only-of-type {\n",
              "        vertical-align: middle;\n",
              "    }\n",
              "\n",
              "    .dataframe tbody tr th {\n",
              "        vertical-align: top;\n",
              "    }\n",
              "\n",
              "    .dataframe thead th {\n",
              "        text-align: right;\n",
              "    }\n",
              "</style>\n",
              "<table border=\"1\" class=\"dataframe\">\n",
              "  <thead>\n",
              "    <tr style=\"text-align: right;\">\n",
              "      <th></th>\n",
              "      <th>0</th>\n",
              "      <th>1</th>\n",
              "      <th>2</th>\n",
              "      <th>3</th>\n",
              "      <th>4</th>\n",
              "      <th>5</th>\n",
              "      <th>6</th>\n",
              "      <th>7</th>\n",
              "      <th>8</th>\n",
              "      <th>9</th>\n",
              "      <th>10</th>\n",
              "      <th>11</th>\n",
              "      <th>12</th>\n",
              "      <th>13</th>\n",
              "      <th>14</th>\n",
              "      <th>15</th>\n",
              "      <th>16</th>\n",
              "      <th>17</th>\n",
              "      <th>18</th>\n",
              "      <th>19</th>\n",
              "      <th>20</th>\n",
              "      <th>21</th>\n",
              "      <th>22</th>\n",
              "      <th>23</th>\n",
              "      <th>24</th>\n",
              "      <th>25</th>\n",
              "      <th>26</th>\n",
              "      <th>27</th>\n",
              "      <th>28</th>\n",
              "      <th>29</th>\n",
              "      <th>30</th>\n",
              "      <th>31</th>\n",
              "      <th>32</th>\n",
              "      <th>33</th>\n",
              "      <th>34</th>\n",
              "      <th>35</th>\n",
              "      <th>36</th>\n",
              "      <th>37</th>\n",
              "      <th>38</th>\n",
              "      <th>39</th>\n",
              "      <th>40</th>\n",
              "      <th>41</th>\n",
              "      <th>42</th>\n",
              "      <th>43</th>\n",
              "      <th>44</th>\n",
              "      <th>45</th>\n",
              "      <th>46</th>\n",
              "      <th>47</th>\n",
              "      <th>48</th>\n",
              "      <th>49</th>\n",
              "      <th>50</th>\n",
              "      <th>51</th>\n",
              "      <th>52</th>\n",
              "    </tr>\n",
              "  </thead>\n",
              "  <tbody>\n",
              "    <tr>\n",
              "      <th>0</th>\n",
              "      <td>0.150</td>\n",
              "      <td>0.055556</td>\n",
              "      <td>0.133333</td>\n",
              "      <td>1.00</td>\n",
              "      <td>0.000000</td>\n",
              "      <td>0.0</td>\n",
              "      <td>0.0</td>\n",
              "      <td>0.0</td>\n",
              "      <td>0.0</td>\n",
              "      <td>0.0</td>\n",
              "      <td>0.0</td>\n",
              "      <td>1.0</td>\n",
              "      <td>0.0</td>\n",
              "      <td>0.0</td>\n",
              "      <td>0.0</td>\n",
              "      <td>0.0</td>\n",
              "      <td>0.0</td>\n",
              "      <td>0.0</td>\n",
              "      <td>0.0</td>\n",
              "      <td>0.0</td>\n",
              "      <td>0.0</td>\n",
              "      <td>0.0</td>\n",
              "      <td>0.0</td>\n",
              "      <td>0.0</td>\n",
              "      <td>0.0</td>\n",
              "      <td>0.0</td>\n",
              "      <td>1.0</td>\n",
              "      <td>0.0</td>\n",
              "      <td>0.0</td>\n",
              "      <td>0.0</td>\n",
              "      <td>0.0</td>\n",
              "      <td>0.0</td>\n",
              "      <td>0.0</td>\n",
              "      <td>0.0</td>\n",
              "      <td>0.0</td>\n",
              "      <td>0.0</td>\n",
              "      <td>0.0</td>\n",
              "      <td>0.0</td>\n",
              "      <td>0.0</td>\n",
              "      <td>0.0</td>\n",
              "      <td>0.0</td>\n",
              "      <td>0.0</td>\n",
              "      <td>0.0</td>\n",
              "      <td>0.0</td>\n",
              "      <td>0.0</td>\n",
              "      <td>0.0</td>\n",
              "      <td>0.0</td>\n",
              "      <td>0.0</td>\n",
              "      <td>0.0</td>\n",
              "      <td>0.0</td>\n",
              "      <td>1.0</td>\n",
              "      <td>1.0</td>\n",
              "      <td>0.0</td>\n",
              "    </tr>\n",
              "    <tr>\n",
              "      <th>1</th>\n",
              "      <td>0.200</td>\n",
              "      <td>0.027778</td>\n",
              "      <td>0.666667</td>\n",
              "      <td>1.00</td>\n",
              "      <td>0.000000</td>\n",
              "      <td>0.0</td>\n",
              "      <td>0.0</td>\n",
              "      <td>0.0</td>\n",
              "      <td>0.0</td>\n",
              "      <td>0.0</td>\n",
              "      <td>0.0</td>\n",
              "      <td>0.0</td>\n",
              "      <td>1.0</td>\n",
              "      <td>0.0</td>\n",
              "      <td>0.0</td>\n",
              "      <td>0.0</td>\n",
              "      <td>0.0</td>\n",
              "      <td>0.0</td>\n",
              "      <td>0.0</td>\n",
              "      <td>0.0</td>\n",
              "      <td>0.0</td>\n",
              "      <td>0.0</td>\n",
              "      <td>0.0</td>\n",
              "      <td>0.0</td>\n",
              "      <td>0.0</td>\n",
              "      <td>0.0</td>\n",
              "      <td>1.0</td>\n",
              "      <td>0.0</td>\n",
              "      <td>0.0</td>\n",
              "      <td>0.0</td>\n",
              "      <td>0.0</td>\n",
              "      <td>0.0</td>\n",
              "      <td>0.0</td>\n",
              "      <td>0.0</td>\n",
              "      <td>0.0</td>\n",
              "      <td>0.0</td>\n",
              "      <td>0.0</td>\n",
              "      <td>0.0</td>\n",
              "      <td>0.0</td>\n",
              "      <td>0.0</td>\n",
              "      <td>0.0</td>\n",
              "      <td>0.0</td>\n",
              "      <td>0.0</td>\n",
              "      <td>0.0</td>\n",
              "      <td>0.0</td>\n",
              "      <td>0.0</td>\n",
              "      <td>0.0</td>\n",
              "      <td>0.0</td>\n",
              "      <td>0.0</td>\n",
              "      <td>1.0</td>\n",
              "      <td>0.0</td>\n",
              "      <td>1.0</td>\n",
              "      <td>0.0</td>\n",
              "    </tr>\n",
              "    <tr>\n",
              "      <th>2</th>\n",
              "      <td>0.625</td>\n",
              "      <td>0.472222</td>\n",
              "      <td>0.216667</td>\n",
              "      <td>0.75</td>\n",
              "      <td>0.000000</td>\n",
              "      <td>0.0</td>\n",
              "      <td>0.0</td>\n",
              "      <td>0.0</td>\n",
              "      <td>0.0</td>\n",
              "      <td>0.0</td>\n",
              "      <td>0.0</td>\n",
              "      <td>1.0</td>\n",
              "      <td>0.0</td>\n",
              "      <td>0.0</td>\n",
              "      <td>0.0</td>\n",
              "      <td>0.0</td>\n",
              "      <td>0.0</td>\n",
              "      <td>0.0</td>\n",
              "      <td>0.0</td>\n",
              "      <td>0.0</td>\n",
              "      <td>0.0</td>\n",
              "      <td>0.0</td>\n",
              "      <td>0.0</td>\n",
              "      <td>0.0</td>\n",
              "      <td>0.0</td>\n",
              "      <td>0.0</td>\n",
              "      <td>1.0</td>\n",
              "      <td>0.0</td>\n",
              "      <td>0.0</td>\n",
              "      <td>0.0</td>\n",
              "      <td>0.0</td>\n",
              "      <td>0.0</td>\n",
              "      <td>0.0</td>\n",
              "      <td>0.0</td>\n",
              "      <td>0.0</td>\n",
              "      <td>0.0</td>\n",
              "      <td>0.0</td>\n",
              "      <td>0.0</td>\n",
              "      <td>0.0</td>\n",
              "      <td>0.0</td>\n",
              "      <td>0.0</td>\n",
              "      <td>0.0</td>\n",
              "      <td>0.0</td>\n",
              "      <td>0.0</td>\n",
              "      <td>0.0</td>\n",
              "      <td>0.0</td>\n",
              "      <td>0.0</td>\n",
              "      <td>0.0</td>\n",
              "      <td>1.0</td>\n",
              "      <td>0.0</td>\n",
              "      <td>1.0</td>\n",
              "      <td>1.0</td>\n",
              "      <td>0.0</td>\n",
              "    </tr>\n",
              "    <tr>\n",
              "      <th>3</th>\n",
              "      <td>0.625</td>\n",
              "      <td>0.472222</td>\n",
              "      <td>0.633333</td>\n",
              "      <td>1.00</td>\n",
              "      <td>0.000000</td>\n",
              "      <td>0.0</td>\n",
              "      <td>0.0</td>\n",
              "      <td>0.0</td>\n",
              "      <td>0.0</td>\n",
              "      <td>1.0</td>\n",
              "      <td>0.0</td>\n",
              "      <td>0.0</td>\n",
              "      <td>0.0</td>\n",
              "      <td>0.0</td>\n",
              "      <td>0.0</td>\n",
              "      <td>0.0</td>\n",
              "      <td>0.0</td>\n",
              "      <td>0.0</td>\n",
              "      <td>0.0</td>\n",
              "      <td>0.0</td>\n",
              "      <td>0.0</td>\n",
              "      <td>0.0</td>\n",
              "      <td>0.0</td>\n",
              "      <td>0.0</td>\n",
              "      <td>0.0</td>\n",
              "      <td>0.0</td>\n",
              "      <td>1.0</td>\n",
              "      <td>0.0</td>\n",
              "      <td>0.0</td>\n",
              "      <td>0.0</td>\n",
              "      <td>0.0</td>\n",
              "      <td>0.0</td>\n",
              "      <td>0.0</td>\n",
              "      <td>0.0</td>\n",
              "      <td>0.0</td>\n",
              "      <td>0.0</td>\n",
              "      <td>0.0</td>\n",
              "      <td>0.0</td>\n",
              "      <td>0.0</td>\n",
              "      <td>0.0</td>\n",
              "      <td>0.0</td>\n",
              "      <td>0.0</td>\n",
              "      <td>0.0</td>\n",
              "      <td>0.0</td>\n",
              "      <td>0.0</td>\n",
              "      <td>0.0</td>\n",
              "      <td>0.0</td>\n",
              "      <td>1.0</td>\n",
              "      <td>0.0</td>\n",
              "      <td>0.0</td>\n",
              "      <td>0.0</td>\n",
              "      <td>1.0</td>\n",
              "      <td>0.0</td>\n",
              "    </tr>\n",
              "    <tr>\n",
              "      <th>4</th>\n",
              "      <td>0.250</td>\n",
              "      <td>0.027778</td>\n",
              "      <td>0.683333</td>\n",
              "      <td>1.00</td>\n",
              "      <td>0.000000</td>\n",
              "      <td>0.0</td>\n",
              "      <td>0.0</td>\n",
              "      <td>0.0</td>\n",
              "      <td>0.0</td>\n",
              "      <td>0.0</td>\n",
              "      <td>0.0</td>\n",
              "      <td>0.0</td>\n",
              "      <td>1.0</td>\n",
              "      <td>0.0</td>\n",
              "      <td>0.0</td>\n",
              "      <td>0.0</td>\n",
              "      <td>0.0</td>\n",
              "      <td>0.0</td>\n",
              "      <td>0.0</td>\n",
              "      <td>0.0</td>\n",
              "      <td>0.0</td>\n",
              "      <td>0.0</td>\n",
              "      <td>0.0</td>\n",
              "      <td>0.0</td>\n",
              "      <td>0.0</td>\n",
              "      <td>0.0</td>\n",
              "      <td>0.0</td>\n",
              "      <td>0.0</td>\n",
              "      <td>0.0</td>\n",
              "      <td>0.0</td>\n",
              "      <td>1.0</td>\n",
              "      <td>0.0</td>\n",
              "      <td>0.0</td>\n",
              "      <td>0.0</td>\n",
              "      <td>0.0</td>\n",
              "      <td>0.0</td>\n",
              "      <td>0.0</td>\n",
              "      <td>0.0</td>\n",
              "      <td>0.0</td>\n",
              "      <td>0.0</td>\n",
              "      <td>0.0</td>\n",
              "      <td>0.0</td>\n",
              "      <td>0.0</td>\n",
              "      <td>0.0</td>\n",
              "      <td>0.0</td>\n",
              "      <td>0.0</td>\n",
              "      <td>0.0</td>\n",
              "      <td>0.0</td>\n",
              "      <td>0.0</td>\n",
              "      <td>0.0</td>\n",
              "      <td>0.0</td>\n",
              "      <td>0.0</td>\n",
              "      <td>0.0</td>\n",
              "    </tr>\n",
              "    <tr>\n",
              "      <th>5</th>\n",
              "      <td>0.525</td>\n",
              "      <td>0.138889</td>\n",
              "      <td>0.466667</td>\n",
              "      <td>1.00</td>\n",
              "      <td>0.000000</td>\n",
              "      <td>0.0</td>\n",
              "      <td>0.0</td>\n",
              "      <td>0.0</td>\n",
              "      <td>1.0</td>\n",
              "      <td>0.0</td>\n",
              "      <td>0.0</td>\n",
              "      <td>0.0</td>\n",
              "      <td>0.0</td>\n",
              "      <td>0.0</td>\n",
              "      <td>0.0</td>\n",
              "      <td>0.0</td>\n",
              "      <td>0.0</td>\n",
              "      <td>0.0</td>\n",
              "      <td>0.0</td>\n",
              "      <td>0.0</td>\n",
              "      <td>0.0</td>\n",
              "      <td>0.0</td>\n",
              "      <td>0.0</td>\n",
              "      <td>0.0</td>\n",
              "      <td>0.0</td>\n",
              "      <td>0.0</td>\n",
              "      <td>0.0</td>\n",
              "      <td>0.0</td>\n",
              "      <td>0.0</td>\n",
              "      <td>0.0</td>\n",
              "      <td>0.0</td>\n",
              "      <td>0.0</td>\n",
              "      <td>0.0</td>\n",
              "      <td>0.0</td>\n",
              "      <td>0.0</td>\n",
              "      <td>0.0</td>\n",
              "      <td>0.0</td>\n",
              "      <td>0.0</td>\n",
              "      <td>0.0</td>\n",
              "      <td>0.0</td>\n",
              "      <td>0.0</td>\n",
              "      <td>0.0</td>\n",
              "      <td>0.0</td>\n",
              "      <td>1.0</td>\n",
              "      <td>0.0</td>\n",
              "      <td>0.0</td>\n",
              "      <td>0.0</td>\n",
              "      <td>1.0</td>\n",
              "      <td>0.0</td>\n",
              "      <td>0.0</td>\n",
              "      <td>0.0</td>\n",
              "      <td>0.0</td>\n",
              "      <td>0.0</td>\n",
              "    </tr>\n",
              "    <tr>\n",
              "      <th>6</th>\n",
              "      <td>0.425</td>\n",
              "      <td>0.250000</td>\n",
              "      <td>0.916667</td>\n",
              "      <td>0.50</td>\n",
              "      <td>0.000000</td>\n",
              "      <td>0.0</td>\n",
              "      <td>0.0</td>\n",
              "      <td>0.0</td>\n",
              "      <td>1.0</td>\n",
              "      <td>0.0</td>\n",
              "      <td>0.0</td>\n",
              "      <td>0.0</td>\n",
              "      <td>0.0</td>\n",
              "      <td>0.0</td>\n",
              "      <td>0.0</td>\n",
              "      <td>0.0</td>\n",
              "      <td>0.0</td>\n",
              "      <td>0.0</td>\n",
              "      <td>1.0</td>\n",
              "      <td>0.0</td>\n",
              "      <td>0.0</td>\n",
              "      <td>0.0</td>\n",
              "      <td>0.0</td>\n",
              "      <td>0.0</td>\n",
              "      <td>0.0</td>\n",
              "      <td>0.0</td>\n",
              "      <td>0.0</td>\n",
              "      <td>0.0</td>\n",
              "      <td>0.0</td>\n",
              "      <td>0.0</td>\n",
              "      <td>0.0</td>\n",
              "      <td>0.0</td>\n",
              "      <td>0.0</td>\n",
              "      <td>0.0</td>\n",
              "      <td>0.0</td>\n",
              "      <td>0.0</td>\n",
              "      <td>0.0</td>\n",
              "      <td>0.0</td>\n",
              "      <td>0.0</td>\n",
              "      <td>0.0</td>\n",
              "      <td>0.0</td>\n",
              "      <td>0.0</td>\n",
              "      <td>0.0</td>\n",
              "      <td>0.0</td>\n",
              "      <td>0.0</td>\n",
              "      <td>0.0</td>\n",
              "      <td>0.0</td>\n",
              "      <td>0.0</td>\n",
              "      <td>1.0</td>\n",
              "      <td>0.0</td>\n",
              "      <td>0.0</td>\n",
              "      <td>1.0</td>\n",
              "      <td>1.0</td>\n",
              "    </tr>\n",
              "    <tr>\n",
              "      <th>7</th>\n",
              "      <td>0.175</td>\n",
              "      <td>0.027778</td>\n",
              "      <td>0.816667</td>\n",
              "      <td>0.75</td>\n",
              "      <td>0.000000</td>\n",
              "      <td>0.0</td>\n",
              "      <td>0.0</td>\n",
              "      <td>0.0</td>\n",
              "      <td>0.0</td>\n",
              "      <td>0.0</td>\n",
              "      <td>0.0</td>\n",
              "      <td>0.0</td>\n",
              "      <td>0.0</td>\n",
              "      <td>0.0</td>\n",
              "      <td>0.0</td>\n",
              "      <td>0.0</td>\n",
              "      <td>0.0</td>\n",
              "      <td>0.0</td>\n",
              "      <td>0.0</td>\n",
              "      <td>0.0</td>\n",
              "      <td>0.0</td>\n",
              "      <td>0.0</td>\n",
              "      <td>0.0</td>\n",
              "      <td>0.0</td>\n",
              "      <td>0.0</td>\n",
              "      <td>0.0</td>\n",
              "      <td>1.0</td>\n",
              "      <td>0.0</td>\n",
              "      <td>0.0</td>\n",
              "      <td>0.0</td>\n",
              "      <td>0.0</td>\n",
              "      <td>0.0</td>\n",
              "      <td>0.0</td>\n",
              "      <td>0.0</td>\n",
              "      <td>0.0</td>\n",
              "      <td>0.0</td>\n",
              "      <td>0.0</td>\n",
              "      <td>0.0</td>\n",
              "      <td>0.0</td>\n",
              "      <td>0.0</td>\n",
              "      <td>0.0</td>\n",
              "      <td>0.0</td>\n",
              "      <td>0.0</td>\n",
              "      <td>0.0</td>\n",
              "      <td>0.0</td>\n",
              "      <td>0.0</td>\n",
              "      <td>0.0</td>\n",
              "      <td>0.0</td>\n",
              "      <td>0.0</td>\n",
              "      <td>0.0</td>\n",
              "      <td>1.0</td>\n",
              "      <td>1.0</td>\n",
              "      <td>0.0</td>\n",
              "    </tr>\n",
              "    <tr>\n",
              "      <th>8</th>\n",
              "      <td>0.350</td>\n",
              "      <td>0.166667</td>\n",
              "      <td>0.816667</td>\n",
              "      <td>1.00</td>\n",
              "      <td>0.111111</td>\n",
              "      <td>0.0</td>\n",
              "      <td>0.0</td>\n",
              "      <td>0.0</td>\n",
              "      <td>0.0</td>\n",
              "      <td>0.0</td>\n",
              "      <td>0.0</td>\n",
              "      <td>0.0</td>\n",
              "      <td>0.0</td>\n",
              "      <td>0.0</td>\n",
              "      <td>0.0</td>\n",
              "      <td>0.0</td>\n",
              "      <td>0.0</td>\n",
              "      <td>0.0</td>\n",
              "      <td>0.0</td>\n",
              "      <td>0.0</td>\n",
              "      <td>0.0</td>\n",
              "      <td>0.0</td>\n",
              "      <td>0.0</td>\n",
              "      <td>0.0</td>\n",
              "      <td>0.0</td>\n",
              "      <td>0.0</td>\n",
              "      <td>0.0</td>\n",
              "      <td>0.0</td>\n",
              "      <td>0.0</td>\n",
              "      <td>1.0</td>\n",
              "      <td>0.0</td>\n",
              "      <td>0.0</td>\n",
              "      <td>0.0</td>\n",
              "      <td>0.0</td>\n",
              "      <td>0.0</td>\n",
              "      <td>0.0</td>\n",
              "      <td>0.0</td>\n",
              "      <td>0.0</td>\n",
              "      <td>0.0</td>\n",
              "      <td>0.0</td>\n",
              "      <td>0.0</td>\n",
              "      <td>0.0</td>\n",
              "      <td>0.0</td>\n",
              "      <td>0.0</td>\n",
              "      <td>0.0</td>\n",
              "      <td>0.0</td>\n",
              "      <td>0.0</td>\n",
              "      <td>1.0</td>\n",
              "      <td>1.0</td>\n",
              "      <td>0.0</td>\n",
              "      <td>0.0</td>\n",
              "      <td>1.0</td>\n",
              "      <td>0.0</td>\n",
              "    </tr>\n",
              "    <tr>\n",
              "      <th>9</th>\n",
              "      <td>0.325</td>\n",
              "      <td>0.166667</td>\n",
              "      <td>0.183333</td>\n",
              "      <td>0.50</td>\n",
              "      <td>0.000000</td>\n",
              "      <td>0.0</td>\n",
              "      <td>0.0</td>\n",
              "      <td>0.0</td>\n",
              "      <td>0.0</td>\n",
              "      <td>0.0</td>\n",
              "      <td>0.0</td>\n",
              "      <td>1.0</td>\n",
              "      <td>0.0</td>\n",
              "      <td>0.0</td>\n",
              "      <td>0.0</td>\n",
              "      <td>0.0</td>\n",
              "      <td>0.0</td>\n",
              "      <td>0.0</td>\n",
              "      <td>0.0</td>\n",
              "      <td>0.0</td>\n",
              "      <td>0.0</td>\n",
              "      <td>0.0</td>\n",
              "      <td>0.0</td>\n",
              "      <td>0.0</td>\n",
              "      <td>0.0</td>\n",
              "      <td>0.0</td>\n",
              "      <td>0.0</td>\n",
              "      <td>1.0</td>\n",
              "      <td>0.0</td>\n",
              "      <td>0.0</td>\n",
              "      <td>0.0</td>\n",
              "      <td>0.0</td>\n",
              "      <td>0.0</td>\n",
              "      <td>0.0</td>\n",
              "      <td>0.0</td>\n",
              "      <td>0.0</td>\n",
              "      <td>0.0</td>\n",
              "      <td>0.0</td>\n",
              "      <td>0.0</td>\n",
              "      <td>0.0</td>\n",
              "      <td>0.0</td>\n",
              "      <td>0.0</td>\n",
              "      <td>0.0</td>\n",
              "      <td>0.0</td>\n",
              "      <td>0.0</td>\n",
              "      <td>0.0</td>\n",
              "      <td>0.0</td>\n",
              "      <td>0.0</td>\n",
              "      <td>1.0</td>\n",
              "      <td>0.0</td>\n",
              "      <td>1.0</td>\n",
              "      <td>1.0</td>\n",
              "      <td>0.0</td>\n",
              "    </tr>\n",
              "  </tbody>\n",
              "</table>\n",
              "</div>"
            ],
            "text/plain": [
              "      0         1         2     3         4    5   ...   47   48   49   50   51   52\n",
              "0  0.150  0.055556  0.133333  1.00  0.000000  0.0  ...  0.0  0.0  0.0  1.0  1.0  0.0\n",
              "1  0.200  0.027778  0.666667  1.00  0.000000  0.0  ...  0.0  0.0  1.0  0.0  1.0  0.0\n",
              "2  0.625  0.472222  0.216667  0.75  0.000000  0.0  ...  0.0  1.0  0.0  1.0  1.0  0.0\n",
              "3  0.625  0.472222  0.633333  1.00  0.000000  0.0  ...  1.0  0.0  0.0  0.0  1.0  0.0\n",
              "4  0.250  0.027778  0.683333  1.00  0.000000  0.0  ...  0.0  0.0  0.0  0.0  0.0  0.0\n",
              "5  0.525  0.138889  0.466667  1.00  0.000000  0.0  ...  1.0  0.0  0.0  0.0  0.0  0.0\n",
              "6  0.425  0.250000  0.916667  0.50  0.000000  0.0  ...  0.0  1.0  0.0  0.0  1.0  1.0\n",
              "7  0.175  0.027778  0.816667  0.75  0.000000  0.0  ...  0.0  0.0  0.0  1.0  1.0  0.0\n",
              "8  0.350  0.166667  0.816667  1.00  0.111111  0.0  ...  1.0  1.0  0.0  0.0  1.0  0.0\n",
              "9  0.325  0.166667  0.183333  0.50  0.000000  0.0  ...  0.0  1.0  0.0  1.0  1.0  0.0\n",
              "\n",
              "[10 rows x 53 columns]"
            ]
          },
          "metadata": {
            "tags": []
          },
          "execution_count": 49
        }
      ]
    },
    {
      "cell_type": "code",
      "metadata": {
        "id": "T3zdfOGBRnWr",
        "colab": {
          "base_uri": "https://localhost:8080/",
          "height": 347
        },
        "outputId": "20eff132-f08f-479b-9c99-f76acb7494fa"
      },
      "source": [
        "# Modify the test dataset as well for predictions\n",
        "test.info()\n",
        "scaled_columns_test  = scaler.transform(test[columns_scale]) \n",
        "encoded_columns_test =    encoder.transform(test[columns_encode])\n",
        "\n",
        "test = np.concatenate([scaled_columns_test,encoded_columns_test,test[columns_retain]],axis=1)"
      ],
      "execution_count": null,
      "outputs": [
        {
          "output_type": "stream",
          "text": [
            "<class 'pandas.core.frame.DataFrame'>\n",
            "Int64Index: 20819 entries, 1 to 23489\n",
            "Data columns (total 12 columns):\n",
            " #   Column                Non-Null Count  Dtype  \n",
            "---  ------                --------------  -----  \n",
            " 0   department            20819 non-null  object \n",
            " 1   region                20819 non-null  object \n",
            " 2   education             20819 non-null  object \n",
            " 3   gender                20819 non-null  object \n",
            " 4   recruitment_channel   20819 non-null  object \n",
            " 5   no_of_trainings       20819 non-null  int64  \n",
            " 6   age                   20819 non-null  int64  \n",
            " 7   previous_year_rating  20819 non-null  float64\n",
            " 8   length_of_service     20819 non-null  int64  \n",
            " 9   KPIs_met80            20819 non-null  int64  \n",
            " 10  awards_won            20819 non-null  int64  \n",
            " 11  avg_training_score    20819 non-null  int64  \n",
            "dtypes: float64(1), int64(6), object(5)\n",
            "memory usage: 2.1+ MB\n"
          ],
          "name": "stdout"
        }
      ]
    },
    {
      "cell_type": "code",
      "metadata": {
        "id": "jxbbmZhWqtmj"
      },
      "source": [
        "# Converting to numpy array???\n",
        "X_train = np.array(X_train)\n",
        "X_valid = np.array(X_valid)\n",
        "y_train = np.array(y_train)\n",
        "y_valid = np.array(y_valid)"
      ],
      "execution_count": null,
      "outputs": []
    },
    {
      "cell_type": "code",
      "metadata": {
        "id": "NRYBQKJ6wEZM",
        "colab": {
          "base_uri": "https://localhost:8080/",
          "height": 503
        },
        "outputId": "f1f46c87-32a5-48f8-ec9c-ccdcfa1b1e52"
      },
      "source": [
        "print(pd.DataFrame(X_train).head)\n",
        "print(pd.DataFrame(X_valid).head)"
      ],
      "execution_count": null,
      "outputs": [
        {
          "output_type": "stream",
          "text": [
            "<bound method NDFrame.head of           0         1         2     3    4    5   ...   47   48   49   50   51   52\n",
            "0      0.150  0.055556  0.133333  1.00  0.0  0.0  ...  0.0  0.0  0.0  1.0  1.0  0.0\n",
            "1      0.200  0.027778  0.666667  1.00  0.0  0.0  ...  0.0  0.0  1.0  0.0  1.0  0.0\n",
            "2      0.625  0.472222  0.216667  0.75  0.0  0.0  ...  0.0  1.0  0.0  1.0  1.0  0.0\n",
            "3      0.625  0.472222  0.633333  1.00  0.0  0.0  ...  1.0  0.0  0.0  0.0  1.0  0.0\n",
            "4      0.250  0.027778  0.683333  1.00  0.0  0.0  ...  0.0  0.0  0.0  0.0  0.0  0.0\n",
            "...      ...       ...       ...   ...  ...  ...  ...  ...  ...  ...  ...  ...  ...\n",
            "67537  0.300  0.250000  0.766667  0.75  0.0  0.0  ...  0.0  1.0  0.0  1.0  1.0  0.0\n",
            "67538  0.250  0.138889  0.700000  0.50  0.0  0.0  ...  0.0  1.0  0.0  1.0  0.0  0.0\n",
            "67539  0.450  0.222222  0.866667  0.50  0.0  0.0  ...  0.0  0.0  0.0  1.0  1.0  0.0\n",
            "67540  0.725  0.472222  0.350000  0.75  0.0  0.0  ...  1.0  0.0  0.0  0.0  0.0  0.0\n",
            "67541  0.750  0.555556  0.283333  1.00  0.0  0.0  ...  1.0  0.0  0.0  0.0  1.0  0.0\n",
            "\n",
            "[67542 rows x 53 columns]>\n",
            "<bound method NDFrame.head of           0         1         2     3         4   ...   48   49   50   51   52\n",
            "0      0.675  0.416667  0.233333  0.75  0.000000  ...  1.0  0.0  0.0  0.0  0.0\n",
            "1      0.425  0.194444  0.533333  1.00  0.000000  ...  0.0  0.0  1.0  0.0  0.0\n",
            "2      0.400  0.166667  0.416667  1.00  0.111111  ...  0.0  0.0  1.0  1.0  0.0\n",
            "3      0.550  0.277778  0.716667  0.00  0.000000  ...  1.0  0.0  1.0  0.0  0.0\n",
            "4      0.325  0.194444  0.583333  0.50  0.000000  ...  0.0  0.0  0.0  1.0  0.0\n",
            "...      ...       ...       ...   ...       ...  ...  ...  ...  ...  ...  ...\n",
            "16881  0.350  0.250000  0.266667  0.50  0.000000  ...  1.0  0.0  1.0  0.0  0.0\n",
            "16882  0.650  0.055556  0.233333  1.00  0.000000  ...  1.0  0.0  1.0  1.0  0.0\n",
            "16883  0.250  0.111111  0.300000  1.00  0.000000  ...  1.0  0.0  0.0  0.0  0.0\n",
            "16884  0.250  0.111111  0.200000  1.00  0.000000  ...  0.0  0.0  0.0  1.0  0.0\n",
            "16885  0.250  0.083333  0.766667  1.00  0.111111  ...  1.0  0.0  0.0  0.0  0.0\n",
            "\n",
            "[16886 rows x 53 columns]>\n"
          ],
          "name": "stdout"
        }
      ]
    },
    {
      "cell_type": "markdown",
      "metadata": {
        "id": "m_iNCpr0Ex_n"
      },
      "source": [
        "# **Modelling and Results/Discussion**\n",
        "\n",
        "\n",
        "\n",
        "*   Basic logistic regression model - Baseline model\n",
        "*   2 Deep learning FFNN models\n",
        "\n"
      ]
    },
    {
      "cell_type": "markdown",
      "metadata": {
        "id": "2Y83fplHE91t"
      },
      "source": [
        "## Baseline Model - Logistic regression ##\n",
        "\n"
      ]
    },
    {
      "cell_type": "markdown",
      "metadata": {
        "id": "jTq1VUoXhOeP"
      },
      "source": [
        "### Fit Model ###\n"
      ]
    },
    {
      "cell_type": "code",
      "metadata": {
        "id": "CWO6rV5arMFc"
      },
      "source": [
        "#Logistic regression model fitting\n",
        "# make a variable to store the general model\n",
        "LR = LogisticRegression(max_iter=600)\n",
        "# fit the model - one line of code\n",
        "LR = LR.fit(X_train, y_train)"
      ],
      "execution_count": null,
      "outputs": []
    },
    {
      "cell_type": "code",
      "metadata": {
        "id": "fm0rr99wrUzk"
      },
      "source": [
        "# save the predictions\n",
        "train_preds = LR.predict(X_train) \n",
        "valid_preds = LR.predict(X_valid)"
      ],
      "execution_count": null,
      "outputs": []
    },
    {
      "cell_type": "markdown",
      "metadata": {
        "id": "CFaIs4Vy0Wa7"
      },
      "source": [
        "### Evaluate the baseline model ###"
      ]
    },
    {
      "cell_type": "code",
      "metadata": {
        "id": "w6GHiPBx0fI6",
        "colab": {
          "base_uri": "https://localhost:8080/",
          "height": 52
        },
        "outputId": "c06c3719-b4f6-4b25-b3f3-b8fd4063cd5a"
      },
      "source": [
        "# train confusion matrix\n",
        "confusion_matrix(y_train, train_preds)"
      ],
      "execution_count": null,
      "outputs": [
        {
          "output_type": "execute_result",
          "data": {
            "text/plain": [
              "array([[27555,  8020],\n",
              "       [ 6542, 25425]])"
            ]
          },
          "metadata": {
            "tags": []
          },
          "execution_count": 42
        }
      ]
    },
    {
      "cell_type": "code",
      "metadata": {
        "id": "iK28CqBQ0iKg",
        "colab": {
          "base_uri": "https://localhost:8080/",
          "height": 35
        },
        "outputId": "8ac44d8d-8a61-4acd-b581-59364441335c"
      },
      "source": [
        "# extract TP, TN, FP, FN\n",
        "tn, fp, fn, tp = confusion_matrix(y_train, train_preds).ravel()\n",
        "(tn, fp, fn, tp)"
      ],
      "execution_count": null,
      "outputs": [
        {
          "output_type": "execute_result",
          "data": {
            "text/plain": [
              "(27555, 8020, 6542, 25425)"
            ]
          },
          "metadata": {
            "tags": []
          },
          "execution_count": 43
        }
      ]
    },
    {
      "cell_type": "code",
      "metadata": {
        "id": "t6stXh5b0i4j",
        "colab": {
          "base_uri": "https://localhost:8080/",
          "height": 173
        },
        "outputId": "e69b15ec-b749-48a3-861c-d6045a40a3b3"
      },
      "source": [
        "#train data classification report\n",
        "trainReport = classification_report(y_train, train_preds)\n",
        "print(trainReport)"
      ],
      "execution_count": null,
      "outputs": [
        {
          "output_type": "stream",
          "text": [
            "              precision    recall  f1-score   support\n",
            "\n",
            "           0       0.81      0.77      0.79     35575\n",
            "           1       0.76      0.80      0.78     31967\n",
            "\n",
            "    accuracy                           0.78     67542\n",
            "   macro avg       0.78      0.78      0.78     67542\n",
            "weighted avg       0.79      0.78      0.78     67542\n",
            "\n"
          ],
          "name": "stdout"
        }
      ]
    },
    {
      "cell_type": "code",
      "metadata": {
        "id": "lJe60b5X0lMl",
        "colab": {
          "base_uri": "https://localhost:8080/",
          "height": 35
        },
        "outputId": "4e13554c-ceac-43ca-806a-c6a6590effce"
      },
      "source": [
        "# extract TP, TN, FP, FN for validation data\n",
        "tn, fp, fn, tp = confusion_matrix(y_valid, valid_preds).ravel()\n",
        "(tn, fp, fn, tp)"
      ],
      "execution_count": null,
      "outputs": [
        {
          "output_type": "execute_result",
          "data": {
            "text/plain": [
              "(6920, 1933, 1637, 6396)"
            ]
          },
          "metadata": {
            "tags": []
          },
          "execution_count": 45
        }
      ]
    },
    {
      "cell_type": "markdown",
      "metadata": {
        "id": "Y0XMlHq50vMP"
      },
      "source": [
        ""
      ]
    },
    {
      "cell_type": "code",
      "metadata": {
        "id": "D-X04_PL0n-3",
        "colab": {
          "base_uri": "https://localhost:8080/",
          "height": 173
        },
        "outputId": "ae8fdc0e-01af-403b-83ed-217957aa3831"
      },
      "source": [
        "#classification report for validation data\n",
        "validReport = classification_report(y_valid, valid_preds)\n",
        "print(validReport)"
      ],
      "execution_count": null,
      "outputs": [
        {
          "output_type": "stream",
          "text": [
            "              precision    recall  f1-score   support\n",
            "\n",
            "           0       0.81      0.78      0.79      8853\n",
            "           1       0.77      0.80      0.78      8033\n",
            "\n",
            "    accuracy                           0.79     16886\n",
            "   macro avg       0.79      0.79      0.79     16886\n",
            "weighted avg       0.79      0.79      0.79     16886\n",
            "\n"
          ],
          "name": "stdout"
        }
      ]
    },
    {
      "cell_type": "markdown",
      "metadata": {
        "id": "F5fjn8Ct0ujr"
      },
      "source": [
        "* Training and validation dataset has similar accuracy percentages.\n",
        "* No overfitting of data\n",
        "* Baseline model accuracy 79% on validation dataset\n"
      ]
    },
    {
      "cell_type": "markdown",
      "metadata": {
        "id": "KTTKAjvyfIJu"
      },
      "source": [
        "## FFNN - Model1\n",
        "Feed forward neural network model"
      ]
    },
    {
      "cell_type": "markdown",
      "metadata": {
        "id": "b6F0IugfhaXP"
      },
      "source": [
        "### Fit Model ###\n"
      ]
    },
    {
      "cell_type": "code",
      "metadata": {
        "id": "76Z9nTvTfENK",
        "colab": {
          "base_uri": "https://localhost:8080/",
          "height": 607
        },
        "outputId": "6ded64cc-3d9d-470a-e5f1-88cfdbc45dee"
      },
      "source": [
        "# Model 1 \n",
        "model1 = Sequential()\n",
        "model1.add(Dense(50, input_shape=(X_train.shape[1],), activation='relu')) # Adding input features\n",
        "model1.add(Dropout(0.2))                                            #Dropout to prevent overfitting\n",
        "model1.add(Dense(50, activation='relu'))\n",
        "model1.add(Dropout(0.2))\n",
        "model1.add(Dense(50, activation='relu'))\n",
        "model1.add(Dropout(0.2))\n",
        "model1.add(Dense(50, activation='relu'))\n",
        "model1.add(Dropout(0.2))\n",
        "model1.add(Dense(50, activation='relu'))\n",
        "model1.add(Dropout(0.2))\n",
        "model1.add(Dense(50, activation='relu'))\n",
        "model1.add(Dropout(0.2))\n",
        "model1.add(Dense(1, activation='sigmoid'))\n",
        "model1.summary() "
      ],
      "execution_count": null,
      "outputs": [
        {
          "output_type": "stream",
          "text": [
            "Model: \"sequential\"\n",
            "_________________________________________________________________\n",
            "Layer (type)                 Output Shape              Param #   \n",
            "=================================================================\n",
            "dense (Dense)                (None, 50)                2700      \n",
            "_________________________________________________________________\n",
            "dropout (Dropout)            (None, 50)                0         \n",
            "_________________________________________________________________\n",
            "dense_1 (Dense)              (None, 50)                2550      \n",
            "_________________________________________________________________\n",
            "dropout_1 (Dropout)          (None, 50)                0         \n",
            "_________________________________________________________________\n",
            "dense_2 (Dense)              (None, 50)                2550      \n",
            "_________________________________________________________________\n",
            "dropout_2 (Dropout)          (None, 50)                0         \n",
            "_________________________________________________________________\n",
            "dense_3 (Dense)              (None, 50)                2550      \n",
            "_________________________________________________________________\n",
            "dropout_3 (Dropout)          (None, 50)                0         \n",
            "_________________________________________________________________\n",
            "dense_4 (Dense)              (None, 50)                2550      \n",
            "_________________________________________________________________\n",
            "dropout_4 (Dropout)          (None, 50)                0         \n",
            "_________________________________________________________________\n",
            "dense_5 (Dense)              (None, 50)                2550      \n",
            "_________________________________________________________________\n",
            "dropout_5 (Dropout)          (None, 50)                0         \n",
            "_________________________________________________________________\n",
            "dense_6 (Dense)              (None, 1)                 51        \n",
            "=================================================================\n",
            "Total params: 15,501\n",
            "Trainable params: 15,501\n",
            "Non-trainable params: 0\n",
            "_________________________________________________________________\n"
          ],
          "name": "stdout"
        }
      ]
    },
    {
      "cell_type": "code",
      "metadata": {
        "id": "Q3g3ZQjOfnQ2"
      },
      "source": [
        "# compile the model\n",
        "model1.compile(optimizer='Adam', \n",
        "              loss='binary_crossentropy',\n",
        "              metrics=['accuracy'])"
      ],
      "execution_count": null,
      "outputs": []
    },
    {
      "cell_type": "code",
      "metadata": {
        "id": "XpfgX2qfWZwT",
        "colab": {
          "base_uri": "https://localhost:8080/",
          "height": 1000
        },
        "outputId": "7120df9c-be0d-4c09-b6e6-157784e3fbf2"
      },
      "source": [
        "# Add early stopping\n",
        "\n",
        "# early stopping callback with patience set to 10\n",
        "\n",
        "es = EarlyStopping(monitor='val_accuracy', \n",
        "                                   mode='max', # maximize the accuracy\n",
        "                                   patience=10,\n",
        "                                   restore_best_weights=True)\n",
        "\n",
        "# model fit \n",
        "history1 = model1.fit(X_train,\n",
        "                    y_train,\n",
        "                    callbacks=[es],\n",
        "                    epochs=5000, \n",
        "                    batch_size=500,\n",
        "                    validation_data=(X_valid,y_valid),\n",
        "                    verbose=1\n",
        "                    )"
      ],
      "execution_count": null,
      "outputs": [
        {
          "output_type": "stream",
          "text": [
            "Epoch 1/5000\n",
            "136/136 [==============================] - 1s 8ms/step - loss: 0.6029 - accuracy: 0.6675 - val_loss: 0.5038 - val_accuracy: 0.7485\n",
            "Epoch 2/5000\n",
            "136/136 [==============================] - 1s 7ms/step - loss: 0.5101 - accuracy: 0.7396 - val_loss: 0.4581 - val_accuracy: 0.7696\n",
            "Epoch 3/5000\n",
            "136/136 [==============================] - 1s 7ms/step - loss: 0.4701 - accuracy: 0.7581 - val_loss: 0.4181 - val_accuracy: 0.7850\n",
            "Epoch 4/5000\n",
            "136/136 [==============================] - 1s 7ms/step - loss: 0.4299 - accuracy: 0.7773 - val_loss: 0.3826 - val_accuracy: 0.8023\n",
            "Epoch 5/5000\n",
            "136/136 [==============================] - 1s 7ms/step - loss: 0.3957 - accuracy: 0.7915 - val_loss: 0.3680 - val_accuracy: 0.8057\n",
            "Epoch 6/5000\n",
            "136/136 [==============================] - 1s 7ms/step - loss: 0.3786 - accuracy: 0.7990 - val_loss: 0.3513 - val_accuracy: 0.8123\n",
            "Epoch 7/5000\n",
            "136/136 [==============================] - 1s 7ms/step - loss: 0.3680 - accuracy: 0.8043 - val_loss: 0.3452 - val_accuracy: 0.8151\n",
            "Epoch 8/5000\n",
            "136/136 [==============================] - 1s 7ms/step - loss: 0.3597 - accuracy: 0.8095 - val_loss: 0.3406 - val_accuracy: 0.8197\n",
            "Epoch 9/5000\n",
            "136/136 [==============================] - 1s 7ms/step - loss: 0.3533 - accuracy: 0.8105 - val_loss: 0.3359 - val_accuracy: 0.8217\n",
            "Epoch 10/5000\n",
            "136/136 [==============================] - 1s 7ms/step - loss: 0.3467 - accuracy: 0.8140 - val_loss: 0.3300 - val_accuracy: 0.8228\n",
            "Epoch 11/5000\n",
            "136/136 [==============================] - 1s 7ms/step - loss: 0.3432 - accuracy: 0.8167 - val_loss: 0.3282 - val_accuracy: 0.8258\n",
            "Epoch 12/5000\n",
            "136/136 [==============================] - 1s 7ms/step - loss: 0.3380 - accuracy: 0.8205 - val_loss: 0.3256 - val_accuracy: 0.8289\n",
            "Epoch 13/5000\n",
            "136/136 [==============================] - 1s 7ms/step - loss: 0.3361 - accuracy: 0.8207 - val_loss: 0.3231 - val_accuracy: 0.8286\n",
            "Epoch 14/5000\n",
            "136/136 [==============================] - 1s 7ms/step - loss: 0.3324 - accuracy: 0.8255 - val_loss: 0.3205 - val_accuracy: 0.8313\n",
            "Epoch 15/5000\n",
            "136/136 [==============================] - 1s 7ms/step - loss: 0.3307 - accuracy: 0.8246 - val_loss: 0.3197 - val_accuracy: 0.8337\n",
            "Epoch 16/5000\n",
            "136/136 [==============================] - 1s 7ms/step - loss: 0.3271 - accuracy: 0.8289 - val_loss: 0.3192 - val_accuracy: 0.8331\n",
            "Epoch 17/5000\n",
            "136/136 [==============================] - 1s 7ms/step - loss: 0.3247 - accuracy: 0.8288 - val_loss: 0.3160 - val_accuracy: 0.8381\n",
            "Epoch 18/5000\n",
            "136/136 [==============================] - 1s 7ms/step - loss: 0.3232 - accuracy: 0.8300 - val_loss: 0.3139 - val_accuracy: 0.8401\n",
            "Epoch 19/5000\n",
            "136/136 [==============================] - 1s 7ms/step - loss: 0.3210 - accuracy: 0.8322 - val_loss: 0.3118 - val_accuracy: 0.8395\n",
            "Epoch 20/5000\n",
            "136/136 [==============================] - 1s 7ms/step - loss: 0.3194 - accuracy: 0.8345 - val_loss: 0.3082 - val_accuracy: 0.8430\n",
            "Epoch 21/5000\n",
            "136/136 [==============================] - 1s 7ms/step - loss: 0.3200 - accuracy: 0.8339 - val_loss: 0.3075 - val_accuracy: 0.8427\n",
            "Epoch 22/5000\n",
            "136/136 [==============================] - 1s 7ms/step - loss: 0.3167 - accuracy: 0.8365 - val_loss: 0.3048 - val_accuracy: 0.8475\n",
            "Epoch 23/5000\n",
            "136/136 [==============================] - 1s 7ms/step - loss: 0.3152 - accuracy: 0.8375 - val_loss: 0.3049 - val_accuracy: 0.8456\n",
            "Epoch 24/5000\n",
            "136/136 [==============================] - 1s 7ms/step - loss: 0.3154 - accuracy: 0.8365 - val_loss: 0.3048 - val_accuracy: 0.8485\n",
            "Epoch 25/5000\n",
            "136/136 [==============================] - 1s 7ms/step - loss: 0.3141 - accuracy: 0.8378 - val_loss: 0.3050 - val_accuracy: 0.8447\n",
            "Epoch 26/5000\n",
            "136/136 [==============================] - 1s 7ms/step - loss: 0.3130 - accuracy: 0.8392 - val_loss: 0.3009 - val_accuracy: 0.8498\n",
            "Epoch 27/5000\n",
            "136/136 [==============================] - 1s 7ms/step - loss: 0.3116 - accuracy: 0.8412 - val_loss: 0.2987 - val_accuracy: 0.8469\n",
            "Epoch 28/5000\n",
            "136/136 [==============================] - 1s 7ms/step - loss: 0.3105 - accuracy: 0.8402 - val_loss: 0.3028 - val_accuracy: 0.8502\n",
            "Epoch 29/5000\n",
            "136/136 [==============================] - 1s 7ms/step - loss: 0.3112 - accuracy: 0.8416 - val_loss: 0.2953 - val_accuracy: 0.8528\n",
            "Epoch 30/5000\n",
            "136/136 [==============================] - 1s 7ms/step - loss: 0.3097 - accuracy: 0.8409 - val_loss: 0.2996 - val_accuracy: 0.8509\n",
            "Epoch 31/5000\n",
            "136/136 [==============================] - 1s 7ms/step - loss: 0.3083 - accuracy: 0.8427 - val_loss: 0.2981 - val_accuracy: 0.8498\n",
            "Epoch 32/5000\n",
            "136/136 [==============================] - 1s 7ms/step - loss: 0.3061 - accuracy: 0.8438 - val_loss: 0.2951 - val_accuracy: 0.8548\n",
            "Epoch 33/5000\n",
            "136/136 [==============================] - 1s 7ms/step - loss: 0.3050 - accuracy: 0.8451 - val_loss: 0.2940 - val_accuracy: 0.8541\n",
            "Epoch 34/5000\n",
            "136/136 [==============================] - 1s 7ms/step - loss: 0.3052 - accuracy: 0.8448 - val_loss: 0.3028 - val_accuracy: 0.8456\n",
            "Epoch 35/5000\n",
            "136/136 [==============================] - 1s 7ms/step - loss: 0.3047 - accuracy: 0.8448 - val_loss: 0.2921 - val_accuracy: 0.8554\n",
            "Epoch 36/5000\n",
            "136/136 [==============================] - 1s 7ms/step - loss: 0.3031 - accuracy: 0.8460 - val_loss: 0.2914 - val_accuracy: 0.8574\n",
            "Epoch 37/5000\n",
            "136/136 [==============================] - 1s 7ms/step - loss: 0.3042 - accuracy: 0.8450 - val_loss: 0.2904 - val_accuracy: 0.8558\n",
            "Epoch 38/5000\n",
            "136/136 [==============================] - 1s 7ms/step - loss: 0.3033 - accuracy: 0.8466 - val_loss: 0.2907 - val_accuracy: 0.8560\n",
            "Epoch 39/5000\n",
            "136/136 [==============================] - 1s 7ms/step - loss: 0.3011 - accuracy: 0.8483 - val_loss: 0.2933 - val_accuracy: 0.8524\n",
            "Epoch 40/5000\n",
            "136/136 [==============================] - 1s 7ms/step - loss: 0.3004 - accuracy: 0.8477 - val_loss: 0.2955 - val_accuracy: 0.8555\n",
            "Epoch 41/5000\n",
            "136/136 [==============================] - 1s 7ms/step - loss: 0.3011 - accuracy: 0.8491 - val_loss: 0.2883 - val_accuracy: 0.8583\n",
            "Epoch 42/5000\n",
            "136/136 [==============================] - 1s 7ms/step - loss: 0.3001 - accuracy: 0.8482 - val_loss: 0.2896 - val_accuracy: 0.8593\n",
            "Epoch 43/5000\n",
            "136/136 [==============================] - 1s 7ms/step - loss: 0.2998 - accuracy: 0.8479 - val_loss: 0.2877 - val_accuracy: 0.8569\n",
            "Epoch 44/5000\n",
            "136/136 [==============================] - 1s 7ms/step - loss: 0.2986 - accuracy: 0.8482 - val_loss: 0.2911 - val_accuracy: 0.8564\n",
            "Epoch 45/5000\n",
            "136/136 [==============================] - 1s 7ms/step - loss: 0.2987 - accuracy: 0.8488 - val_loss: 0.2864 - val_accuracy: 0.8604\n",
            "Epoch 46/5000\n",
            "136/136 [==============================] - 1s 7ms/step - loss: 0.2975 - accuracy: 0.8504 - val_loss: 0.2841 - val_accuracy: 0.8611\n",
            "Epoch 47/5000\n",
            "136/136 [==============================] - 1s 7ms/step - loss: 0.2963 - accuracy: 0.8523 - val_loss: 0.2889 - val_accuracy: 0.8550\n",
            "Epoch 48/5000\n",
            "136/136 [==============================] - 1s 7ms/step - loss: 0.2964 - accuracy: 0.8504 - val_loss: 0.2855 - val_accuracy: 0.8598\n",
            "Epoch 49/5000\n",
            "136/136 [==============================] - 1s 7ms/step - loss: 0.2968 - accuracy: 0.8501 - val_loss: 0.2841 - val_accuracy: 0.8616\n",
            "Epoch 50/5000\n",
            "136/136 [==============================] - 1s 7ms/step - loss: 0.2953 - accuracy: 0.8516 - val_loss: 0.2855 - val_accuracy: 0.8615\n",
            "Epoch 51/5000\n",
            "136/136 [==============================] - 1s 7ms/step - loss: 0.2947 - accuracy: 0.8527 - val_loss: 0.2856 - val_accuracy: 0.8591\n",
            "Epoch 52/5000\n",
            "136/136 [==============================] - 1s 7ms/step - loss: 0.2942 - accuracy: 0.8523 - val_loss: 0.2848 - val_accuracy: 0.8588\n",
            "Epoch 53/5000\n",
            "136/136 [==============================] - 1s 7ms/step - loss: 0.2963 - accuracy: 0.8518 - val_loss: 0.2816 - val_accuracy: 0.8614\n",
            "Epoch 54/5000\n",
            "136/136 [==============================] - 1s 7ms/step - loss: 0.2943 - accuracy: 0.8531 - val_loss: 0.2837 - val_accuracy: 0.8598\n",
            "Epoch 55/5000\n",
            "136/136 [==============================] - 1s 7ms/step - loss: 0.2951 - accuracy: 0.8523 - val_loss: 0.2870 - val_accuracy: 0.8569\n",
            "Epoch 56/5000\n",
            "136/136 [==============================] - 1s 7ms/step - loss: 0.2922 - accuracy: 0.8546 - val_loss: 0.2814 - val_accuracy: 0.8658\n",
            "Epoch 57/5000\n",
            "136/136 [==============================] - 1s 7ms/step - loss: 0.2911 - accuracy: 0.8547 - val_loss: 0.2800 - val_accuracy: 0.8634\n",
            "Epoch 58/5000\n",
            "136/136 [==============================] - 1s 7ms/step - loss: 0.2932 - accuracy: 0.8532 - val_loss: 0.2787 - val_accuracy: 0.8647\n",
            "Epoch 59/5000\n",
            "136/136 [==============================] - 1s 8ms/step - loss: 0.2923 - accuracy: 0.8551 - val_loss: 0.2837 - val_accuracy: 0.8631\n",
            "Epoch 60/5000\n",
            "136/136 [==============================] - 1s 7ms/step - loss: 0.2921 - accuracy: 0.8541 - val_loss: 0.2776 - val_accuracy: 0.8652\n",
            "Epoch 61/5000\n",
            "136/136 [==============================] - 1s 7ms/step - loss: 0.2932 - accuracy: 0.8538 - val_loss: 0.2818 - val_accuracy: 0.8632\n",
            "Epoch 62/5000\n",
            "136/136 [==============================] - 1s 7ms/step - loss: 0.2890 - accuracy: 0.8564 - val_loss: 0.2772 - val_accuracy: 0.8640\n",
            "Epoch 63/5000\n",
            "136/136 [==============================] - 1s 7ms/step - loss: 0.2906 - accuracy: 0.8557 - val_loss: 0.2755 - val_accuracy: 0.8685\n",
            "Epoch 64/5000\n",
            "136/136 [==============================] - 1s 7ms/step - loss: 0.2887 - accuracy: 0.8564 - val_loss: 0.2749 - val_accuracy: 0.8653\n",
            "Epoch 65/5000\n",
            "136/136 [==============================] - 1s 7ms/step - loss: 0.2897 - accuracy: 0.8559 - val_loss: 0.2776 - val_accuracy: 0.8655\n",
            "Epoch 66/5000\n",
            "136/136 [==============================] - 1s 7ms/step - loss: 0.2892 - accuracy: 0.8571 - val_loss: 0.2769 - val_accuracy: 0.8655\n",
            "Epoch 67/5000\n",
            "136/136 [==============================] - 1s 7ms/step - loss: 0.2897 - accuracy: 0.8562 - val_loss: 0.2777 - val_accuracy: 0.8650\n",
            "Epoch 68/5000\n",
            "136/136 [==============================] - 1s 7ms/step - loss: 0.2887 - accuracy: 0.8576 - val_loss: 0.2785 - val_accuracy: 0.8678\n",
            "Epoch 69/5000\n",
            "136/136 [==============================] - 1s 7ms/step - loss: 0.2881 - accuracy: 0.8575 - val_loss: 0.2749 - val_accuracy: 0.8663\n",
            "Epoch 70/5000\n",
            "136/136 [==============================] - 1s 7ms/step - loss: 0.2873 - accuracy: 0.8577 - val_loss: 0.2736 - val_accuracy: 0.8695\n",
            "Epoch 71/5000\n",
            "136/136 [==============================] - 1s 7ms/step - loss: 0.2866 - accuracy: 0.8578 - val_loss: 0.2721 - val_accuracy: 0.8705\n",
            "Epoch 72/5000\n",
            "136/136 [==============================] - 1s 7ms/step - loss: 0.2867 - accuracy: 0.8581 - val_loss: 0.2772 - val_accuracy: 0.8689\n",
            "Epoch 73/5000\n",
            "136/136 [==============================] - 1s 7ms/step - loss: 0.2879 - accuracy: 0.8580 - val_loss: 0.2785 - val_accuracy: 0.8649\n",
            "Epoch 74/5000\n",
            "136/136 [==============================] - 1s 7ms/step - loss: 0.2864 - accuracy: 0.8589 - val_loss: 0.2729 - val_accuracy: 0.8682\n",
            "Epoch 75/5000\n",
            "136/136 [==============================] - 1s 7ms/step - loss: 0.2880 - accuracy: 0.8568 - val_loss: 0.2731 - val_accuracy: 0.8690\n",
            "Epoch 76/5000\n",
            "136/136 [==============================] - 1s 7ms/step - loss: 0.2869 - accuracy: 0.8582 - val_loss: 0.2738 - val_accuracy: 0.8670\n",
            "Epoch 77/5000\n",
            "136/136 [==============================] - 1s 7ms/step - loss: 0.2862 - accuracy: 0.8586 - val_loss: 0.2735 - val_accuracy: 0.8690\n",
            "Epoch 78/5000\n",
            "136/136 [==============================] - 1s 7ms/step - loss: 0.2841 - accuracy: 0.8610 - val_loss: 0.2720 - val_accuracy: 0.8713\n",
            "Epoch 79/5000\n",
            "136/136 [==============================] - 1s 8ms/step - loss: 0.2842 - accuracy: 0.8604 - val_loss: 0.2740 - val_accuracy: 0.8697\n",
            "Epoch 80/5000\n",
            "136/136 [==============================] - 1s 8ms/step - loss: 0.2852 - accuracy: 0.8600 - val_loss: 0.2741 - val_accuracy: 0.8679\n",
            "Epoch 81/5000\n",
            "136/136 [==============================] - 1s 8ms/step - loss: 0.2857 - accuracy: 0.8597 - val_loss: 0.2706 - val_accuracy: 0.8694\n",
            "Epoch 82/5000\n",
            "136/136 [==============================] - 1s 8ms/step - loss: 0.2850 - accuracy: 0.8608 - val_loss: 0.2713 - val_accuracy: 0.8691\n",
            "Epoch 83/5000\n",
            "136/136 [==============================] - 1s 8ms/step - loss: 0.2841 - accuracy: 0.8609 - val_loss: 0.2683 - val_accuracy: 0.8713\n",
            "Epoch 84/5000\n",
            "136/136 [==============================] - 1s 7ms/step - loss: 0.2844 - accuracy: 0.8605 - val_loss: 0.2733 - val_accuracy: 0.8686\n",
            "Epoch 85/5000\n",
            "136/136 [==============================] - 1s 7ms/step - loss: 0.2827 - accuracy: 0.8611 - val_loss: 0.2708 - val_accuracy: 0.8692\n",
            "Epoch 86/5000\n",
            "136/136 [==============================] - 1s 7ms/step - loss: 0.2829 - accuracy: 0.8610 - val_loss: 0.2724 - val_accuracy: 0.8678\n",
            "Epoch 87/5000\n",
            "136/136 [==============================] - 1s 7ms/step - loss: 0.2809 - accuracy: 0.8619 - val_loss: 0.2711 - val_accuracy: 0.8686\n",
            "Epoch 88/5000\n",
            "136/136 [==============================] - 1s 7ms/step - loss: 0.2841 - accuracy: 0.8609 - val_loss: 0.2678 - val_accuracy: 0.8705\n",
            "Epoch 89/5000\n",
            "136/136 [==============================] - 1s 7ms/step - loss: 0.2821 - accuracy: 0.8607 - val_loss: 0.2718 - val_accuracy: 0.8688\n",
            "Epoch 90/5000\n",
            "136/136 [==============================] - 1s 7ms/step - loss: 0.2827 - accuracy: 0.8612 - val_loss: 0.2685 - val_accuracy: 0.8736\n",
            "Epoch 91/5000\n",
            "136/136 [==============================] - 1s 7ms/step - loss: 0.2807 - accuracy: 0.8625 - val_loss: 0.2686 - val_accuracy: 0.8709\n",
            "Epoch 92/5000\n",
            "136/136 [==============================] - 1s 7ms/step - loss: 0.2820 - accuracy: 0.8625 - val_loss: 0.2676 - val_accuracy: 0.8736\n",
            "Epoch 93/5000\n",
            "136/136 [==============================] - 1s 7ms/step - loss: 0.2816 - accuracy: 0.8625 - val_loss: 0.2700 - val_accuracy: 0.8711\n",
            "Epoch 94/5000\n",
            "136/136 [==============================] - 1s 7ms/step - loss: 0.2815 - accuracy: 0.8610 - val_loss: 0.2676 - val_accuracy: 0.8720\n",
            "Epoch 95/5000\n",
            "136/136 [==============================] - 1s 7ms/step - loss: 0.2801 - accuracy: 0.8623 - val_loss: 0.2674 - val_accuracy: 0.8730\n",
            "Epoch 96/5000\n",
            "136/136 [==============================] - 1s 7ms/step - loss: 0.2819 - accuracy: 0.8614 - val_loss: 0.2683 - val_accuracy: 0.8720\n",
            "Epoch 97/5000\n",
            "136/136 [==============================] - 1s 7ms/step - loss: 0.2803 - accuracy: 0.8636 - val_loss: 0.2688 - val_accuracy: 0.8733\n",
            "Epoch 98/5000\n",
            "136/136 [==============================] - 1s 7ms/step - loss: 0.2816 - accuracy: 0.8620 - val_loss: 0.2697 - val_accuracy: 0.8704\n",
            "Epoch 99/5000\n",
            "136/136 [==============================] - 1s 7ms/step - loss: 0.2818 - accuracy: 0.8627 - val_loss: 0.2696 - val_accuracy: 0.8725\n",
            "Epoch 100/5000\n",
            "136/136 [==============================] - 1s 7ms/step - loss: 0.2800 - accuracy: 0.8627 - val_loss: 0.2670 - val_accuracy: 0.8724\n"
          ],
          "name": "stdout"
        }
      ]
    },
    {
      "cell_type": "markdown",
      "metadata": {
        "id": "RXq0bpXoiZjE"
      },
      "source": [
        "### Evaluate the FFNN-Model1 ###\n",
        "\n"
      ]
    },
    {
      "cell_type": "code",
      "metadata": {
        "id": "Uhv3bKQTgJb7",
        "colab": {
          "base_uri": "https://localhost:8080/",
          "height": 35
        },
        "outputId": "5da41f30-9804-4859-c77c-3b032cd9de21"
      },
      "source": [
        "history1.history.keys()"
      ],
      "execution_count": null,
      "outputs": [
        {
          "output_type": "execute_result",
          "data": {
            "text/plain": [
              "dict_keys(['loss', 'accuracy', 'val_loss', 'val_accuracy'])"
            ]
          },
          "metadata": {
            "tags": []
          },
          "execution_count": 50
        }
      ]
    },
    {
      "cell_type": "code",
      "metadata": {
        "id": "4ioEVl_Cf5h_",
        "colab": {
          "base_uri": "https://localhost:8080/",
          "height": 350
        },
        "outputId": "7f6c7aec-ba59-4a1b-ccf4-24cb07712f01"
      },
      "source": [
        "#training and validation loss by epoch\n",
        "history_dict = history1.history\n",
        "loss_values = history_dict['loss'] # training loss\n",
        "val_loss_values = history_dict['val_loss'] # validation loss\n",
        "epochs = range(1, len(loss_values) + 1) # range of X (no. of epochs)\n",
        "plt.figure(figsize=(15,5))\n",
        "plt.plot(epochs, loss_values, 'bo', label='Training loss')\n",
        "plt.plot(epochs, val_loss_values, 'orange', label='Validation loss')\n",
        "plt.title('Training and validation loss')\n",
        "plt.xlabel('Epochs')\n",
        "plt.ylabel('Loss')\n",
        "plt.legend()\n",
        "plt.show()"
      ],
      "execution_count": null,
      "outputs": [
        {
          "output_type": "display_data",
          "data": {
            "image/png": "[encoded data removed]",
            "text/plain": [
              "<Figure size 1080x360 with 1 Axes>"
            ]
          },
          "metadata": {
            "tags": [],
            "needs_background": "light"
          }
        }
      ]
    },
    {
      "cell_type": "code",
      "metadata": {
        "id": "QRf4kVv7lgd-",
        "colab": {
          "base_uri": "https://localhost:8080/",
          "height": 350
        },
        "outputId": "3e8e66c4-f0fb-494e-e1d5-2eb6ef6c837b"
      },
      "source": [
        "# training and validation accuracy by epoch\n",
        "history_dict = history1.history\n",
        "acc = history_dict['accuracy'] # training accuracy\n",
        "val_acc = history_dict['val_accuracy'] # validation accuracy\n",
        "epochs = range(1, len(acc) + 1) # range of X (no. of epochs)\n",
        "plt.figure(figsize=(15,5))\n",
        "plt.plot(epochs, acc, 'bo', label='Training acc')\n",
        "plt.plot(epochs, val_acc, 'orange', label='Validation acc')\n",
        "plt.title('Training and validation acc')\n",
        "plt.xlabel('Epochs')\n",
        "plt.ylabel('Acc')\n",
        "plt.legend()\n",
        "plt.show()"
      ],
      "execution_count": null,
      "outputs": [
        {
          "output_type": "display_data",
          "data": {
            "image/png": "[encoded data removed]",
            "text/plain": [
              "<Figure size 1080x360 with 1 Axes>"
            ]
          },
          "metadata": {
            "tags": [],
            "needs_background": "light"
          }
        }
      ]
    },
    {
      "cell_type": "code",
      "metadata": {
        "id": "e5w4Cjdxj6rE",
        "colab": {
          "base_uri": "https://localhost:8080/",
          "height": 52
        },
        "outputId": "e8a774c9-e210-440b-f5ab-197dd495627d"
      },
      "source": [
        "# this is the max value\n",
        "print(np.max(val_acc)) # the highest validation accuracy \n",
        "print(np.max(acc)) #the highest training accuracy"
      ],
      "execution_count": null,
      "outputs": [
        {
          "output_type": "stream",
          "text": [
            "0.8735638856887817\n",
            "0.8636108040809631\n"
          ],
          "name": "stdout"
        }
      ]
    },
    {
      "cell_type": "code",
      "metadata": {
        "id": "WGlaioi_dDPs"
      },
      "source": [
        "#predict the validation results \n",
        "preds = np.round(model1.predict(X_valid),0)"
      ],
      "execution_count": null,
      "outputs": []
    },
    {
      "cell_type": "code",
      "metadata": {
        "id": "kvcWPxpqdWKL",
        "colab": {
          "base_uri": "https://localhost:8080/",
          "height": 35
        },
        "outputId": "f8052493-08de-4a1c-ff24-d56c88f3db87"
      },
      "source": [
        "#Evaluating the model\n",
        "\n",
        "tn, fp, fn, tp = confusion_matrix(y_valid, preds).ravel()\n",
        "tn, fp, fn, tp\n"
      ],
      "execution_count": null,
      "outputs": [
        {
          "output_type": "execute_result",
          "data": {
            "text/plain": [
              "(7014, 1839, 296, 7737)"
            ]
          },
          "metadata": {
            "tags": []
          },
          "execution_count": 55
        }
      ]
    },
    {
      "cell_type": "code",
      "metadata": {
        "id": "CbIgZrMWdzK0",
        "colab": {
          "base_uri": "https://localhost:8080/",
          "height": 173
        },
        "outputId": "3241cfc8-2326-46c8-f19f-dea732d23d4f"
      },
      "source": [
        "#Classification report \n",
        "report = classification_report(y_valid, preds)\n",
        "print(report)\n"
      ],
      "execution_count": null,
      "outputs": [
        {
          "output_type": "stream",
          "text": [
            "              precision    recall  f1-score   support\n",
            "\n",
            "           0       0.96      0.79      0.87      8853\n",
            "           1       0.81      0.96      0.88      8033\n",
            "\n",
            "    accuracy                           0.87     16886\n",
            "   macro avg       0.88      0.88      0.87     16886\n",
            "weighted avg       0.89      0.87      0.87     16886\n",
            "\n"
          ],
          "name": "stdout"
        }
      ]
    },
    {
      "cell_type": "markdown",
      "metadata": {
        "id": "NMhYw3tdjezF"
      },
      "source": [
        "From the model1 results we can see that\n",
        "\n",
        "* The loss has been reduced for every epoch on both training and validation\n",
        "* The accuracy trend for both training and validation set are increasing with every epoch but there are some minor inconsistencies in accuracy of the validation data that can be observed ( regular up's and down's) indicating random noise.\n",
        "* The training and validation accuracy trend does not have much of a variation.\n",
        "* The accuracy has increased to around 87% from 79% of the baseline Logistic regression model on the validation dataset."
      ]
    },
    {
      "cell_type": "markdown",
      "metadata": {
        "id": "QfZgP1vyg9Cc"
      },
      "source": [
        "## FFNN - Model2 ##\n"
      ]
    },
    {
      "cell_type": "markdown",
      "metadata": {
        "id": "MZYIEuVjh7YN"
      },
      "source": [
        "### Fit Model ###\n",
        "\n"
      ]
    },
    {
      "cell_type": "code",
      "metadata": {
        "id": "4EzhxoNnh_6r",
        "colab": {
          "base_uri": "https://localhost:8080/",
          "height": 329
        },
        "outputId": "e1a655ad-6efd-4360-d6db-bd91e79fdf47"
      },
      "source": [
        "# Model2\n",
        "model2 = Sequential()\n",
        "model2.add(Dense(50, input_shape=(X_train.shape[1],), activation='tanh')) # Adding input features\n",
        "model2.add(Dropout(0.2))                                            #Dropout to prevent overfitting\n",
        "model2.add(Dense(40, activation='tanh'))\n",
        "model2.add(Dropout(0.2))\n",
        "model2.add(Dense(1, activation='sigmoid'))\n",
        "model2.summary() "
      ],
      "execution_count": null,
      "outputs": [
        {
          "output_type": "stream",
          "text": [
            "Model: \"sequential_1\"\n",
            "_________________________________________________________________\n",
            "Layer (type)                 Output Shape              Param #   \n",
            "=================================================================\n",
            "dense_7 (Dense)              (None, 50)                2700      \n",
            "_________________________________________________________________\n",
            "dropout_6 (Dropout)          (None, 50)                0         \n",
            "_________________________________________________________________\n",
            "dense_8 (Dense)              (None, 40)                2040      \n",
            "_________________________________________________________________\n",
            "dropout_7 (Dropout)          (None, 40)                0         \n",
            "_________________________________________________________________\n",
            "dense_9 (Dense)              (None, 1)                 41        \n",
            "=================================================================\n",
            "Total params: 4,781\n",
            "Trainable params: 4,781\n",
            "Non-trainable params: 0\n",
            "_________________________________________________________________\n"
          ],
          "name": "stdout"
        }
      ]
    },
    {
      "cell_type": "code",
      "metadata": {
        "id": "uKtMvGOa4jjA"
      },
      "source": [
        "# compile the model\n",
        "model2.compile(optimizer='Adam', \n",
        "              loss='binary_crossentropy',\n",
        "              metrics=['accuracy'])"
      ],
      "execution_count": null,
      "outputs": []
    },
    {
      "cell_type": "code",
      "metadata": {
        "id": "eYuzva964ncC",
        "colab": {
          "base_uri": "https://localhost:8080/",
          "height": 1000
        },
        "outputId": "c75a1385-37a8-482f-cf72-8f1817748bc8"
      },
      "source": [
        "# Add early stopping\n",
        "\n",
        "# early stopping callback with patience set to 10\n",
        "\n",
        "es = EarlyStopping(monitor='val_accuracy', \n",
        "                                   mode='max', # maximize the accuracy\n",
        "                                   patience=10,\n",
        "                                   restore_best_weights=True)\n",
        "\n",
        "# model fit \n",
        "history2 = model2.fit(X_train,\n",
        "                    y_train,\n",
        "                    callbacks=[es],\n",
        "                    epochs=5000, \n",
        "                    batch_size=500,\n",
        "                    validation_data=(X_valid,y_valid),\n",
        "                    verbose=1\n",
        "                    )"
      ],
      "execution_count": null,
      "outputs": [
        {
          "output_type": "stream",
          "text": [
            "Epoch 1/5000\n",
            "136/136 [==============================] - 1s 4ms/step - loss: 0.5899 - accuracy: 0.6817 - val_loss: 0.5269 - val_accuracy: 0.7259\n",
            "Epoch 2/5000\n",
            "136/136 [==============================] - 0s 3ms/step - loss: 0.5247 - accuracy: 0.7287 - val_loss: 0.4948 - val_accuracy: 0.7510\n",
            "Epoch 3/5000\n",
            "136/136 [==============================] - 0s 3ms/step - loss: 0.4985 - accuracy: 0.7436 - val_loss: 0.4693 - val_accuracy: 0.7560\n",
            "Epoch 4/5000\n",
            "136/136 [==============================] - 0s 3ms/step - loss: 0.4780 - accuracy: 0.7562 - val_loss: 0.4463 - val_accuracy: 0.7817\n",
            "Epoch 5/5000\n",
            "136/136 [==============================] - 0s 3ms/step - loss: 0.4610 - accuracy: 0.7674 - val_loss: 0.4292 - val_accuracy: 0.7854\n",
            "Epoch 6/5000\n",
            "136/136 [==============================] - 0s 3ms/step - loss: 0.4462 - accuracy: 0.7731 - val_loss: 0.4187 - val_accuracy: 0.7835\n",
            "Epoch 7/5000\n",
            "136/136 [==============================] - 0s 3ms/step - loss: 0.4335 - accuracy: 0.7768 - val_loss: 0.4055 - val_accuracy: 0.7950\n",
            "Epoch 8/5000\n",
            "136/136 [==============================] - 0s 3ms/step - loss: 0.4231 - accuracy: 0.7803 - val_loss: 0.3963 - val_accuracy: 0.7968\n",
            "Epoch 9/5000\n",
            "136/136 [==============================] - 0s 3ms/step - loss: 0.4168 - accuracy: 0.7812 - val_loss: 0.3898 - val_accuracy: 0.7981\n",
            "Epoch 10/5000\n",
            "136/136 [==============================] - 0s 3ms/step - loss: 0.4118 - accuracy: 0.7829 - val_loss: 0.3861 - val_accuracy: 0.7992\n",
            "Epoch 11/5000\n",
            "136/136 [==============================] - 0s 3ms/step - loss: 0.4078 - accuracy: 0.7829 - val_loss: 0.3820 - val_accuracy: 0.8005\n",
            "Epoch 12/5000\n",
            "136/136 [==============================] - 0s 3ms/step - loss: 0.4042 - accuracy: 0.7851 - val_loss: 0.3806 - val_accuracy: 0.8002\n",
            "Epoch 13/5000\n",
            "136/136 [==============================] - 0s 3ms/step - loss: 0.3996 - accuracy: 0.7876 - val_loss: 0.3806 - val_accuracy: 0.7977\n",
            "Epoch 14/5000\n",
            "136/136 [==============================] - 0s 3ms/step - loss: 0.3974 - accuracy: 0.7868 - val_loss: 0.3771 - val_accuracy: 0.8010\n",
            "Epoch 15/5000\n",
            "136/136 [==============================] - 0s 3ms/step - loss: 0.3963 - accuracy: 0.7868 - val_loss: 0.3766 - val_accuracy: 0.8018\n",
            "Epoch 16/5000\n",
            "136/136 [==============================] - 0s 3ms/step - loss: 0.3928 - accuracy: 0.7894 - val_loss: 0.3745 - val_accuracy: 0.8030\n",
            "Epoch 17/5000\n",
            "136/136 [==============================] - 0s 3ms/step - loss: 0.3926 - accuracy: 0.7887 - val_loss: 0.3734 - val_accuracy: 0.8017\n",
            "Epoch 18/5000\n",
            "136/136 [==============================] - 0s 3ms/step - loss: 0.3904 - accuracy: 0.7887 - val_loss: 0.3728 - val_accuracy: 0.8018\n",
            "Epoch 19/5000\n",
            "136/136 [==============================] - 0s 3ms/step - loss: 0.3892 - accuracy: 0.7890 - val_loss: 0.3719 - val_accuracy: 0.8047\n",
            "Epoch 20/5000\n",
            "136/136 [==============================] - 0s 3ms/step - loss: 0.3879 - accuracy: 0.7892 - val_loss: 0.3731 - val_accuracy: 0.8004\n",
            "Epoch 21/5000\n",
            "136/136 [==============================] - 0s 3ms/step - loss: 0.3875 - accuracy: 0.7897 - val_loss: 0.3714 - val_accuracy: 0.8042\n",
            "Epoch 22/5000\n",
            "136/136 [==============================] - 0s 3ms/step - loss: 0.3854 - accuracy: 0.7910 - val_loss: 0.3693 - val_accuracy: 0.8043\n",
            "Epoch 23/5000\n",
            "136/136 [==============================] - 0s 3ms/step - loss: 0.3857 - accuracy: 0.7898 - val_loss: 0.3683 - val_accuracy: 0.8053\n",
            "Epoch 24/5000\n",
            "136/136 [==============================] - 0s 3ms/step - loss: 0.3837 - accuracy: 0.7902 - val_loss: 0.3687 - val_accuracy: 0.8064\n",
            "Epoch 25/5000\n",
            "136/136 [==============================] - 0s 3ms/step - loss: 0.3832 - accuracy: 0.7891 - val_loss: 0.3677 - val_accuracy: 0.8055\n",
            "Epoch 26/5000\n",
            "136/136 [==============================] - 0s 3ms/step - loss: 0.3823 - accuracy: 0.7894 - val_loss: 0.3664 - val_accuracy: 0.8055\n",
            "Epoch 27/5000\n",
            "136/136 [==============================] - 0s 3ms/step - loss: 0.3804 - accuracy: 0.7922 - val_loss: 0.3663 - val_accuracy: 0.8060\n",
            "Epoch 28/5000\n",
            "136/136 [==============================] - 0s 3ms/step - loss: 0.3799 - accuracy: 0.7916 - val_loss: 0.3652 - val_accuracy: 0.8055\n",
            "Epoch 29/5000\n",
            "136/136 [==============================] - 0s 3ms/step - loss: 0.3799 - accuracy: 0.7925 - val_loss: 0.3649 - val_accuracy: 0.8079\n",
            "Epoch 30/5000\n",
            "136/136 [==============================] - 0s 3ms/step - loss: 0.3775 - accuracy: 0.7936 - val_loss: 0.3636 - val_accuracy: 0.8075\n",
            "Epoch 31/5000\n",
            "136/136 [==============================] - 0s 3ms/step - loss: 0.3785 - accuracy: 0.7916 - val_loss: 0.3668 - val_accuracy: 0.8046\n",
            "Epoch 32/5000\n",
            "136/136 [==============================] - 0s 3ms/step - loss: 0.3766 - accuracy: 0.7941 - val_loss: 0.3622 - val_accuracy: 0.8072\n",
            "Epoch 33/5000\n",
            "136/136 [==============================] - 0s 3ms/step - loss: 0.3755 - accuracy: 0.7938 - val_loss: 0.3620 - val_accuracy: 0.8088\n",
            "Epoch 34/5000\n",
            "136/136 [==============================] - 0s 3ms/step - loss: 0.3756 - accuracy: 0.7936 - val_loss: 0.3612 - val_accuracy: 0.8081\n",
            "Epoch 35/5000\n",
            "136/136 [==============================] - 0s 3ms/step - loss: 0.3755 - accuracy: 0.7941 - val_loss: 0.3622 - val_accuracy: 0.8090\n",
            "Epoch 36/5000\n",
            "136/136 [==============================] - 0s 3ms/step - loss: 0.3737 - accuracy: 0.7943 - val_loss: 0.3598 - val_accuracy: 0.8081\n",
            "Epoch 37/5000\n",
            "136/136 [==============================] - 0s 3ms/step - loss: 0.3741 - accuracy: 0.7932 - val_loss: 0.3617 - val_accuracy: 0.8074\n",
            "Epoch 38/5000\n",
            "136/136 [==============================] - 0s 3ms/step - loss: 0.3733 - accuracy: 0.7953 - val_loss: 0.3591 - val_accuracy: 0.8103\n",
            "Epoch 39/5000\n",
            "136/136 [==============================] - 0s 3ms/step - loss: 0.3729 - accuracy: 0.7940 - val_loss: 0.3585 - val_accuracy: 0.8102\n",
            "Epoch 40/5000\n",
            "136/136 [==============================] - 0s 3ms/step - loss: 0.3724 - accuracy: 0.7963 - val_loss: 0.3577 - val_accuracy: 0.8107\n",
            "Epoch 41/5000\n",
            "136/136 [==============================] - 0s 3ms/step - loss: 0.3713 - accuracy: 0.7951 - val_loss: 0.3583 - val_accuracy: 0.8093\n",
            "Epoch 42/5000\n",
            "136/136 [==============================] - 0s 4ms/step - loss: 0.3714 - accuracy: 0.7959 - val_loss: 0.3570 - val_accuracy: 0.8105\n",
            "Epoch 43/5000\n",
            "136/136 [==============================] - 0s 3ms/step - loss: 0.3705 - accuracy: 0.7963 - val_loss: 0.3571 - val_accuracy: 0.8097\n",
            "Epoch 44/5000\n",
            "136/136 [==============================] - 0s 3ms/step - loss: 0.3700 - accuracy: 0.7970 - val_loss: 0.3568 - val_accuracy: 0.8095\n",
            "Epoch 45/5000\n",
            "136/136 [==============================] - 0s 3ms/step - loss: 0.3688 - accuracy: 0.7979 - val_loss: 0.3553 - val_accuracy: 0.8114\n",
            "Epoch 46/5000\n",
            "136/136 [==============================] - 0s 3ms/step - loss: 0.3697 - accuracy: 0.7961 - val_loss: 0.3574 - val_accuracy: 0.8095\n",
            "Epoch 47/5000\n",
            "136/136 [==============================] - 0s 3ms/step - loss: 0.3681 - accuracy: 0.7975 - val_loss: 0.3548 - val_accuracy: 0.8118\n",
            "Epoch 48/5000\n",
            "136/136 [==============================] - 0s 3ms/step - loss: 0.3678 - accuracy: 0.7969 - val_loss: 0.3585 - val_accuracy: 0.8104\n",
            "Epoch 49/5000\n",
            "136/136 [==============================] - 0s 3ms/step - loss: 0.3670 - accuracy: 0.7974 - val_loss: 0.3550 - val_accuracy: 0.8093\n",
            "Epoch 50/5000\n",
            "136/136 [==============================] - 0s 3ms/step - loss: 0.3659 - accuracy: 0.7991 - val_loss: 0.3530 - val_accuracy: 0.8122\n",
            "Epoch 51/5000\n",
            "136/136 [==============================] - 0s 3ms/step - loss: 0.3667 - accuracy: 0.7980 - val_loss: 0.3531 - val_accuracy: 0.8128\n",
            "Epoch 52/5000\n",
            "136/136 [==============================] - 0s 3ms/step - loss: 0.3671 - accuracy: 0.7981 - val_loss: 0.3533 - val_accuracy: 0.8099\n",
            "Epoch 53/5000\n",
            "136/136 [==============================] - 0s 3ms/step - loss: 0.3659 - accuracy: 0.7979 - val_loss: 0.3525 - val_accuracy: 0.8114\n",
            "Epoch 54/5000\n",
            "136/136 [==============================] - 0s 3ms/step - loss: 0.3663 - accuracy: 0.7978 - val_loss: 0.3528 - val_accuracy: 0.8123\n",
            "Epoch 55/5000\n",
            "136/136 [==============================] - 0s 3ms/step - loss: 0.3647 - accuracy: 0.7977 - val_loss: 0.3530 - val_accuracy: 0.8119\n",
            "Epoch 56/5000\n",
            "136/136 [==============================] - 0s 3ms/step - loss: 0.3651 - accuracy: 0.7987 - val_loss: 0.3530 - val_accuracy: 0.8118\n",
            "Epoch 57/5000\n",
            "136/136 [==============================] - 0s 3ms/step - loss: 0.3647 - accuracy: 0.7973 - val_loss: 0.3522 - val_accuracy: 0.8122\n",
            "Epoch 58/5000\n",
            "136/136 [==============================] - 0s 3ms/step - loss: 0.3637 - accuracy: 0.8008 - val_loss: 0.3528 - val_accuracy: 0.8108\n",
            "Epoch 59/5000\n",
            "136/136 [==============================] - 0s 3ms/step - loss: 0.3648 - accuracy: 0.7991 - val_loss: 0.3534 - val_accuracy: 0.8120\n",
            "Epoch 60/5000\n",
            "136/136 [==============================] - 0s 3ms/step - loss: 0.3633 - accuracy: 0.8001 - val_loss: 0.3516 - val_accuracy: 0.8110\n",
            "Epoch 61/5000\n",
            "136/136 [==============================] - 0s 3ms/step - loss: 0.3634 - accuracy: 0.7992 - val_loss: 0.3527 - val_accuracy: 0.8126\n"
          ],
          "name": "stdout"
        }
      ]
    },
    {
      "cell_type": "markdown",
      "metadata": {
        "id": "APmBbqJF4--W"
      },
      "source": [
        "### Evaluate the FFNN model-2 ###"
      ]
    },
    {
      "cell_type": "code",
      "metadata": {
        "id": "2SScX-Kr5EJP",
        "colab": {
          "base_uri": "https://localhost:8080/",
          "height": 35
        },
        "outputId": "d7fcd2ef-897f-4b2e-f8c9-32754862981d"
      },
      "source": [
        "history2.history.keys()"
      ],
      "execution_count": null,
      "outputs": [
        {
          "output_type": "execute_result",
          "data": {
            "text/plain": [
              "dict_keys(['loss', 'accuracy', 'val_loss', 'val_accuracy'])"
            ]
          },
          "metadata": {
            "tags": []
          },
          "execution_count": 60
        }
      ]
    },
    {
      "cell_type": "code",
      "metadata": {
        "id": "fjGv1FbR5Ge-",
        "colab": {
          "base_uri": "https://localhost:8080/",
          "height": 350
        },
        "outputId": "a52246bc-c751-4d4d-a66e-be685fe47ef3"
      },
      "source": [
        "#training and validation loss by epoch\n",
        "history_dict = history2.history\n",
        "loss_values = history_dict['loss'] # training loss\n",
        "val_loss_values = history_dict['val_loss'] # validation loss\n",
        "epochs = range(1, len(loss_values) + 1) # range of X (no. of epochs)\n",
        "plt.figure(figsize=(15,5))\n",
        "plt.plot(epochs, loss_values, 'bo', label='Training loss')\n",
        "plt.plot(epochs, val_loss_values, 'orange', label='Validation loss')\n",
        "plt.title('Training and validation loss')\n",
        "plt.xlabel('Epochs')\n",
        "plt.ylabel('Loss')\n",
        "plt.legend()\n",
        "plt.show()"
      ],
      "execution_count": null,
      "outputs": [
        {
          "output_type": "display_data",
          "data": {
            "image/png": "[encoded data removed]",
            "text/plain": [
              "<Figure size 1080x360 with 1 Axes>"
            ]
          },
          "metadata": {
            "tags": [],
            "needs_background": "light"
          }
        }
      ]
    },
    {
      "cell_type": "code",
      "metadata": {
        "id": "h6uoBkkV5IiM",
        "colab": {
          "base_uri": "https://localhost:8080/",
          "height": 350
        },
        "outputId": "2e41c8f4-a809-402e-c1d8-a2d669c32311"
      },
      "source": [
        "# training and validation accuracy by epoch\n",
        "history_dict = history2.history\n",
        "acc = history_dict['accuracy'] # training accuracy\n",
        "val_acc = history_dict['val_accuracy'] # validation accuracy\n",
        "epochs = range(1, len(acc) + 1) # range of X (no. of epochs)\n",
        "plt.figure(figsize=(15,5))\n",
        "plt.plot(epochs, acc, 'bo', label='Training acc')\n",
        "plt.plot(epochs, val_acc, 'orange', label='Validation acc')\n",
        "plt.title('Training and validation acc')\n",
        "plt.xlabel('Epochs')\n",
        "plt.ylabel('Acc')\n",
        "plt.legend()\n",
        "plt.show()"
      ],
      "execution_count": null,
      "outputs": [
        {
          "output_type": "display_data",
          "data": {
            "image/png": "[encoded data removed]",
            "text/plain": [
              "<Figure size 1080x360 with 1 Axes>"
            ]
          },
          "metadata": {
            "tags": [],
            "needs_background": "light"
          }
        }
      ]
    },
    {
      "cell_type": "code",
      "metadata": {
        "id": "wNNOftXN5MZO",
        "colab": {
          "base_uri": "https://localhost:8080/",
          "height": 52
        },
        "outputId": "0242df23-da73-4894-a993-d2daa14f0a9c"
      },
      "source": [
        "# this is the max value - should correspond to\n",
        "print(np.max(val_acc)) # the highest validation accuracy \n",
        "print(np.max(acc)) #the highest training accuracy"
      ],
      "execution_count": null,
      "outputs": [
        {
          "output_type": "stream",
          "text": [
            "0.8128035068511963\n",
            "0.8008498549461365\n"
          ],
          "name": "stdout"
        }
      ]
    },
    {
      "cell_type": "code",
      "metadata": {
        "id": "tGT1Jg6l5NEl"
      },
      "source": [
        "#predict the validation results \n",
        "preds = np.round(model2.predict(X_valid),0)"
      ],
      "execution_count": null,
      "outputs": []
    },
    {
      "cell_type": "code",
      "metadata": {
        "id": "qiklj9W05Quu",
        "colab": {
          "base_uri": "https://localhost:8080/",
          "height": 35
        },
        "outputId": "f2c28d65-d2dc-4c20-c41a-e3d8f599f771"
      },
      "source": [
        "#Evaluating the model\n",
        "\n",
        "tn, fp, fn, tp = confusion_matrix(y_valid, preds).ravel()\n",
        "tn, fp, fn, tp"
      ],
      "execution_count": null,
      "outputs": [
        {
          "output_type": "execute_result",
          "data": {
            "text/plain": [
              "(6398, 2455, 706, 7327)"
            ]
          },
          "metadata": {
            "tags": []
          },
          "execution_count": 65
        }
      ]
    },
    {
      "cell_type": "code",
      "metadata": {
        "id": "lWVF7aM05VRj",
        "colab": {
          "base_uri": "https://localhost:8080/",
          "height": 173
        },
        "outputId": "bcf063a9-692f-4267-9a97-88964e03c827"
      },
      "source": [
        "#Classification report \n",
        "report = classification_report(y_valid, preds)\n",
        "print(report)"
      ],
      "execution_count": null,
      "outputs": [
        {
          "output_type": "stream",
          "text": [
            "              precision    recall  f1-score   support\n",
            "\n",
            "           0       0.90      0.72      0.80      8853\n",
            "           1       0.75      0.91      0.82      8033\n",
            "\n",
            "    accuracy                           0.81     16886\n",
            "   macro avg       0.82      0.82      0.81     16886\n",
            "weighted avg       0.83      0.81      0.81     16886\n",
            "\n"
          ],
          "name": "stdout"
        }
      ]
    },
    {
      "cell_type": "markdown",
      "metadata": {
        "id": "foD6wSJU5VRp"
      },
      "source": [
        "From the Model 2 we can see that\n",
        "\n",
        "* The training and validation dataset, for both loss and accuracy seems to have a similar trend, though there is a lot of fluctuation in the graph for training and validation accuracy.\n",
        "* Also, with tanh the accuracy has reduced to around 82% \n",
        "* We wanted to use the similar architecture with relu to understand the difference in performance."
      ]
    },
    {
      "cell_type": "markdown",
      "metadata": {
        "id": "kOLgdSAyw5zc"
      },
      "source": [
        "## FFNN - Model 3 ##"
      ]
    },
    {
      "cell_type": "markdown",
      "metadata": {
        "id": "ibGHF47IxD5L"
      },
      "source": [
        "### Fit Model ###\n"
      ]
    },
    {
      "cell_type": "code",
      "metadata": {
        "id": "9edLaihAxOmd",
        "colab": {
          "base_uri": "https://localhost:8080/",
          "height": 329
        },
        "outputId": "80a0c66b-cc05-4e22-8f1c-9ddf93ec93e2"
      },
      "source": [
        "# Model3\n",
        "model3 = Sequential()\n",
        "model3.add(Dense(50, input_shape=(X_train.shape[1],), activation='relu')) # Adding input features\n",
        "model3.add(Dropout(0.2))                                            #Dropout to prevent overfitting\n",
        "model3.add(Dense(40, activation='relu'))\n",
        "model3.add(Dropout(0.2))\n",
        "model3.add(Dense(1, activation='sigmoid'))\n",
        "model3.summary()"
      ],
      "execution_count": null,
      "outputs": [
        {
          "output_type": "stream",
          "text": [
            "Model: \"sequential\"\n",
            "_________________________________________________________________\n",
            "Layer (type)                 Output Shape              Param #   \n",
            "=================================================================\n",
            "dense (Dense)                (None, 50)                2700      \n",
            "_________________________________________________________________\n",
            "dropout (Dropout)            (None, 50)                0         \n",
            "_________________________________________________________________\n",
            "dense_1 (Dense)              (None, 40)                2040      \n",
            "_________________________________________________________________\n",
            "dropout_1 (Dropout)          (None, 40)                0         \n",
            "_________________________________________________________________\n",
            "dense_2 (Dense)              (None, 1)                 41        \n",
            "=================================================================\n",
            "Total params: 4,781\n",
            "Trainable params: 4,781\n",
            "Non-trainable params: 0\n",
            "_________________________________________________________________\n"
          ],
          "name": "stdout"
        }
      ]
    },
    {
      "cell_type": "code",
      "metadata": {
        "id": "u2tTsMx-xSG4"
      },
      "source": [
        "# compile the model\n",
        "model3.compile(optimizer='Adam', \n",
        "              loss='binary_crossentropy',\n",
        "              metrics=['accuracy'])"
      ],
      "execution_count": null,
      "outputs": []
    },
    {
      "cell_type": "code",
      "metadata": {
        "id": "-K_HVNO3xWFU",
        "colab": {
          "base_uri": "https://localhost:8080/",
          "height": 1000
        },
        "outputId": "abec865c-8f0c-455b-babd-e1c0aa92819b"
      },
      "source": [
        "# Add early stopping\n",
        "\n",
        "# early stopping callback with patience set to 10\n",
        "\n",
        "es = EarlyStopping(monitor='val_accuracy', \n",
        "                                   mode='max', # maximize the accuracy\n",
        "                                   patience=10,\n",
        "                                   restore_best_weights=True)\n",
        "\n",
        "# model fit \n",
        "history3 = model3.fit(X_train,\n",
        "                    y_train,\n",
        "                    callbacks=[es],\n",
        "                    epochs=5000, \n",
        "                    batch_size=500,\n",
        "                    validation_data=(X_valid,y_valid),\n",
        "                    verbose=1\n",
        "                    )"
      ],
      "execution_count": null,
      "outputs": [
        {
          "output_type": "stream",
          "text": [
            "Epoch 1/5000\n",
            "136/136 [==============================] - 1s 4ms/step - loss: 0.6151 - accuracy: 0.6638 - val_loss: 0.5328 - val_accuracy: 0.7301\n",
            "Epoch 2/5000\n",
            "136/136 [==============================] - 0s 3ms/step - loss: 0.5212 - accuracy: 0.7344 - val_loss: 0.4840 - val_accuracy: 0.7549\n",
            "Epoch 3/5000\n",
            "136/136 [==============================] - 0s 4ms/step - loss: 0.4817 - accuracy: 0.7535 - val_loss: 0.4446 - val_accuracy: 0.7769\n",
            "Epoch 4/5000\n",
            "136/136 [==============================] - 0s 3ms/step - loss: 0.4455 - accuracy: 0.7724 - val_loss: 0.4071 - val_accuracy: 0.7926\n",
            "Epoch 5/5000\n",
            "136/136 [==============================] - 1s 4ms/step - loss: 0.4134 - accuracy: 0.7867 - val_loss: 0.3792 - val_accuracy: 0.8069\n",
            "Epoch 6/5000\n",
            "136/136 [==============================] - 0s 3ms/step - loss: 0.3912 - accuracy: 0.7991 - val_loss: 0.3642 - val_accuracy: 0.8117\n",
            "Epoch 7/5000\n",
            "136/136 [==============================] - 0s 3ms/step - loss: 0.3759 - accuracy: 0.8066 - val_loss: 0.3547 - val_accuracy: 0.8163\n",
            "Epoch 8/5000\n",
            "136/136 [==============================] - 0s 3ms/step - loss: 0.3666 - accuracy: 0.8090 - val_loss: 0.3503 - val_accuracy: 0.8203\n",
            "Epoch 9/5000\n",
            "136/136 [==============================] - 0s 4ms/step - loss: 0.3585 - accuracy: 0.8124 - val_loss: 0.3436 - val_accuracy: 0.8213\n",
            "Epoch 10/5000\n",
            "136/136 [==============================] - 0s 3ms/step - loss: 0.3520 - accuracy: 0.8163 - val_loss: 0.3390 - val_accuracy: 0.8248\n",
            "Epoch 11/5000\n",
            "136/136 [==============================] - 0s 3ms/step - loss: 0.3467 - accuracy: 0.8191 - val_loss: 0.3372 - val_accuracy: 0.8258\n",
            "Epoch 12/5000\n",
            "136/136 [==============================] - 0s 3ms/step - loss: 0.3454 - accuracy: 0.8201 - val_loss: 0.3345 - val_accuracy: 0.8299\n",
            "Epoch 13/5000\n",
            "136/136 [==============================] - 0s 4ms/step - loss: 0.3411 - accuracy: 0.8224 - val_loss: 0.3319 - val_accuracy: 0.8268\n",
            "Epoch 14/5000\n",
            "136/136 [==============================] - 0s 3ms/step - loss: 0.3393 - accuracy: 0.8248 - val_loss: 0.3293 - val_accuracy: 0.8286\n",
            "Epoch 15/5000\n",
            "136/136 [==============================] - 0s 3ms/step - loss: 0.3353 - accuracy: 0.8263 - val_loss: 0.3283 - val_accuracy: 0.8307\n",
            "Epoch 16/5000\n",
            "136/136 [==============================] - 0s 3ms/step - loss: 0.3335 - accuracy: 0.8273 - val_loss: 0.3262 - val_accuracy: 0.8314\n",
            "Epoch 17/5000\n",
            "136/136 [==============================] - 0s 3ms/step - loss: 0.3325 - accuracy: 0.8277 - val_loss: 0.3258 - val_accuracy: 0.8318\n",
            "Epoch 18/5000\n",
            "136/136 [==============================] - 0s 3ms/step - loss: 0.3300 - accuracy: 0.8284 - val_loss: 0.3236 - val_accuracy: 0.8320\n",
            "Epoch 19/5000\n",
            "136/136 [==============================] - 0s 4ms/step - loss: 0.3287 - accuracy: 0.8299 - val_loss: 0.3219 - val_accuracy: 0.8338\n",
            "Epoch 20/5000\n",
            "136/136 [==============================] - 0s 4ms/step - loss: 0.3261 - accuracy: 0.8300 - val_loss: 0.3232 - val_accuracy: 0.8326\n",
            "Epoch 21/5000\n",
            "136/136 [==============================] - 0s 3ms/step - loss: 0.3256 - accuracy: 0.8321 - val_loss: 0.3204 - val_accuracy: 0.8347\n",
            "Epoch 22/5000\n",
            "136/136 [==============================] - 0s 3ms/step - loss: 0.3237 - accuracy: 0.8330 - val_loss: 0.3188 - val_accuracy: 0.8368\n",
            "Epoch 23/5000\n",
            "136/136 [==============================] - 0s 3ms/step - loss: 0.3231 - accuracy: 0.8335 - val_loss: 0.3186 - val_accuracy: 0.8360\n",
            "Epoch 24/5000\n",
            "136/136 [==============================] - 0s 4ms/step - loss: 0.3218 - accuracy: 0.8348 - val_loss: 0.3163 - val_accuracy: 0.8366\n",
            "Epoch 25/5000\n",
            "136/136 [==============================] - 0s 3ms/step - loss: 0.3202 - accuracy: 0.8361 - val_loss: 0.3148 - val_accuracy: 0.8366\n",
            "Epoch 26/5000\n",
            "136/136 [==============================] - 0s 4ms/step - loss: 0.3192 - accuracy: 0.8346 - val_loss: 0.3143 - val_accuracy: 0.8396\n",
            "Epoch 27/5000\n",
            "136/136 [==============================] - 0s 3ms/step - loss: 0.3189 - accuracy: 0.8356 - val_loss: 0.3143 - val_accuracy: 0.8367\n",
            "Epoch 28/5000\n",
            "136/136 [==============================] - 0s 4ms/step - loss: 0.3165 - accuracy: 0.8376 - val_loss: 0.3127 - val_accuracy: 0.8407\n",
            "Epoch 29/5000\n",
            "136/136 [==============================] - 0s 3ms/step - loss: 0.3152 - accuracy: 0.8375 - val_loss: 0.3111 - val_accuracy: 0.8411\n",
            "Epoch 30/5000\n",
            "136/136 [==============================] - 0s 3ms/step - loss: 0.3150 - accuracy: 0.8393 - val_loss: 0.3098 - val_accuracy: 0.8421\n",
            "Epoch 31/5000\n",
            "136/136 [==============================] - 0s 3ms/step - loss: 0.3132 - accuracy: 0.8397 - val_loss: 0.3093 - val_accuracy: 0.8417\n",
            "Epoch 32/5000\n",
            "136/136 [==============================] - 0s 4ms/step - loss: 0.3131 - accuracy: 0.8404 - val_loss: 0.3091 - val_accuracy: 0.8425\n",
            "Epoch 33/5000\n",
            "136/136 [==============================] - 0s 3ms/step - loss: 0.3110 - accuracy: 0.8412 - val_loss: 0.3082 - val_accuracy: 0.8448\n",
            "Epoch 34/5000\n",
            "136/136 [==============================] - 0s 3ms/step - loss: 0.3117 - accuracy: 0.8426 - val_loss: 0.3061 - val_accuracy: 0.8456\n",
            "Epoch 35/5000\n",
            "136/136 [==============================] - 0s 3ms/step - loss: 0.3109 - accuracy: 0.8423 - val_loss: 0.3062 - val_accuracy: 0.8454\n",
            "Epoch 36/5000\n",
            "136/136 [==============================] - 0s 4ms/step - loss: 0.3113 - accuracy: 0.8415 - val_loss: 0.3050 - val_accuracy: 0.8458\n",
            "Epoch 37/5000\n",
            "136/136 [==============================] - 0s 3ms/step - loss: 0.3086 - accuracy: 0.8433 - val_loss: 0.3041 - val_accuracy: 0.8461\n",
            "Epoch 38/5000\n",
            "136/136 [==============================] - 0s 3ms/step - loss: 0.3071 - accuracy: 0.8440 - val_loss: 0.3037 - val_accuracy: 0.8472\n",
            "Epoch 39/5000\n",
            "136/136 [==============================] - 0s 4ms/step - loss: 0.3080 - accuracy: 0.8431 - val_loss: 0.3025 - val_accuracy: 0.8479\n",
            "Epoch 40/5000\n",
            "136/136 [==============================] - 1s 4ms/step - loss: 0.3075 - accuracy: 0.8439 - val_loss: 0.3014 - val_accuracy: 0.8488\n",
            "Epoch 41/5000\n",
            "136/136 [==============================] - 0s 4ms/step - loss: 0.3063 - accuracy: 0.8453 - val_loss: 0.3011 - val_accuracy: 0.8482\n",
            "Epoch 42/5000\n",
            "136/136 [==============================] - 0s 3ms/step - loss: 0.3057 - accuracy: 0.8446 - val_loss: 0.3005 - val_accuracy: 0.8503\n",
            "Epoch 43/5000\n",
            "136/136 [==============================] - 1s 4ms/step - loss: 0.3047 - accuracy: 0.8454 - val_loss: 0.3003 - val_accuracy: 0.8490\n",
            "Epoch 44/5000\n",
            "136/136 [==============================] - 0s 3ms/step - loss: 0.3053 - accuracy: 0.8449 - val_loss: 0.3002 - val_accuracy: 0.8502\n",
            "Epoch 45/5000\n",
            "136/136 [==============================] - 0s 3ms/step - loss: 0.3033 - accuracy: 0.8464 - val_loss: 0.2998 - val_accuracy: 0.8502\n",
            "Epoch 46/5000\n",
            "136/136 [==============================] - 0s 3ms/step - loss: 0.3037 - accuracy: 0.8463 - val_loss: 0.2990 - val_accuracy: 0.8505\n",
            "Epoch 47/5000\n",
            "136/136 [==============================] - 0s 4ms/step - loss: 0.3026 - accuracy: 0.8458 - val_loss: 0.2972 - val_accuracy: 0.8501\n",
            "Epoch 48/5000\n",
            "136/136 [==============================] - 0s 3ms/step - loss: 0.3013 - accuracy: 0.8472 - val_loss: 0.2977 - val_accuracy: 0.8514\n",
            "Epoch 49/5000\n",
            "136/136 [==============================] - 0s 4ms/step - loss: 0.3019 - accuracy: 0.8470 - val_loss: 0.2971 - val_accuracy: 0.8517\n",
            "Epoch 50/5000\n",
            "136/136 [==============================] - 0s 3ms/step - loss: 0.3008 - accuracy: 0.8476 - val_loss: 0.2956 - val_accuracy: 0.8525\n",
            "Epoch 51/5000\n",
            "136/136 [==============================] - 0s 3ms/step - loss: 0.3018 - accuracy: 0.8465 - val_loss: 0.2969 - val_accuracy: 0.8484\n",
            "Epoch 52/5000\n",
            "136/136 [==============================] - 0s 3ms/step - loss: 0.3010 - accuracy: 0.8473 - val_loss: 0.2963 - val_accuracy: 0.8522\n",
            "Epoch 53/5000\n",
            "136/136 [==============================] - 1s 4ms/step - loss: 0.3005 - accuracy: 0.8481 - val_loss: 0.2984 - val_accuracy: 0.8502\n",
            "Epoch 54/5000\n",
            "136/136 [==============================] - 1s 4ms/step - loss: 0.2989 - accuracy: 0.8490 - val_loss: 0.2943 - val_accuracy: 0.8521\n",
            "Epoch 55/5000\n",
            "136/136 [==============================] - 0s 4ms/step - loss: 0.2984 - accuracy: 0.8498 - val_loss: 0.2945 - val_accuracy: 0.8540\n",
            "Epoch 56/5000\n",
            "136/136 [==============================] - 0s 4ms/step - loss: 0.2982 - accuracy: 0.8497 - val_loss: 0.2936 - val_accuracy: 0.8522\n",
            "Epoch 57/5000\n",
            "136/136 [==============================] - 0s 4ms/step - loss: 0.2977 - accuracy: 0.8499 - val_loss: 0.2928 - val_accuracy: 0.8540\n",
            "Epoch 58/5000\n",
            "136/136 [==============================] - 0s 4ms/step - loss: 0.2958 - accuracy: 0.8502 - val_loss: 0.2928 - val_accuracy: 0.8535\n",
            "Epoch 59/5000\n",
            "136/136 [==============================] - 0s 3ms/step - loss: 0.2975 - accuracy: 0.8504 - val_loss: 0.2925 - val_accuracy: 0.8543\n",
            "Epoch 60/5000\n",
            "136/136 [==============================] - 0s 4ms/step - loss: 0.2966 - accuracy: 0.8497 - val_loss: 0.2928 - val_accuracy: 0.8546\n",
            "Epoch 61/5000\n",
            "136/136 [==============================] - 0s 3ms/step - loss: 0.2970 - accuracy: 0.8501 - val_loss: 0.2906 - val_accuracy: 0.8540\n",
            "Epoch 62/5000\n",
            "136/136 [==============================] - 0s 4ms/step - loss: 0.2951 - accuracy: 0.8509 - val_loss: 0.2908 - val_accuracy: 0.8573\n",
            "Epoch 63/5000\n",
            "136/136 [==============================] - 0s 3ms/step - loss: 0.2957 - accuracy: 0.8504 - val_loss: 0.2905 - val_accuracy: 0.8560\n",
            "Epoch 64/5000\n",
            "136/136 [==============================] - 0s 3ms/step - loss: 0.2951 - accuracy: 0.8513 - val_loss: 0.2917 - val_accuracy: 0.8550\n",
            "Epoch 65/5000\n",
            "136/136 [==============================] - 0s 4ms/step - loss: 0.2957 - accuracy: 0.8503 - val_loss: 0.2900 - val_accuracy: 0.8563\n",
            "Epoch 66/5000\n",
            "136/136 [==============================] - 0s 4ms/step - loss: 0.2954 - accuracy: 0.8511 - val_loss: 0.2893 - val_accuracy: 0.8562\n",
            "Epoch 67/5000\n",
            "136/136 [==============================] - 0s 3ms/step - loss: 0.2953 - accuracy: 0.8512 - val_loss: 0.2891 - val_accuracy: 0.8559\n",
            "Epoch 68/5000\n",
            "136/136 [==============================] - 0s 3ms/step - loss: 0.2940 - accuracy: 0.8517 - val_loss: 0.2894 - val_accuracy: 0.8557\n",
            "Epoch 69/5000\n",
            "136/136 [==============================] - 1s 4ms/step - loss: 0.2937 - accuracy: 0.8532 - val_loss: 0.2883 - val_accuracy: 0.8591\n",
            "Epoch 70/5000\n",
            "136/136 [==============================] - 0s 3ms/step - loss: 0.2919 - accuracy: 0.8540 - val_loss: 0.2872 - val_accuracy: 0.8572\n",
            "Epoch 71/5000\n",
            "136/136 [==============================] - 0s 3ms/step - loss: 0.2920 - accuracy: 0.8538 - val_loss: 0.2882 - val_accuracy: 0.8562\n",
            "Epoch 72/5000\n",
            "136/136 [==============================] - 0s 4ms/step - loss: 0.2932 - accuracy: 0.8539 - val_loss: 0.2878 - val_accuracy: 0.8575\n",
            "Epoch 73/5000\n",
            "136/136 [==============================] - 0s 3ms/step - loss: 0.2934 - accuracy: 0.8535 - val_loss: 0.2881 - val_accuracy: 0.8574\n",
            "Epoch 74/5000\n",
            "136/136 [==============================] - 1s 4ms/step - loss: 0.2908 - accuracy: 0.8547 - val_loss: 0.2863 - val_accuracy: 0.8582\n",
            "Epoch 75/5000\n",
            "136/136 [==============================] - 0s 4ms/step - loss: 0.2930 - accuracy: 0.8538 - val_loss: 0.2868 - val_accuracy: 0.8578\n",
            "Epoch 76/5000\n",
            "136/136 [==============================] - 0s 3ms/step - loss: 0.2922 - accuracy: 0.8527 - val_loss: 0.2852 - val_accuracy: 0.8584\n",
            "Epoch 77/5000\n",
            "136/136 [==============================] - 0s 3ms/step - loss: 0.2907 - accuracy: 0.8541 - val_loss: 0.2849 - val_accuracy: 0.8588\n",
            "Epoch 78/5000\n",
            "136/136 [==============================] - 0s 3ms/step - loss: 0.2912 - accuracy: 0.8544 - val_loss: 0.2850 - val_accuracy: 0.8583\n",
            "Epoch 79/5000\n",
            "136/136 [==============================] - 0s 4ms/step - loss: 0.2898 - accuracy: 0.8547 - val_loss: 0.2833 - val_accuracy: 0.8627\n",
            "Epoch 80/5000\n",
            "136/136 [==============================] - 0s 4ms/step - loss: 0.2901 - accuracy: 0.8556 - val_loss: 0.2829 - val_accuracy: 0.8608\n",
            "Epoch 81/5000\n",
            "136/136 [==============================] - 0s 3ms/step - loss: 0.2886 - accuracy: 0.8551 - val_loss: 0.2841 - val_accuracy: 0.8615\n",
            "Epoch 82/5000\n",
            "136/136 [==============================] - 0s 3ms/step - loss: 0.2899 - accuracy: 0.8553 - val_loss: 0.2822 - val_accuracy: 0.8623\n",
            "Epoch 83/5000\n",
            "136/136 [==============================] - 0s 4ms/step - loss: 0.2900 - accuracy: 0.8567 - val_loss: 0.2825 - val_accuracy: 0.8608\n",
            "Epoch 84/5000\n",
            "136/136 [==============================] - 0s 3ms/step - loss: 0.2882 - accuracy: 0.8568 - val_loss: 0.2823 - val_accuracy: 0.8629\n",
            "Epoch 85/5000\n",
            "136/136 [==============================] - 0s 3ms/step - loss: 0.2882 - accuracy: 0.8562 - val_loss: 0.2819 - val_accuracy: 0.8618\n",
            "Epoch 86/5000\n",
            "136/136 [==============================] - 0s 4ms/step - loss: 0.2884 - accuracy: 0.8563 - val_loss: 0.2823 - val_accuracy: 0.8611\n",
            "Epoch 87/5000\n",
            "136/136 [==============================] - 0s 4ms/step - loss: 0.2884 - accuracy: 0.8559 - val_loss: 0.2821 - val_accuracy: 0.8612\n",
            "Epoch 88/5000\n",
            "136/136 [==============================] - 0s 3ms/step - loss: 0.2883 - accuracy: 0.8564 - val_loss: 0.2812 - val_accuracy: 0.8639\n",
            "Epoch 89/5000\n",
            "136/136 [==============================] - 0s 3ms/step - loss: 0.2862 - accuracy: 0.8573 - val_loss: 0.2816 - val_accuracy: 0.8624\n",
            "Epoch 90/5000\n",
            "136/136 [==============================] - 0s 3ms/step - loss: 0.2868 - accuracy: 0.8574 - val_loss: 0.2817 - val_accuracy: 0.8614\n",
            "Epoch 91/5000\n",
            "136/136 [==============================] - 0s 4ms/step - loss: 0.2878 - accuracy: 0.8576 - val_loss: 0.2801 - val_accuracy: 0.8626\n",
            "Epoch 92/5000\n",
            "136/136 [==============================] - 0s 3ms/step - loss: 0.2861 - accuracy: 0.8573 - val_loss: 0.2811 - val_accuracy: 0.8623\n",
            "Epoch 93/5000\n",
            "136/136 [==============================] - 0s 4ms/step - loss: 0.2858 - accuracy: 0.8588 - val_loss: 0.2818 - val_accuracy: 0.8599\n",
            "Epoch 94/5000\n",
            "136/136 [==============================] - 0s 4ms/step - loss: 0.2870 - accuracy: 0.8575 - val_loss: 0.2803 - val_accuracy: 0.8621\n",
            "Epoch 95/5000\n",
            "136/136 [==============================] - 0s 4ms/step - loss: 0.2853 - accuracy: 0.8586 - val_loss: 0.2790 - val_accuracy: 0.8632\n",
            "Epoch 96/5000\n",
            "136/136 [==============================] - 0s 4ms/step - loss: 0.2859 - accuracy: 0.8585 - val_loss: 0.2797 - val_accuracy: 0.8619\n",
            "Epoch 97/5000\n",
            "136/136 [==============================] - 0s 3ms/step - loss: 0.2855 - accuracy: 0.8597 - val_loss: 0.2792 - val_accuracy: 0.8628\n",
            "Epoch 98/5000\n",
            "136/136 [==============================] - 0s 4ms/step - loss: 0.2847 - accuracy: 0.8585 - val_loss: 0.2781 - val_accuracy: 0.8636\n"
          ],
          "name": "stdout"
        }
      ]
    },
    {
      "cell_type": "markdown",
      "metadata": {
        "id": "dwtosesM6Uq0"
      },
      "source": [
        "### Evaluate the FFNN-Model 3 ###"
      ]
    },
    {
      "cell_type": "code",
      "metadata": {
        "id": "EHiZVbj46Uq5",
        "colab": {
          "base_uri": "https://localhost:8080/",
          "height": 35
        },
        "outputId": "6f327808-b812-4e10-e65f-be095ddae12b"
      },
      "source": [
        "history3.history.keys()"
      ],
      "execution_count": null,
      "outputs": [
        {
          "output_type": "execute_result",
          "data": {
            "text/plain": [
              "dict_keys(['loss', 'accuracy', 'val_loss', 'val_accuracy'])"
            ]
          },
          "metadata": {
            "tags": []
          },
          "execution_count": 21
        }
      ]
    },
    {
      "cell_type": "code",
      "metadata": {
        "id": "6Q5jU2iI6Uq_",
        "colab": {
          "base_uri": "https://localhost:8080/",
          "height": 350
        },
        "outputId": "8f48ad9f-5b77-4460-e2d1-b493685860e1"
      },
      "source": [
        "#training and validation loss by epoch\n",
        "history_dict = history3.history\n",
        "loss_values = history_dict['loss'] # training loss\n",
        "val_loss_values = history_dict['val_loss'] # validation loss\n",
        "epochs = range(1, len(loss_values) + 1) # range of X (no. of epochs)\n",
        "plt.figure(figsize=(15,5))\n",
        "plt.plot(epochs, loss_values, 'bo', label='Training loss')\n",
        "plt.plot(epochs, val_loss_values, 'orange', label='Validation loss')\n",
        "plt.title('Training and validation loss')\n",
        "plt.xlabel('Epochs')\n",
        "plt.ylabel('Loss')\n",
        "plt.legend()\n",
        "plt.show()"
      ],
      "execution_count": null,
      "outputs": [
        {
          "output_type": "display_data",
          "data": {
            "image/png": "[encoded data removed]",
            "text/plain": [
              "<Figure size 1080x360 with 1 Axes>"
            ]
          },
          "metadata": {
            "tags": [],
            "needs_background": "light"
          }
        }
      ]
    },
    {
      "cell_type": "code",
      "metadata": {
        "id": "y8aygGl96UrC",
        "colab": {
          "base_uri": "https://localhost:8080/",
          "height": 350
        },
        "outputId": "dc7cb93e-492f-4c1f-ae3d-80c60f6d88d2"
      },
      "source": [
        "# training and validation accuracy by epoch\n",
        "history_dict = history3.history\n",
        "acc = history_dict['accuracy'] # training accuracy\n",
        "val_acc = history_dict['val_accuracy'] # validation accuracy\n",
        "epochs = range(1, len(acc) + 1) # range of X (no. of epochs)\n",
        "plt.figure(figsize=(15,5))\n",
        "plt.plot(epochs, acc, 'bo', label='Training acc')\n",
        "plt.plot(epochs, val_acc, 'orange', label='Validation acc')\n",
        "plt.title('Training and validation acc')\n",
        "plt.xlabel('Epochs')\n",
        "plt.ylabel('Acc')\n",
        "plt.legend()\n",
        "plt.show()"
      ],
      "execution_count": null,
      "outputs": [
        {
          "output_type": "display_data",
          "data": {
            "image/png": "[encoded data removed]",
            "text/plain": [
              "<Figure size 1080x360 with 1 Axes>"
            ]
          },
          "metadata": {
            "tags": [],
            "needs_background": "light"
          }
        }
      ]
    },
    {
      "cell_type": "code",
      "metadata": {
        "id": "iSd3gZX16UrE",
        "colab": {
          "base_uri": "https://localhost:8080/",
          "height": 52
        },
        "outputId": "e64bfc84-9539-41a3-b417-dd1b79d840e2"
      },
      "source": [
        "# this is the max value\n",
        "print(np.max(val_acc)) # the highest validation accuracy \n",
        "print(np.max(acc)) #the highest training accuracy"
      ],
      "execution_count": null,
      "outputs": [
        {
          "output_type": "stream",
          "text": [
            "0.8681156039237976\n",
            "0.8636996150016785\n"
          ],
          "name": "stdout"
        }
      ]
    },
    {
      "cell_type": "code",
      "metadata": {
        "id": "ekjBLWRu6UrJ"
      },
      "source": [
        "#predict the validation results \n",
        "preds = np.round(model3.predict(X_valid),0)"
      ],
      "execution_count": null,
      "outputs": []
    },
    {
      "cell_type": "code",
      "metadata": {
        "id": "4N2hPbHA6UrM",
        "colab": {
          "base_uri": "https://localhost:8080/",
          "height": 35
        },
        "outputId": "4f8822a9-b8cf-4a54-cc35-3970163d7a45"
      },
      "source": [
        "#Evaluating the model\n",
        "\n",
        "tn, fp, fn, tp = confusion_matrix(y_valid, preds).ravel()\n",
        "tn, fp, fn, tp\n"
      ],
      "execution_count": null,
      "outputs": [
        {
          "output_type": "execute_result",
          "data": {
            "text/plain": [
              "(7155, 1698, 529, 7504)"
            ]
          },
          "metadata": {
            "tags": []
          },
          "execution_count": 75
        }
      ]
    },
    {
      "cell_type": "code",
      "metadata": {
        "id": "Jd_pne156UrO",
        "colab": {
          "base_uri": "https://localhost:8080/",
          "height": 173
        },
        "outputId": "081b31cb-350b-4deb-8dd1-de5eff0777b3"
      },
      "source": [
        "#Classification report \n",
        "report = classification_report(y_valid, preds)\n",
        "print(report)\n"
      ],
      "execution_count": null,
      "outputs": [
        {
          "output_type": "stream",
          "text": [
            "              precision    recall  f1-score   support\n",
            "\n",
            "           0       0.94      0.79      0.86      8853\n",
            "           1       0.80      0.94      0.87      8033\n",
            "\n",
            "    accuracy                           0.86     16886\n",
            "   macro avg       0.87      0.87      0.86     16886\n",
            "weighted avg       0.88      0.86      0.86     16886\n",
            "\n"
          ],
          "name": "stdout"
        }
      ]
    },
    {
      "cell_type": "markdown",
      "metadata": {
        "id": "AbQ3RruV6UrP"
      },
      "source": [
        "From the Model 3 we can see that\n",
        "\n",
        "* The training and validation dataset are both performing as expected with loss decreasing and accuracy increasing for each epoch.\n",
        "* After decreasing the number of hidden layers from Model 1, we can see that the accuracy of the model is close to the one with more hidden layers and is more stable.\n",
        "* It seems that in most cases having one or 2 hidden layers will be able to solve more complex problems as well.\n",
        "* Also, with the similar architecture, relu activation function better suits this dataset compared to tanh.\n",
        "\n"
      ]
    },
    {
      "cell_type": "markdown",
      "metadata": {
        "id": "6dmBCrkov5wA"
      },
      "source": [
        "## FFNN - Model 4\n"
      ]
    },
    {
      "cell_type": "markdown",
      "metadata": {
        "id": "pk3IuN-DL3MG"
      },
      "source": [
        "### Fit Model ###\n",
        "\n"
      ]
    },
    {
      "cell_type": "code",
      "metadata": {
        "id": "Ne8MPH-RSb9K",
        "colab": {
          "base_uri": "https://localhost:8080/",
          "height": 468
        },
        "outputId": "ea7e2cf3-38cb-43d7-e153-f85d4bc97448"
      },
      "source": [
        "# Model 4\n",
        "model4 = Sequential()\n",
        "model4.add(Dense(20, input_shape=(X_train.shape[1],), activation='relu')) # don't forget to add an input shape! (features,)\n",
        "model4.add(Dropout(0.2))# Dropout to prevent overfitting\n",
        "model4.add(Dense(80, activation = 'relu'))\n",
        "model4.add(Dropout(0.2)) \n",
        "model4.add(Dense(80, activation='relu'))\n",
        "model4.add(Dropout(0.2)) \n",
        "model4.add(Dense(20, activation='relu'))\n",
        "model4.add(Dropout(0.2)) \n",
        "model4.add(Dense(1, activation='sigmoid'))\n",
        "model4.summary() "
      ],
      "execution_count": null,
      "outputs": [
        {
          "output_type": "stream",
          "text": [
            "Model: \"sequential_3\"\n",
            "_________________________________________________________________\n",
            "Layer (type)                 Output Shape              Param #   \n",
            "=================================================================\n",
            "dense_13 (Dense)             (None, 20)                1080      \n",
            "_________________________________________________________________\n",
            "dropout_10 (Dropout)         (None, 20)                0         \n",
            "_________________________________________________________________\n",
            "dense_14 (Dense)             (None, 80)                1680      \n",
            "_________________________________________________________________\n",
            "dropout_11 (Dropout)         (None, 80)                0         \n",
            "_________________________________________________________________\n",
            "dense_15 (Dense)             (None, 80)                6480      \n",
            "_________________________________________________________________\n",
            "dropout_12 (Dropout)         (None, 80)                0         \n",
            "_________________________________________________________________\n",
            "dense_16 (Dense)             (None, 20)                1620      \n",
            "_________________________________________________________________\n",
            "dropout_13 (Dropout)         (None, 20)                0         \n",
            "_________________________________________________________________\n",
            "dense_17 (Dense)             (None, 1)                 21        \n",
            "=================================================================\n",
            "Total params: 10,881\n",
            "Trainable params: 10,881\n",
            "Non-trainable params: 0\n",
            "_________________________________________________________________\n"
          ],
          "name": "stdout"
        }
      ]
    },
    {
      "cell_type": "code",
      "metadata": {
        "id": "hziRaDEzv5wP"
      },
      "source": [
        "# compile the model\n",
        "model4.compile(optimizer='Adam', \n",
        "              loss='binary_crossentropy',\n",
        "              metrics=['accuracy'])"
      ],
      "execution_count": null,
      "outputs": []
    },
    {
      "cell_type": "code",
      "metadata": {
        "id": "ZF8bVlEhgcBY",
        "colab": {
          "base_uri": "https://localhost:8080/",
          "height": 745
        },
        "outputId": "c5071163-023b-48e8-a86e-3a15e3cfbf19"
      },
      "source": [
        "# early stopping callback\n",
        "# This callback will stop the training when there is no improvement in  \n",
        "\n",
        "es = EarlyStopping(monitor='val_accuracy', \n",
        "                                   mode='max', # get the highest accuracy\n",
        "                                   patience=10,\n",
        "                                   restore_best_weights=True)\n",
        "\n",
        "# now we just update our model fit call\n",
        "history4 = model4.fit(X_train,\n",
        "                    y_train,\n",
        "                    callbacks=[es],\n",
        "                    epochs=1000,\n",
        "                    batch_size=500,\n",
        "                    validation_data=(X_valid,y_valid),                    \n",
        "                    verbose=1)"
      ],
      "execution_count": null,
      "outputs": [
        {
          "output_type": "stream",
          "text": [
            "Epoch 1/1000\n",
            "136/136 [==============================] - 1s 5ms/step - loss: 0.3160 - accuracy: 0.8380 - val_loss: 0.3112 - val_accuracy: 0.8393\n",
            "Epoch 2/1000\n",
            "136/136 [==============================] - 1s 5ms/step - loss: 0.3147 - accuracy: 0.8390 - val_loss: 0.3071 - val_accuracy: 0.8390\n",
            "Epoch 3/1000\n",
            "136/136 [==============================] - 1s 5ms/step - loss: 0.3136 - accuracy: 0.8405 - val_loss: 0.3106 - val_accuracy: 0.8370\n",
            "Epoch 4/1000\n",
            "136/136 [==============================] - 1s 5ms/step - loss: 0.3143 - accuracy: 0.8389 - val_loss: 0.3098 - val_accuracy: 0.8385\n",
            "Epoch 5/1000\n",
            "136/136 [==============================] - 1s 5ms/step - loss: 0.3156 - accuracy: 0.8378 - val_loss: 0.3059 - val_accuracy: 0.8414\n",
            "Epoch 6/1000\n",
            "136/136 [==============================] - 1s 5ms/step - loss: 0.3163 - accuracy: 0.8364 - val_loss: 0.3074 - val_accuracy: 0.8373\n",
            "Epoch 7/1000\n",
            "136/136 [==============================] - 1s 5ms/step - loss: 0.3144 - accuracy: 0.8392 - val_loss: 0.3087 - val_accuracy: 0.8350\n",
            "Epoch 8/1000\n",
            "136/136 [==============================] - 1s 5ms/step - loss: 0.3149 - accuracy: 0.8390 - val_loss: 0.3116 - val_accuracy: 0.8393\n",
            "Epoch 9/1000\n",
            "136/136 [==============================] - 1s 5ms/step - loss: 0.3159 - accuracy: 0.8382 - val_loss: 0.3050 - val_accuracy: 0.8402\n",
            "Epoch 10/1000\n",
            "136/136 [==============================] - 1s 5ms/step - loss: 0.3140 - accuracy: 0.8396 - val_loss: 0.3104 - val_accuracy: 0.8374\n",
            "Epoch 11/1000\n",
            "136/136 [==============================] - 1s 5ms/step - loss: 0.3138 - accuracy: 0.8389 - val_loss: 0.3028 - val_accuracy: 0.8450\n",
            "Epoch 12/1000\n",
            "136/136 [==============================] - 1s 5ms/step - loss: 0.3148 - accuracy: 0.8404 - val_loss: 0.3071 - val_accuracy: 0.8405\n",
            "Epoch 13/1000\n",
            "136/136 [==============================] - 1s 5ms/step - loss: 0.3142 - accuracy: 0.8393 - val_loss: 0.3078 - val_accuracy: 0.8376\n",
            "Epoch 14/1000\n",
            "136/136 [==============================] - 1s 5ms/step - loss: 0.3134 - accuracy: 0.8392 - val_loss: 0.3107 - val_accuracy: 0.8366\n",
            "Epoch 15/1000\n",
            "136/136 [==============================] - 1s 5ms/step - loss: 0.3131 - accuracy: 0.8394 - val_loss: 0.3050 - val_accuracy: 0.8443\n",
            "Epoch 16/1000\n",
            "136/136 [==============================] - 1s 5ms/step - loss: 0.3146 - accuracy: 0.8389 - val_loss: 0.3042 - val_accuracy: 0.8413\n",
            "Epoch 17/1000\n",
            "136/136 [==============================] - 1s 5ms/step - loss: 0.3167 - accuracy: 0.8381 - val_loss: 0.3062 - val_accuracy: 0.8428\n",
            "Epoch 18/1000\n",
            "136/136 [==============================] - 1s 5ms/step - loss: 0.3132 - accuracy: 0.8400 - val_loss: 0.3090 - val_accuracy: 0.8383\n",
            "Epoch 19/1000\n",
            "136/136 [==============================] - 1s 5ms/step - loss: 0.3137 - accuracy: 0.8396 - val_loss: 0.3069 - val_accuracy: 0.8408\n",
            "Epoch 20/1000\n",
            "136/136 [==============================] - 1s 5ms/step - loss: 0.3135 - accuracy: 0.8407 - val_loss: 0.3052 - val_accuracy: 0.8393\n",
            "Epoch 21/1000\n",
            "136/136 [==============================] - 1s 5ms/step - loss: 0.3123 - accuracy: 0.8400 - val_loss: 0.3038 - val_accuracy: 0.8444\n"
          ],
          "name": "stdout"
        }
      ]
    },
    {
      "cell_type": "markdown",
      "metadata": {
        "id": "exDhylNn7Sir"
      },
      "source": [
        "### Evaluate the FFNN-Model 4 ###"
      ]
    },
    {
      "cell_type": "code",
      "metadata": {
        "id": "2WAydBvR7Sis",
        "colab": {
          "base_uri": "https://localhost:8080/",
          "height": 35
        },
        "outputId": "415a43d4-3dc6-48e7-8fb4-019fb91ac8ab"
      },
      "source": [
        "history4.history.keys()"
      ],
      "execution_count": null,
      "outputs": [
        {
          "output_type": "execute_result",
          "data": {
            "text/plain": [
              "dict_keys(['loss', 'accuracy', 'val_loss', 'val_accuracy'])"
            ]
          },
          "metadata": {
            "tags": []
          },
          "execution_count": 110
        }
      ]
    },
    {
      "cell_type": "code",
      "metadata": {
        "id": "XrOJpwcA7Siy",
        "colab": {
          "base_uri": "https://localhost:8080/",
          "height": 350
        },
        "outputId": "2f2af9fc-ea74-40a1-9267-3e6ad35a40b1"
      },
      "source": [
        "#training and validation loss by epoch\n",
        "history_dict = history4.history\n",
        "loss_values = history_dict['loss'] # training loss\n",
        "val_loss_values = history_dict['val_loss'] # validation loss\n",
        "epochs = range(1, len(loss_values) + 1) # range of X (no. of epochs)\n",
        "plt.figure(figsize=(15,5))\n",
        "plt.plot(epochs, loss_values, 'bo', label='Training loss')\n",
        "plt.plot(epochs, val_loss_values, 'orange', label='Validation loss')\n",
        "plt.title('Training and validation loss')\n",
        "plt.xlabel('Epochs')\n",
        "plt.ylabel('Loss')\n",
        "plt.legend()\n",
        "plt.show()"
      ],
      "execution_count": null,
      "outputs": [
        {
          "output_type": "display_data",
          "data": {
            "image/png": "[encoded data removed]",
            "text/plain": [
              "<Figure size 1080x360 with 1 Axes>"
            ]
          },
          "metadata": {
            "tags": [],
            "needs_background": "light"
          }
        }
      ]
    },
    {
      "cell_type": "code",
      "metadata": {
        "id": "4LejvqzN7Siz",
        "colab": {
          "base_uri": "https://localhost:8080/",
          "height": 350
        },
        "outputId": "2301615f-3bca-43cc-f415-f746f66bdafe"
      },
      "source": [
        "# training and validation accuracy by epoch\n",
        "history_dict = history4.history\n",
        "acc = history_dict['accuracy'] # training accuracy\n",
        "val_acc = history_dict['val_accuracy'] # validation accuracy\n",
        "epochs = range(1, len(acc) + 1) # range of X (no. of epochs)\n",
        "plt.figure(figsize=(15,5))\n",
        "plt.plot(epochs, acc, 'bo', label='Training acc')\n",
        "plt.plot(epochs, val_acc, 'orange', label='Validation acc')\n",
        "plt.title('Training and validation acc')\n",
        "plt.xlabel('Epochs')\n",
        "plt.ylabel('Acc')\n",
        "plt.legend()\n",
        "plt.show()"
      ],
      "execution_count": null,
      "outputs": [
        {
          "output_type": "display_data",
          "data": {
            "image/png": "[encoded data removed]",
            "text/plain": [
              "<Figure size 1080x360 with 1 Axes>"
            ]
          },
          "metadata": {
            "tags": [],
            "needs_background": "light"
          }
        }
      ]
    },
    {
      "cell_type": "code",
      "metadata": {
        "id": "t_r6My4Y7Si1",
        "colab": {
          "base_uri": "https://localhost:8080/",
          "height": 52
        },
        "outputId": "0234db99-ee95-4abc-8da8-0f28046acddb"
      },
      "source": [
        "# this is the max value\n",
        "print(np.max(val_acc)) # the highest validation accuracy \n",
        "print(np.max(acc)) #the highest training accuracy"
      ],
      "execution_count": null,
      "outputs": [
        {
          "output_type": "stream",
          "text": [
            "0.8408740758895874\n",
            "0.8354209065437317\n"
          ],
          "name": "stdout"
        }
      ]
    },
    {
      "cell_type": "code",
      "metadata": {
        "id": "_K5A7k4v7Si6"
      },
      "source": [
        "#predict the validation results \n",
        "preds = np.round(model4.predict(X_valid),0)"
      ],
      "execution_count": null,
      "outputs": []
    },
    {
      "cell_type": "code",
      "metadata": {
        "id": "t_k7BTQd7Si8",
        "colab": {
          "base_uri": "https://localhost:8080/",
          "height": 35
        },
        "outputId": "be44480f-7a64-4460-e82f-ca265997ffff"
      },
      "source": [
        "#Evaluating the model\n",
        "\n",
        "tn, fp, fn, tp = confusion_matrix(y_valid, preds).ravel()\n",
        "tn, fp, fn, tp\n"
      ],
      "execution_count": null,
      "outputs": [
        {
          "output_type": "execute_result",
          "data": {
            "text/plain": [
              "(7028, 1825, 862, 7171)"
            ]
          },
          "metadata": {
            "tags": []
          },
          "execution_count": 85
        }
      ]
    },
    {
      "cell_type": "code",
      "metadata": {
        "id": "vaqATRoF7SjC",
        "colab": {
          "base_uri": "https://localhost:8080/",
          "height": 173
        },
        "outputId": "cc53c1cd-ab7b-435e-a193-ebb245603342"
      },
      "source": [
        "#Classification report \n",
        "report = classification_report(y_valid, preds)\n",
        "print(report)\n"
      ],
      "execution_count": null,
      "outputs": [
        {
          "output_type": "stream",
          "text": [
            "              precision    recall  f1-score   support\n",
            "\n",
            "           0       0.89      0.79      0.84      8853\n",
            "           1       0.80      0.89      0.84      8033\n",
            "\n",
            "    accuracy                           0.84     16886\n",
            "   macro avg       0.84      0.84      0.84     16886\n",
            "weighted avg       0.85      0.84      0.84     16886\n",
            "\n"
          ],
          "name": "stdout"
        }
      ]
    },
    {
      "cell_type": "markdown",
      "metadata": {
        "id": "52Pkd5ZJ7SjE"
      },
      "source": [
        "From the Model 4 we can see that\n",
        "\n",
        "*   According to the plot, we know that both validation and training dataset are performing well. The loss is decreasing for every epoch\n",
        "*   This kind of architecture, though with more hidden layers, seems to have less accuracy compared to model 3 with only 2 hidden layer and there seems to be some instability in the validation accuracy plot as well with this model.\n",
        "* The different architecture from other model we built shows that the complexity of hidden layers' architecture wouldn't help us to improve our accuracy a lot, leading to unstability of the model compared with previous models we had.\n",
        "* As a result, more hidden layer will increase the accuracy of model to some degree when the architecture is similiar, but complex architecture would result in unstability for our model.\n",
        "\n"
      ]
    },
    {
      "cell_type": "markdown",
      "metadata": {
        "id": "rvxSXuPqKyDh"
      },
      "source": [
        "## FFNN - Model 5\n",
        "Feed forward neural network model"
      ]
    },
    {
      "cell_type": "markdown",
      "metadata": {
        "id": "oMlNbUqqKyDi"
      },
      "source": [
        "### Fit Model ###\n"
      ]
    },
    {
      "cell_type": "code",
      "metadata": {
        "id": "kUGb7MybKyDj",
        "colab": {
          "base_uri": "https://localhost:8080/",
          "height": 260
        },
        "outputId": "b2e53aa9-6c77-4745-ac74-96cb177fd623"
      },
      "source": [
        "# Model 5\n",
        "model5 = Sequential()\n",
        "model5.add(Dense(800, input_shape=(X_train.shape[1],), activation='relu')) # Adding input features\n",
        "model5.add(Dropout(0.2))                                            #Dropout to prevent overfitting\n",
        "model5.add(Dense(1, activation='sigmoid'))\n",
        "model5.summary() "
      ],
      "execution_count": null,
      "outputs": [
        {
          "output_type": "stream",
          "text": [
            "Model: \"sequential_4\"\n",
            "_________________________________________________________________\n",
            "Layer (type)                 Output Shape              Param #   \n",
            "=================================================================\n",
            "dense_18 (Dense)             (None, 800)               43200     \n",
            "_________________________________________________________________\n",
            "dropout_14 (Dropout)         (None, 800)               0         \n",
            "_________________________________________________________________\n",
            "dense_19 (Dense)             (None, 1)                 801       \n",
            "=================================================================\n",
            "Total params: 44,001\n",
            "Trainable params: 44,001\n",
            "Non-trainable params: 0\n",
            "_________________________________________________________________\n"
          ],
          "name": "stdout"
        }
      ]
    },
    {
      "cell_type": "code",
      "metadata": {
        "id": "E5dSUEwZKyDm"
      },
      "source": [
        "# compile the model\n",
        "model5.compile(optimizer='Adam', \n",
        "              loss='binary_crossentropy',\n",
        "              metrics=['accuracy'])"
      ],
      "execution_count": null,
      "outputs": []
    },
    {
      "cell_type": "code",
      "metadata": {
        "id": "3Ix5TYLAKyDo",
        "colab": {
          "base_uri": "https://localhost:8080/",
          "height": 1000
        },
        "outputId": "9602481b-71c4-4491-9020-064eabd98e29"
      },
      "source": [
        "# Add early stopping\n",
        "\n",
        "# early stopping callback with patience set to 10\n",
        "\n",
        "es = EarlyStopping(monitor='val_accuracy', \n",
        "                                   mode='max', # maximize the accuracy\n",
        "                                   patience=10,\n",
        "                                   restore_best_weights=True)\n",
        "\n",
        "# model fit \n",
        "history5 = model5.fit(X_train,\n",
        "                    y_train,\n",
        "                    callbacks=[es],\n",
        "                    epochs=5000, \n",
        "                    batch_size=50,\n",
        "                    validation_data=(X_valid,y_valid),\n",
        "                    verbose=1\n",
        "                    )"
      ],
      "execution_count": null,
      "outputs": [
        {
          "output_type": "stream",
          "text": [
            "Epoch 1/5000\n",
            "1351/1351 [==============================] - 4s 3ms/step - loss: 0.4594 - accuracy: 0.7661 - val_loss: 0.3839 - val_accuracy: 0.8017\n",
            "Epoch 2/5000\n",
            "1351/1351 [==============================] - 4s 3ms/step - loss: 0.3672 - accuracy: 0.8110 - val_loss: 0.3517 - val_accuracy: 0.8201\n",
            "Epoch 3/5000\n",
            "1351/1351 [==============================] - 4s 3ms/step - loss: 0.3434 - accuracy: 0.8229 - val_loss: 0.3409 - val_accuracy: 0.8257\n",
            "Epoch 4/5000\n",
            "1351/1351 [==============================] - 4s 3ms/step - loss: 0.3308 - accuracy: 0.8312 - val_loss: 0.3283 - val_accuracy: 0.8305\n",
            "Epoch 5/5000\n",
            "1351/1351 [==============================] - 4s 3ms/step - loss: 0.3206 - accuracy: 0.8395 - val_loss: 0.3193 - val_accuracy: 0.8411\n",
            "Epoch 6/5000\n",
            "1351/1351 [==============================] - 4s 3ms/step - loss: 0.3129 - accuracy: 0.8440 - val_loss: 0.3138 - val_accuracy: 0.8449\n",
            "Epoch 7/5000\n",
            "1351/1351 [==============================] - 4s 3ms/step - loss: 0.3065 - accuracy: 0.8483 - val_loss: 0.3105 - val_accuracy: 0.8456\n",
            "Epoch 8/5000\n",
            "1351/1351 [==============================] - 4s 3ms/step - loss: 0.3014 - accuracy: 0.8528 - val_loss: 0.3031 - val_accuracy: 0.8520\n",
            "Epoch 9/5000\n",
            "1351/1351 [==============================] - 4s 3ms/step - loss: 0.2951 - accuracy: 0.8566 - val_loss: 0.2985 - val_accuracy: 0.8583\n",
            "Epoch 10/5000\n",
            "1351/1351 [==============================] - 4s 3ms/step - loss: 0.2909 - accuracy: 0.8597 - val_loss: 0.2957 - val_accuracy: 0.8592\n",
            "Epoch 11/5000\n",
            "1351/1351 [==============================] - 4s 3ms/step - loss: 0.2864 - accuracy: 0.8629 - val_loss: 0.2944 - val_accuracy: 0.8594\n",
            "Epoch 12/5000\n",
            "1351/1351 [==============================] - 4s 3ms/step - loss: 0.2821 - accuracy: 0.8656 - val_loss: 0.2866 - val_accuracy: 0.8618\n",
            "Epoch 13/5000\n",
            "1351/1351 [==============================] - 4s 3ms/step - loss: 0.2779 - accuracy: 0.8670 - val_loss: 0.2807 - val_accuracy: 0.8650\n",
            "Epoch 14/5000\n",
            "1351/1351 [==============================] - 4s 3ms/step - loss: 0.2741 - accuracy: 0.8703 - val_loss: 0.2789 - val_accuracy: 0.8689\n",
            "Epoch 15/5000\n",
            "1351/1351 [==============================] - 4s 3ms/step - loss: 0.2700 - accuracy: 0.8718 - val_loss: 0.2761 - val_accuracy: 0.8723\n",
            "Epoch 16/5000\n",
            "1351/1351 [==============================] - 4s 3ms/step - loss: 0.2674 - accuracy: 0.8745 - val_loss: 0.2766 - val_accuracy: 0.8716\n",
            "Epoch 17/5000\n",
            "1351/1351 [==============================] - 4s 3ms/step - loss: 0.2649 - accuracy: 0.8753 - val_loss: 0.2737 - val_accuracy: 0.8712\n",
            "Epoch 18/5000\n",
            "1351/1351 [==============================] - 4s 3ms/step - loss: 0.2614 - accuracy: 0.8781 - val_loss: 0.2680 - val_accuracy: 0.8719\n",
            "Epoch 19/5000\n",
            "1351/1351 [==============================] - 4s 3ms/step - loss: 0.2586 - accuracy: 0.8793 - val_loss: 0.2645 - val_accuracy: 0.8794\n",
            "Epoch 20/5000\n",
            "1351/1351 [==============================] - 4s 3ms/step - loss: 0.2561 - accuracy: 0.8805 - val_loss: 0.2638 - val_accuracy: 0.8804\n",
            "Epoch 21/5000\n",
            "1351/1351 [==============================] - 4s 3ms/step - loss: 0.2521 - accuracy: 0.8835 - val_loss: 0.2604 - val_accuracy: 0.8790\n",
            "Epoch 22/5000\n",
            "1351/1351 [==============================] - 4s 3ms/step - loss: 0.2485 - accuracy: 0.8861 - val_loss: 0.2557 - val_accuracy: 0.8847\n",
            "Epoch 23/5000\n",
            "1351/1351 [==============================] - 4s 3ms/step - loss: 0.2481 - accuracy: 0.8853 - val_loss: 0.2570 - val_accuracy: 0.8826\n",
            "Epoch 24/5000\n",
            "1351/1351 [==============================] - 4s 3ms/step - loss: 0.2458 - accuracy: 0.8863 - val_loss: 0.2531 - val_accuracy: 0.8858\n",
            "Epoch 25/5000\n",
            "1351/1351 [==============================] - 4s 3ms/step - loss: 0.2422 - accuracy: 0.8889 - val_loss: 0.2550 - val_accuracy: 0.8862\n",
            "Epoch 26/5000\n",
            "1351/1351 [==============================] - 4s 3ms/step - loss: 0.2403 - accuracy: 0.8889 - val_loss: 0.2499 - val_accuracy: 0.8854\n",
            "Epoch 27/5000\n",
            "1351/1351 [==============================] - 4s 3ms/step - loss: 0.2389 - accuracy: 0.8908 - val_loss: 0.2465 - val_accuracy: 0.8888\n",
            "Epoch 28/5000\n",
            "1351/1351 [==============================] - 4s 3ms/step - loss: 0.2363 - accuracy: 0.8925 - val_loss: 0.2456 - val_accuracy: 0.8914\n",
            "Epoch 29/5000\n",
            "1351/1351 [==============================] - 4s 3ms/step - loss: 0.2345 - accuracy: 0.8931 - val_loss: 0.2435 - val_accuracy: 0.8901\n",
            "Epoch 30/5000\n",
            "1351/1351 [==============================] - 4s 3ms/step - loss: 0.2321 - accuracy: 0.8948 - val_loss: 0.2456 - val_accuracy: 0.8888\n",
            "Epoch 31/5000\n",
            "1351/1351 [==============================] - 4s 3ms/step - loss: 0.2297 - accuracy: 0.8963 - val_loss: 0.2433 - val_accuracy: 0.8897\n",
            "Epoch 32/5000\n",
            "1351/1351 [==============================] - 4s 3ms/step - loss: 0.2280 - accuracy: 0.8965 - val_loss: 0.2401 - val_accuracy: 0.8920\n",
            "Epoch 33/5000\n",
            "1351/1351 [==============================] - 4s 3ms/step - loss: 0.2283 - accuracy: 0.8971 - val_loss: 0.2357 - val_accuracy: 0.8965\n",
            "Epoch 34/5000\n",
            "1351/1351 [==============================] - 4s 3ms/step - loss: 0.2235 - accuracy: 0.8996 - val_loss: 0.2374 - val_accuracy: 0.8977\n",
            "Epoch 35/5000\n",
            "1351/1351 [==============================] - 4s 3ms/step - loss: 0.2215 - accuracy: 0.9007 - val_loss: 0.2315 - val_accuracy: 0.8994\n",
            "Epoch 36/5000\n",
            "1351/1351 [==============================] - 4s 3ms/step - loss: 0.2207 - accuracy: 0.9008 - val_loss: 0.2391 - val_accuracy: 0.8958\n",
            "Epoch 37/5000\n",
            "1351/1351 [==============================] - 4s 3ms/step - loss: 0.2203 - accuracy: 0.9021 - val_loss: 0.2300 - val_accuracy: 0.8996\n",
            "Epoch 38/5000\n",
            "1351/1351 [==============================] - 4s 3ms/step - loss: 0.2173 - accuracy: 0.9046 - val_loss: 0.2324 - val_accuracy: 0.8987\n",
            "Epoch 39/5000\n",
            "1351/1351 [==============================] - 4s 3ms/step - loss: 0.2172 - accuracy: 0.9032 - val_loss: 0.2297 - val_accuracy: 0.9015\n",
            "Epoch 40/5000\n",
            "1351/1351 [==============================] - 4s 3ms/step - loss: 0.2136 - accuracy: 0.9051 - val_loss: 0.2271 - val_accuracy: 0.9008\n",
            "Epoch 41/5000\n",
            "1351/1351 [==============================] - 4s 3ms/step - loss: 0.2147 - accuracy: 0.9042 - val_loss: 0.2246 - val_accuracy: 0.9047\n",
            "Epoch 42/5000\n",
            "1351/1351 [==============================] - 4s 3ms/step - loss: 0.2133 - accuracy: 0.9055 - val_loss: 0.2244 - val_accuracy: 0.9031\n",
            "Epoch 43/5000\n",
            "1351/1351 [==============================] - 4s 3ms/step - loss: 0.2100 - accuracy: 0.9071 - val_loss: 0.2256 - val_accuracy: 0.9026\n",
            "Epoch 44/5000\n",
            "1351/1351 [==============================] - 4s 3ms/step - loss: 0.2087 - accuracy: 0.9089 - val_loss: 0.2203 - val_accuracy: 0.9053\n",
            "Epoch 45/5000\n",
            "1351/1351 [==============================] - 4s 3ms/step - loss: 0.2080 - accuracy: 0.9081 - val_loss: 0.2220 - val_accuracy: 0.9022\n",
            "Epoch 46/5000\n",
            "1351/1351 [==============================] - 6s 4ms/step - loss: 0.2053 - accuracy: 0.9106 - val_loss: 0.2166 - val_accuracy: 0.9084\n",
            "Epoch 47/5000\n",
            "1351/1351 [==============================] - 6s 5ms/step - loss: 0.2057 - accuracy: 0.9092 - val_loss: 0.2155 - val_accuracy: 0.9077\n",
            "Epoch 48/5000\n",
            "1351/1351 [==============================] - 4s 3ms/step - loss: 0.2033 - accuracy: 0.9116 - val_loss: 0.2176 - val_accuracy: 0.9069\n",
            "Epoch 49/5000\n",
            "1351/1351 [==============================] - 4s 3ms/step - loss: 0.2029 - accuracy: 0.9113 - val_loss: 0.2162 - val_accuracy: 0.9108\n",
            "Epoch 50/5000\n",
            "1351/1351 [==============================] - 4s 3ms/step - loss: 0.2020 - accuracy: 0.9124 - val_loss: 0.2169 - val_accuracy: 0.9076\n",
            "Epoch 51/5000\n",
            "1351/1351 [==============================] - 4s 3ms/step - loss: 0.2001 - accuracy: 0.9128 - val_loss: 0.2120 - val_accuracy: 0.9097\n",
            "Epoch 52/5000\n",
            "1351/1351 [==============================] - 4s 3ms/step - loss: 0.1997 - accuracy: 0.9130 - val_loss: 0.2127 - val_accuracy: 0.9092\n",
            "Epoch 53/5000\n",
            "1351/1351 [==============================] - 4s 3ms/step - loss: 0.1992 - accuracy: 0.9137 - val_loss: 0.2114 - val_accuracy: 0.9109\n",
            "Epoch 54/5000\n",
            "1351/1351 [==============================] - 4s 3ms/step - loss: 0.1972 - accuracy: 0.9140 - val_loss: 0.2193 - val_accuracy: 0.9083\n",
            "Epoch 55/5000\n",
            "1351/1351 [==============================] - 4s 3ms/step - loss: 0.1956 - accuracy: 0.9149 - val_loss: 0.2104 - val_accuracy: 0.9121\n",
            "Epoch 56/5000\n",
            "1351/1351 [==============================] - 4s 3ms/step - loss: 0.1963 - accuracy: 0.9146 - val_loss: 0.2100 - val_accuracy: 0.9138\n",
            "Epoch 57/5000\n",
            "1351/1351 [==============================] - 4s 3ms/step - loss: 0.1939 - accuracy: 0.9158 - val_loss: 0.2147 - val_accuracy: 0.9122\n",
            "Epoch 58/5000\n",
            "1351/1351 [==============================] - 4s 3ms/step - loss: 0.1939 - accuracy: 0.9162 - val_loss: 0.2061 - val_accuracy: 0.9138\n",
            "Epoch 59/5000\n",
            "1351/1351 [==============================] - 4s 3ms/step - loss: 0.1920 - accuracy: 0.9166 - val_loss: 0.2090 - val_accuracy: 0.9124\n",
            "Epoch 60/5000\n",
            "1351/1351 [==============================] - 4s 3ms/step - loss: 0.1916 - accuracy: 0.9173 - val_loss: 0.2079 - val_accuracy: 0.9135\n",
            "Epoch 61/5000\n",
            "1351/1351 [==============================] - 4s 3ms/step - loss: 0.1912 - accuracy: 0.9165 - val_loss: 0.2058 - val_accuracy: 0.9141\n",
            "Epoch 62/5000\n",
            "1351/1351 [==============================] - 4s 3ms/step - loss: 0.1892 - accuracy: 0.9191 - val_loss: 0.2020 - val_accuracy: 0.9175\n",
            "Epoch 63/5000\n",
            "1351/1351 [==============================] - 4s 3ms/step - loss: 0.1894 - accuracy: 0.9179 - val_loss: 0.2082 - val_accuracy: 0.9160\n",
            "Epoch 64/5000\n",
            "1351/1351 [==============================] - 4s 3ms/step - loss: 0.1877 - accuracy: 0.9195 - val_loss: 0.2018 - val_accuracy: 0.9172\n",
            "Epoch 65/5000\n",
            "1351/1351 [==============================] - 4s 3ms/step - loss: 0.1868 - accuracy: 0.9198 - val_loss: 0.2040 - val_accuracy: 0.9169\n",
            "Epoch 66/5000\n",
            "1351/1351 [==============================] - 4s 3ms/step - loss: 0.1869 - accuracy: 0.9194 - val_loss: 0.2019 - val_accuracy: 0.9189\n",
            "Epoch 67/5000\n",
            "1351/1351 [==============================] - 4s 3ms/step - loss: 0.1855 - accuracy: 0.9207 - val_loss: 0.2076 - val_accuracy: 0.9153\n",
            "Epoch 68/5000\n",
            "1351/1351 [==============================] - 4s 3ms/step - loss: 0.1837 - accuracy: 0.9208 - val_loss: 0.2016 - val_accuracy: 0.9206\n",
            "Epoch 69/5000\n",
            "1351/1351 [==============================] - 4s 3ms/step - loss: 0.1841 - accuracy: 0.9209 - val_loss: 0.2019 - val_accuracy: 0.9206\n",
            "Epoch 70/5000\n",
            "1351/1351 [==============================] - 4s 3ms/step - loss: 0.1819 - accuracy: 0.9223 - val_loss: 0.2012 - val_accuracy: 0.9185\n",
            "Epoch 71/5000\n",
            "1351/1351 [==============================] - 4s 3ms/step - loss: 0.1816 - accuracy: 0.9224 - val_loss: 0.2011 - val_accuracy: 0.9207\n",
            "Epoch 72/5000\n",
            "1351/1351 [==============================] - 4s 3ms/step - loss: 0.1807 - accuracy: 0.9227 - val_loss: 0.1971 - val_accuracy: 0.9201\n",
            "Epoch 73/5000\n",
            "1351/1351 [==============================] - 4s 3ms/step - loss: 0.1810 - accuracy: 0.9221 - val_loss: 0.1950 - val_accuracy: 0.9218\n",
            "Epoch 74/5000\n",
            "1351/1351 [==============================] - 4s 3ms/step - loss: 0.1798 - accuracy: 0.9225 - val_loss: 0.2074 - val_accuracy: 0.9167\n",
            "Epoch 75/5000\n",
            "1351/1351 [==============================] - 4s 3ms/step - loss: 0.1784 - accuracy: 0.9235 - val_loss: 0.1981 - val_accuracy: 0.9227\n",
            "Epoch 76/5000\n",
            "1351/1351 [==============================] - 4s 3ms/step - loss: 0.1792 - accuracy: 0.9229 - val_loss: 0.1971 - val_accuracy: 0.9180\n",
            "Epoch 77/5000\n",
            "1351/1351 [==============================] - 4s 3ms/step - loss: 0.1772 - accuracy: 0.9241 - val_loss: 0.2024 - val_accuracy: 0.9183\n",
            "Epoch 78/5000\n",
            "1351/1351 [==============================] - 4s 3ms/step - loss: 0.1783 - accuracy: 0.9240 - val_loss: 0.1966 - val_accuracy: 0.9189\n",
            "Epoch 79/5000\n",
            "1351/1351 [==============================] - 4s 3ms/step - loss: 0.1780 - accuracy: 0.9234 - val_loss: 0.1978 - val_accuracy: 0.9231\n",
            "Epoch 80/5000\n",
            "1351/1351 [==============================] - 4s 3ms/step - loss: 0.1760 - accuracy: 0.9251 - val_loss: 0.1943 - val_accuracy: 0.9235\n",
            "Epoch 81/5000\n",
            "1351/1351 [==============================] - 4s 3ms/step - loss: 0.1739 - accuracy: 0.9264 - val_loss: 0.1922 - val_accuracy: 0.9231\n",
            "Epoch 82/5000\n",
            "1351/1351 [==============================] - 4s 3ms/step - loss: 0.1743 - accuracy: 0.9245 - val_loss: 0.1919 - val_accuracy: 0.9214\n",
            "Epoch 83/5000\n",
            "1351/1351 [==============================] - 4s 3ms/step - loss: 0.1740 - accuracy: 0.9261 - val_loss: 0.1947 - val_accuracy: 0.9234\n",
            "Epoch 84/5000\n",
            "1351/1351 [==============================] - 4s 3ms/step - loss: 0.1748 - accuracy: 0.9256 - val_loss: 0.1926 - val_accuracy: 0.9230\n",
            "Epoch 85/5000\n",
            "1351/1351 [==============================] - 4s 3ms/step - loss: 0.1734 - accuracy: 0.9265 - val_loss: 0.1904 - val_accuracy: 0.9253\n",
            "Epoch 86/5000\n",
            "1351/1351 [==============================] - 4s 3ms/step - loss: 0.1734 - accuracy: 0.9261 - val_loss: 0.1901 - val_accuracy: 0.9257\n",
            "Epoch 87/5000\n",
            "1351/1351 [==============================] - 4s 3ms/step - loss: 0.1720 - accuracy: 0.9261 - val_loss: 0.1885 - val_accuracy: 0.9279\n",
            "Epoch 88/5000\n",
            "1351/1351 [==============================] - 4s 3ms/step - loss: 0.1718 - accuracy: 0.9284 - val_loss: 0.1924 - val_accuracy: 0.9234\n",
            "Epoch 89/5000\n",
            "1351/1351 [==============================] - 4s 3ms/step - loss: 0.1701 - accuracy: 0.9288 - val_loss: 0.1898 - val_accuracy: 0.9256\n",
            "Epoch 90/5000\n",
            "1351/1351 [==============================] - 4s 3ms/step - loss: 0.1709 - accuracy: 0.9286 - val_loss: 0.1972 - val_accuracy: 0.9231\n",
            "Epoch 91/5000\n",
            "1351/1351 [==============================] - 4s 3ms/step - loss: 0.1703 - accuracy: 0.9287 - val_loss: 0.1974 - val_accuracy: 0.9239\n",
            "Epoch 92/5000\n",
            "1351/1351 [==============================] - 4s 3ms/step - loss: 0.1693 - accuracy: 0.9282 - val_loss: 0.1895 - val_accuracy: 0.9254\n",
            "Epoch 93/5000\n",
            "1351/1351 [==============================] - 4s 3ms/step - loss: 0.1673 - accuracy: 0.9300 - val_loss: 0.1927 - val_accuracy: 0.9259\n",
            "Epoch 94/5000\n",
            "1351/1351 [==============================] - 4s 3ms/step - loss: 0.1683 - accuracy: 0.9297 - val_loss: 0.1886 - val_accuracy: 0.9278\n",
            "Epoch 95/5000\n",
            "1351/1351 [==============================] - 4s 3ms/step - loss: 0.1694 - accuracy: 0.9285 - val_loss: 0.1911 - val_accuracy: 0.9250\n",
            "Epoch 96/5000\n",
            "1351/1351 [==============================] - 4s 3ms/step - loss: 0.1655 - accuracy: 0.9305 - val_loss: 0.1947 - val_accuracy: 0.9254\n",
            "Epoch 97/5000\n",
            "1351/1351 [==============================] - 4s 3ms/step - loss: 0.1670 - accuracy: 0.9299 - val_loss: 0.1915 - val_accuracy: 0.9261\n"
          ],
          "name": "stdout"
        }
      ]
    },
    {
      "cell_type": "markdown",
      "metadata": {
        "id": "JA8IE38q-xKV"
      },
      "source": [
        "### Evaluate the FFNN-Model 5 ###"
      ]
    },
    {
      "cell_type": "code",
      "metadata": {
        "id": "Bi1cI6PA-xKa",
        "colab": {
          "base_uri": "https://localhost:8080/",
          "height": 35
        },
        "outputId": "ef0c114d-52c8-4f52-c950-7aedc6ac5343"
      },
      "source": [
        "history5.history.keys()"
      ],
      "execution_count": null,
      "outputs": [
        {
          "output_type": "execute_result",
          "data": {
            "text/plain": [
              "dict_keys(['loss', 'accuracy', 'val_loss', 'val_accuracy'])"
            ]
          },
          "metadata": {
            "tags": []
          },
          "execution_count": 90
        }
      ]
    },
    {
      "cell_type": "code",
      "metadata": {
        "id": "8fwogBmm-xKh",
        "colab": {
          "base_uri": "https://localhost:8080/",
          "height": 350
        },
        "outputId": "36a46288-c32c-4cee-a48b-c6b7a99ac42e"
      },
      "source": [
        "#training and validation loss by epoch\n",
        "history_dict = history5.history\n",
        "loss_values = history_dict['loss'] # training loss\n",
        "val_loss_values = history_dict['val_loss'] # validation loss\n",
        "epochs = range(1, len(loss_values) + 1) # range of X (no. of epochs)\n",
        "plt.figure(figsize=(15,5))\n",
        "plt.plot(epochs, loss_values, 'bo', label='Training loss')\n",
        "plt.plot(epochs, val_loss_values, 'orange', label='Validation loss')\n",
        "plt.title('Training and validation loss')\n",
        "plt.xlabel('Epochs')\n",
        "plt.ylabel('Loss')\n",
        "plt.legend()\n",
        "plt.show()"
      ],
      "execution_count": null,
      "outputs": [
        {
          "output_type": "display_data",
          "data": {
            "image/png": "[encoded data removed]",
            "text/plain": [
              "<Figure size 1080x360 with 1 Axes>"
            ]
          },
          "metadata": {
            "tags": [],
            "needs_background": "light"
          }
        }
      ]
    },
    {
      "cell_type": "code",
      "metadata": {
        "id": "pFqHXbtl-xKj",
        "colab": {
          "base_uri": "https://localhost:8080/",
          "height": 350
        },
        "outputId": "f06323fe-2b63-4266-c253-90b3fbb4c26a"
      },
      "source": [
        "# training and validation accuracy by epoch\n",
        "history_dict = history5.history\n",
        "acc = history_dict['accuracy'] # training accuracy\n",
        "val_acc = history_dict['val_accuracy'] # validation accuracy\n",
        "epochs = range(1, len(acc) + 1) # range of X (no. of epochs)\n",
        "plt.figure(figsize=(15,5))\n",
        "plt.plot(epochs, acc, 'bo', label='Training acc')\n",
        "plt.plot(epochs, val_acc, 'orange', label='Validation acc')\n",
        "plt.title('Training and validation acc')\n",
        "plt.xlabel('Epochs')\n",
        "plt.ylabel('Acc')\n",
        "plt.legend()\n",
        "plt.show()"
      ],
      "execution_count": null,
      "outputs": [
        {
          "output_type": "display_data",
          "data": {
            "image/png": "[encoded data removed]",
            "text/plain": [
              "<Figure size 1080x360 with 1 Axes>"
            ]
          },
          "metadata": {
            "tags": [],
            "needs_background": "light"
          }
        }
      ]
    },
    {
      "cell_type": "code",
      "metadata": {
        "id": "dCF3uBbp-xKk",
        "colab": {
          "base_uri": "https://localhost:8080/",
          "height": 52
        },
        "outputId": "cd96e471-2347-48c9-b86d-a487613c2957"
      },
      "source": [
        "# this is the max value\n",
        "print(np.max(val_acc)) # the highest validation accuracy \n",
        "print(np.max(acc)) #the highest training accuracy"
      ],
      "execution_count": null,
      "outputs": [
        {
          "output_type": "stream",
          "text": [
            "0.9279284477233887\n",
            "0.9304729104042053\n"
          ],
          "name": "stdout"
        }
      ]
    },
    {
      "cell_type": "code",
      "metadata": {
        "id": "UOsiD7vq-xKm"
      },
      "source": [
        "#predict the validation results \n",
        "preds = np.round(model5.predict(X_valid),0)"
      ],
      "execution_count": null,
      "outputs": []
    },
    {
      "cell_type": "code",
      "metadata": {
        "id": "JX8XWcyC-xKo",
        "colab": {
          "base_uri": "https://localhost:8080/",
          "height": 35
        },
        "outputId": "b0d284d4-5a95-4f65-d41e-ab4a5b31b581"
      },
      "source": [
        "#Evaluating the model\n",
        "\n",
        "tn, fp, fn, tp = confusion_matrix(y_valid, preds).ravel()\n",
        "tn, fp, fn, tp\n"
      ],
      "execution_count": null,
      "outputs": [
        {
          "output_type": "execute_result",
          "data": {
            "text/plain": [
              "(7795, 1058, 159, 7874)"
            ]
          },
          "metadata": {
            "tags": []
          },
          "execution_count": 95
        }
      ]
    },
    {
      "cell_type": "code",
      "metadata": {
        "id": "4z9j_2Z4-xKp",
        "colab": {
          "base_uri": "https://localhost:8080/",
          "height": 173
        },
        "outputId": "a2270413-a103-45d8-df05-8919637f35ea"
      },
      "source": [
        "#Classification report \n",
        "report = classification_report(y_valid, preds)\n",
        "print(report)\n"
      ],
      "execution_count": null,
      "outputs": [
        {
          "output_type": "stream",
          "text": [
            "              precision    recall  f1-score   support\n",
            "\n",
            "           0       0.98      0.88      0.93      8853\n",
            "           1       0.88      0.98      0.93      8033\n",
            "\n",
            "    accuracy                           0.93     16886\n",
            "   macro avg       0.93      0.93      0.93     16886\n",
            "weighted avg       0.93      0.93      0.93     16886\n",
            "\n"
          ],
          "name": "stdout"
        }
      ]
    },
    {
      "cell_type": "markdown",
      "metadata": {
        "id": "cOT2lofp-xKu"
      },
      "source": [
        "From the Model 5 we can see that\n",
        "\n",
        "* In this model, we just simply use one layer, but add 800 nodes into our architecture using the same optimizer and activation function as model 1 and model 2.\n",
        "* The interesting thing we found here is that training and validation datasets have both extermely high value of accuracy around 93%.\n",
        "* However, when we check the plots, the validation loss is not only unstable, but also a bit overfitting. Plus, the accuracy of the validation dataset doesn't show its stability.\n"
      ]
    },
    {
      "cell_type": "markdown",
      "metadata": {
        "id": "p59JdBMBSNgP"
      },
      "source": [
        "## FFNN - Model 6"
      ]
    },
    {
      "cell_type": "markdown",
      "metadata": {
        "id": "qNRHI5Cu_V_O"
      },
      "source": [
        "### Fit model ###"
      ]
    },
    {
      "cell_type": "code",
      "metadata": {
        "id": "pkCh6mhDSLtD",
        "colab": {
          "base_uri": "https://localhost:8080/",
          "height": 399
        },
        "outputId": "d85a5ac1-6970-4ae6-f816-9e135fd21320"
      },
      "source": [
        "#model 6\n",
        "model6 = Sequential()\n",
        "model6.add(Dense(250, input_shape=(X_train.shape[1],), activation='relu')) # Adding input features\n",
        "model6.add(Dropout(0.2))                                            #Dropout to prevent overfitting\n",
        "model6.add(Dense(100, activation='relu'))\n",
        "model6.add(Dropout(0.2))\n",
        "model6.add(Dense(50, activation='relu'))\n",
        "model6.add(Dropout(0.2))\n",
        "model6.add(Dense(1, activation='sigmoid'))\n",
        "model6.summary() "
      ],
      "execution_count": null,
      "outputs": [
        {
          "output_type": "stream",
          "text": [
            "Model: \"sequential_5\"\n",
            "_________________________________________________________________\n",
            "Layer (type)                 Output Shape              Param #   \n",
            "=================================================================\n",
            "dense_20 (Dense)             (None, 250)               13500     \n",
            "_________________________________________________________________\n",
            "dropout_15 (Dropout)         (None, 250)               0         \n",
            "_________________________________________________________________\n",
            "dense_21 (Dense)             (None, 100)               25100     \n",
            "_________________________________________________________________\n",
            "dropout_16 (Dropout)         (None, 100)               0         \n",
            "_________________________________________________________________\n",
            "dense_22 (Dense)             (None, 50)                5050      \n",
            "_________________________________________________________________\n",
            "dropout_17 (Dropout)         (None, 50)                0         \n",
            "_________________________________________________________________\n",
            "dense_23 (Dense)             (None, 1)                 51        \n",
            "=================================================================\n",
            "Total params: 43,701\n",
            "Trainable params: 43,701\n",
            "Non-trainable params: 0\n",
            "_________________________________________________________________\n"
          ],
          "name": "stdout"
        }
      ]
    },
    {
      "cell_type": "code",
      "metadata": {
        "id": "fU9OzV0cSZvk"
      },
      "source": [
        "# compile the model\n",
        "model6.compile(optimizer='Adam', \n",
        "              loss='binary_crossentropy',\n",
        "              metrics=['accuracy'])"
      ],
      "execution_count": null,
      "outputs": []
    },
    {
      "cell_type": "code",
      "metadata": {
        "id": "Hf-NPJCqSfqX",
        "colab": {
          "base_uri": "https://localhost:8080/",
          "height": 1000
        },
        "outputId": "926d54f6-2e9d-44d6-8157-9f2fef276b17"
      },
      "source": [
        "# Model with callback early stopping\n",
        "\n",
        "# This callback will stop the training when there is no improvement in  \n",
        "# the validation loss for 10 consecutive epochs.  \n",
        "es = EarlyStopping(monitor='val_accuracy', \n",
        "                                   mode='max', # don't minimize the accuracy!\n",
        "                                   patience=10,\n",
        "                                   restore_best_weights=True)\n",
        "\n",
        "\n",
        "history6 = model6.fit(X_train,\n",
        "                    y_train,\n",
        "                    callbacks=[es],\n",
        "                    epochs=1000,\n",
        "                    batch_size=500,\n",
        "                    validation_data=(X_valid,y_valid),\n",
        "                    shuffle=True,\n",
        "                    verbose=1)\n",
        "\n",
        "# max accuracy of 0."
      ],
      "execution_count": null,
      "outputs": [
        {
          "output_type": "stream",
          "text": [
            "Epoch 1/1000\n",
            "136/136 [==============================] - 1s 9ms/step - loss: 0.5327 - accuracy: 0.7226 - val_loss: 0.4265 - val_accuracy: 0.7820\n",
            "Epoch 2/1000\n",
            "136/136 [==============================] - 1s 8ms/step - loss: 0.4092 - accuracy: 0.7869 - val_loss: 0.3550 - val_accuracy: 0.8155\n",
            "Epoch 3/1000\n",
            "136/136 [==============================] - 1s 9ms/step - loss: 0.3676 - accuracy: 0.8049 - val_loss: 0.3421 - val_accuracy: 0.8232\n",
            "Epoch 4/1000\n",
            "136/136 [==============================] - 1s 9ms/step - loss: 0.3508 - accuracy: 0.8148 - val_loss: 0.3332 - val_accuracy: 0.8241\n",
            "Epoch 5/1000\n",
            "136/136 [==============================] - 1s 9ms/step - loss: 0.3399 - accuracy: 0.8217 - val_loss: 0.3291 - val_accuracy: 0.8302\n",
            "Epoch 6/1000\n",
            "136/136 [==============================] - 1s 8ms/step - loss: 0.3339 - accuracy: 0.8256 - val_loss: 0.3184 - val_accuracy: 0.8403\n",
            "Epoch 7/1000\n",
            "136/136 [==============================] - 1s 8ms/step - loss: 0.3257 - accuracy: 0.8316 - val_loss: 0.3152 - val_accuracy: 0.8387\n",
            "Epoch 8/1000\n",
            "136/136 [==============================] - 1s 8ms/step - loss: 0.3197 - accuracy: 0.8339 - val_loss: 0.3089 - val_accuracy: 0.8426\n",
            "Epoch 9/1000\n",
            "136/136 [==============================] - 1s 8ms/step - loss: 0.3162 - accuracy: 0.8397 - val_loss: 0.3063 - val_accuracy: 0.8441\n",
            "Epoch 10/1000\n",
            "136/136 [==============================] - 1s 8ms/step - loss: 0.3083 - accuracy: 0.8432 - val_loss: 0.3045 - val_accuracy: 0.8472\n",
            "Epoch 11/1000\n",
            "136/136 [==============================] - 1s 8ms/step - loss: 0.3078 - accuracy: 0.8433 - val_loss: 0.3031 - val_accuracy: 0.8461\n",
            "Epoch 12/1000\n",
            "136/136 [==============================] - 1s 8ms/step - loss: 0.3020 - accuracy: 0.8472 - val_loss: 0.2945 - val_accuracy: 0.8541\n",
            "Epoch 13/1000\n",
            "136/136 [==============================] - 1s 8ms/step - loss: 0.2971 - accuracy: 0.8506 - val_loss: 0.2895 - val_accuracy: 0.8557\n",
            "Epoch 14/1000\n",
            "136/136 [==============================] - 1s 8ms/step - loss: 0.2949 - accuracy: 0.8529 - val_loss: 0.2863 - val_accuracy: 0.8573\n",
            "Epoch 15/1000\n",
            "136/136 [==============================] - 1s 8ms/step - loss: 0.2890 - accuracy: 0.8555 - val_loss: 0.2868 - val_accuracy: 0.8603\n",
            "Epoch 16/1000\n",
            "136/136 [==============================] - 1s 8ms/step - loss: 0.2870 - accuracy: 0.8567 - val_loss: 0.2800 - val_accuracy: 0.8639\n",
            "Epoch 17/1000\n",
            "136/136 [==============================] - 1s 8ms/step - loss: 0.2822 - accuracy: 0.8606 - val_loss: 0.2767 - val_accuracy: 0.8692\n",
            "Epoch 18/1000\n",
            "136/136 [==============================] - 1s 9ms/step - loss: 0.2787 - accuracy: 0.8622 - val_loss: 0.2713 - val_accuracy: 0.8710\n",
            "Epoch 19/1000\n",
            "136/136 [==============================] - 1s 8ms/step - loss: 0.2747 - accuracy: 0.8653 - val_loss: 0.2695 - val_accuracy: 0.8743\n",
            "Epoch 20/1000\n",
            "136/136 [==============================] - 1s 8ms/step - loss: 0.2715 - accuracy: 0.8671 - val_loss: 0.2705 - val_accuracy: 0.8718\n",
            "Epoch 21/1000\n",
            "136/136 [==============================] - 1s 8ms/step - loss: 0.2701 - accuracy: 0.8697 - val_loss: 0.2624 - val_accuracy: 0.8761\n",
            "Epoch 22/1000\n",
            "136/136 [==============================] - 1s 8ms/step - loss: 0.2670 - accuracy: 0.8712 - val_loss: 0.2632 - val_accuracy: 0.8769\n",
            "Epoch 23/1000\n",
            "136/136 [==============================] - 1s 8ms/step - loss: 0.2646 - accuracy: 0.8730 - val_loss: 0.2604 - val_accuracy: 0.8807\n",
            "Epoch 24/1000\n",
            "136/136 [==============================] - 1s 8ms/step - loss: 0.2613 - accuracy: 0.8726 - val_loss: 0.2525 - val_accuracy: 0.8837\n",
            "Epoch 25/1000\n",
            "136/136 [==============================] - 1s 8ms/step - loss: 0.2571 - accuracy: 0.8773 - val_loss: 0.2495 - val_accuracy: 0.8842\n",
            "Epoch 26/1000\n",
            "136/136 [==============================] - 1s 8ms/step - loss: 0.2539 - accuracy: 0.8784 - val_loss: 0.2494 - val_accuracy: 0.8841\n",
            "Epoch 27/1000\n",
            "136/136 [==============================] - 1s 8ms/step - loss: 0.2523 - accuracy: 0.8803 - val_loss: 0.2454 - val_accuracy: 0.8898\n",
            "Epoch 28/1000\n",
            "136/136 [==============================] - 1s 8ms/step - loss: 0.2500 - accuracy: 0.8814 - val_loss: 0.2453 - val_accuracy: 0.8875\n",
            "Epoch 29/1000\n",
            "136/136 [==============================] - 1s 8ms/step - loss: 0.2475 - accuracy: 0.8830 - val_loss: 0.2430 - val_accuracy: 0.8917\n",
            "Epoch 30/1000\n",
            "136/136 [==============================] - 1s 8ms/step - loss: 0.2425 - accuracy: 0.8867 - val_loss: 0.2395 - val_accuracy: 0.8929\n",
            "Epoch 31/1000\n",
            "136/136 [==============================] - 1s 8ms/step - loss: 0.2424 - accuracy: 0.8861 - val_loss: 0.2372 - val_accuracy: 0.8960\n",
            "Epoch 32/1000\n",
            "136/136 [==============================] - 1s 8ms/step - loss: 0.2400 - accuracy: 0.8872 - val_loss: 0.2337 - val_accuracy: 0.8975\n",
            "Epoch 33/1000\n",
            "136/136 [==============================] - 1s 8ms/step - loss: 0.2368 - accuracy: 0.8893 - val_loss: 0.2306 - val_accuracy: 0.8974\n",
            "Epoch 34/1000\n",
            "136/136 [==============================] - 1s 9ms/step - loss: 0.2340 - accuracy: 0.8914 - val_loss: 0.2288 - val_accuracy: 0.9009\n",
            "Epoch 35/1000\n",
            "136/136 [==============================] - 1s 8ms/step - loss: 0.2339 - accuracy: 0.8913 - val_loss: 0.2307 - val_accuracy: 0.8987\n",
            "Epoch 36/1000\n",
            "136/136 [==============================] - 1s 9ms/step - loss: 0.2321 - accuracy: 0.8933 - val_loss: 0.2244 - val_accuracy: 0.9050\n",
            "Epoch 37/1000\n",
            "136/136 [==============================] - 1s 9ms/step - loss: 0.2292 - accuracy: 0.8945 - val_loss: 0.2267 - val_accuracy: 0.8998\n",
            "Epoch 38/1000\n",
            "136/136 [==============================] - 1s 9ms/step - loss: 0.2268 - accuracy: 0.8962 - val_loss: 0.2168 - val_accuracy: 0.9057\n",
            "Epoch 39/1000\n",
            "136/136 [==============================] - 1s 8ms/step - loss: 0.2251 - accuracy: 0.8970 - val_loss: 0.2168 - val_accuracy: 0.9079\n",
            "Epoch 40/1000\n",
            "136/136 [==============================] - 1s 9ms/step - loss: 0.2233 - accuracy: 0.8979 - val_loss: 0.2207 - val_accuracy: 0.9061\n",
            "Epoch 41/1000\n",
            "136/136 [==============================] - 1s 8ms/step - loss: 0.2207 - accuracy: 0.8995 - val_loss: 0.2127 - val_accuracy: 0.9089\n",
            "Epoch 42/1000\n",
            "136/136 [==============================] - 1s 8ms/step - loss: 0.2215 - accuracy: 0.8985 - val_loss: 0.2144 - val_accuracy: 0.9095\n",
            "Epoch 43/1000\n",
            "136/136 [==============================] - 1s 8ms/step - loss: 0.2193 - accuracy: 0.8992 - val_loss: 0.2141 - val_accuracy: 0.9087\n",
            "Epoch 44/1000\n",
            "136/136 [==============================] - 1s 9ms/step - loss: 0.2177 - accuracy: 0.9016 - val_loss: 0.2146 - val_accuracy: 0.9093\n",
            "Epoch 45/1000\n",
            "136/136 [==============================] - 1s 8ms/step - loss: 0.2166 - accuracy: 0.9020 - val_loss: 0.2095 - val_accuracy: 0.9129\n",
            "Epoch 46/1000\n",
            "136/136 [==============================] - 1s 8ms/step - loss: 0.2135 - accuracy: 0.9032 - val_loss: 0.2130 - val_accuracy: 0.9111\n",
            "Epoch 47/1000\n",
            "136/136 [==============================] - 1s 9ms/step - loss: 0.2139 - accuracy: 0.9036 - val_loss: 0.2091 - val_accuracy: 0.9135\n",
            "Epoch 48/1000\n",
            "136/136 [==============================] - 1s 9ms/step - loss: 0.2107 - accuracy: 0.9050 - val_loss: 0.2078 - val_accuracy: 0.9111\n",
            "Epoch 49/1000\n",
            "136/136 [==============================] - 1s 9ms/step - loss: 0.2088 - accuracy: 0.9062 - val_loss: 0.2115 - val_accuracy: 0.9115\n",
            "Epoch 50/1000\n",
            "136/136 [==============================] - 1s 9ms/step - loss: 0.2107 - accuracy: 0.9059 - val_loss: 0.2067 - val_accuracy: 0.9145\n",
            "Epoch 51/1000\n",
            "136/136 [==============================] - 1s 9ms/step - loss: 0.2072 - accuracy: 0.9078 - val_loss: 0.2053 - val_accuracy: 0.9157\n",
            "Epoch 52/1000\n",
            "136/136 [==============================] - 1s 9ms/step - loss: 0.2096 - accuracy: 0.9058 - val_loss: 0.2021 - val_accuracy: 0.9174\n",
            "Epoch 53/1000\n",
            "136/136 [==============================] - 1s 9ms/step - loss: 0.2050 - accuracy: 0.9089 - val_loss: 0.2061 - val_accuracy: 0.9146\n",
            "Epoch 54/1000\n",
            "136/136 [==============================] - 1s 9ms/step - loss: 0.2028 - accuracy: 0.9094 - val_loss: 0.2007 - val_accuracy: 0.9172\n",
            "Epoch 55/1000\n",
            "136/136 [==============================] - 1s 9ms/step - loss: 0.2036 - accuracy: 0.9104 - val_loss: 0.1973 - val_accuracy: 0.9183\n",
            "Epoch 56/1000\n",
            "136/136 [==============================] - 1s 9ms/step - loss: 0.1976 - accuracy: 0.9125 - val_loss: 0.2016 - val_accuracy: 0.9190\n",
            "Epoch 57/1000\n",
            "136/136 [==============================] - 1s 8ms/step - loss: 0.1988 - accuracy: 0.9121 - val_loss: 0.2037 - val_accuracy: 0.9142\n",
            "Epoch 58/1000\n",
            "136/136 [==============================] - 1s 9ms/step - loss: 0.1986 - accuracy: 0.9120 - val_loss: 0.1955 - val_accuracy: 0.9177\n",
            "Epoch 59/1000\n",
            "136/136 [==============================] - 1s 9ms/step - loss: 0.1973 - accuracy: 0.9130 - val_loss: 0.1947 - val_accuracy: 0.9208\n",
            "Epoch 60/1000\n",
            "136/136 [==============================] - 1s 9ms/step - loss: 0.1964 - accuracy: 0.9127 - val_loss: 0.1944 - val_accuracy: 0.9196\n",
            "Epoch 61/1000\n",
            "136/136 [==============================] - 1s 9ms/step - loss: 0.1951 - accuracy: 0.9140 - val_loss: 0.1949 - val_accuracy: 0.9240\n",
            "Epoch 62/1000\n",
            "136/136 [==============================] - 1s 8ms/step - loss: 0.1943 - accuracy: 0.9138 - val_loss: 0.1930 - val_accuracy: 0.9230\n",
            "Epoch 63/1000\n",
            "136/136 [==============================] - 1s 9ms/step - loss: 0.1941 - accuracy: 0.9156 - val_loss: 0.1974 - val_accuracy: 0.9198\n",
            "Epoch 64/1000\n",
            "136/136 [==============================] - 1s 8ms/step - loss: 0.1962 - accuracy: 0.9134 - val_loss: 0.1904 - val_accuracy: 0.9236\n",
            "Epoch 65/1000\n",
            "136/136 [==============================] - 1s 8ms/step - loss: 0.1901 - accuracy: 0.9167 - val_loss: 0.1883 - val_accuracy: 0.9227\n",
            "Epoch 66/1000\n",
            "136/136 [==============================] - 1s 8ms/step - loss: 0.1899 - accuracy: 0.9162 - val_loss: 0.1949 - val_accuracy: 0.9208\n",
            "Epoch 67/1000\n",
            "136/136 [==============================] - 1s 9ms/step - loss: 0.1897 - accuracy: 0.9162 - val_loss: 0.1859 - val_accuracy: 0.9264\n",
            "Epoch 68/1000\n",
            "136/136 [==============================] - 1s 8ms/step - loss: 0.1898 - accuracy: 0.9181 - val_loss: 0.1851 - val_accuracy: 0.9255\n",
            "Epoch 69/1000\n",
            "136/136 [==============================] - 1s 8ms/step - loss: 0.1858 - accuracy: 0.9190 - val_loss: 0.1947 - val_accuracy: 0.9183\n",
            "Epoch 70/1000\n",
            "136/136 [==============================] - 1s 9ms/step - loss: 0.1851 - accuracy: 0.9187 - val_loss: 0.1881 - val_accuracy: 0.9250\n",
            "Epoch 71/1000\n",
            "136/136 [==============================] - 1s 8ms/step - loss: 0.1848 - accuracy: 0.9189 - val_loss: 0.1841 - val_accuracy: 0.9272\n",
            "Epoch 72/1000\n",
            "136/136 [==============================] - 1s 8ms/step - loss: 0.1843 - accuracy: 0.9191 - val_loss: 0.1833 - val_accuracy: 0.9255\n",
            "Epoch 73/1000\n",
            "136/136 [==============================] - 1s 8ms/step - loss: 0.1822 - accuracy: 0.9207 - val_loss: 0.1811 - val_accuracy: 0.9268\n",
            "Epoch 74/1000\n",
            "136/136 [==============================] - 1s 9ms/step - loss: 0.1825 - accuracy: 0.9204 - val_loss: 0.1906 - val_accuracy: 0.9240\n",
            "Epoch 75/1000\n",
            "136/136 [==============================] - 1s 9ms/step - loss: 0.1809 - accuracy: 0.9219 - val_loss: 0.1878 - val_accuracy: 0.9237\n",
            "Epoch 76/1000\n",
            "136/136 [==============================] - 1s 8ms/step - loss: 0.1816 - accuracy: 0.9213 - val_loss: 0.1809 - val_accuracy: 0.9270\n",
            "Epoch 77/1000\n",
            "136/136 [==============================] - 1s 9ms/step - loss: 0.1793 - accuracy: 0.9223 - val_loss: 0.1856 - val_accuracy: 0.9255\n",
            "Epoch 78/1000\n",
            "136/136 [==============================] - 1s 9ms/step - loss: 0.1820 - accuracy: 0.9199 - val_loss: 0.1770 - val_accuracy: 0.9318\n",
            "Epoch 79/1000\n",
            "136/136 [==============================] - 1s 8ms/step - loss: 0.1820 - accuracy: 0.9213 - val_loss: 0.1747 - val_accuracy: 0.9307\n",
            "Epoch 80/1000\n",
            "136/136 [==============================] - 1s 8ms/step - loss: 0.1798 - accuracy: 0.9224 - val_loss: 0.1853 - val_accuracy: 0.9254\n",
            "Epoch 81/1000\n",
            "136/136 [==============================] - 1s 8ms/step - loss: 0.1756 - accuracy: 0.9250 - val_loss: 0.1783 - val_accuracy: 0.9294\n",
            "Epoch 82/1000\n",
            "136/136 [==============================] - 1s 9ms/step - loss: 0.1743 - accuracy: 0.9257 - val_loss: 0.1755 - val_accuracy: 0.9333\n",
            "Epoch 83/1000\n",
            "136/136 [==============================] - 1s 9ms/step - loss: 0.1778 - accuracy: 0.9230 - val_loss: 0.1749 - val_accuracy: 0.9346\n",
            "Epoch 84/1000\n",
            "136/136 [==============================] - 1s 9ms/step - loss: 0.1768 - accuracy: 0.9238 - val_loss: 0.1751 - val_accuracy: 0.9329\n",
            "Epoch 85/1000\n",
            "136/136 [==============================] - 1s 9ms/step - loss: 0.1751 - accuracy: 0.9250 - val_loss: 0.1801 - val_accuracy: 0.9282\n",
            "Epoch 86/1000\n",
            "136/136 [==============================] - 1s 9ms/step - loss: 0.1731 - accuracy: 0.9256 - val_loss: 0.1789 - val_accuracy: 0.9304\n",
            "Epoch 87/1000\n",
            "136/136 [==============================] - 1s 9ms/step - loss: 0.1736 - accuracy: 0.9259 - val_loss: 0.1712 - val_accuracy: 0.9344\n",
            "Epoch 88/1000\n",
            "136/136 [==============================] - 1s 9ms/step - loss: 0.1729 - accuracy: 0.9269 - val_loss: 0.1720 - val_accuracy: 0.9324\n",
            "Epoch 89/1000\n",
            "136/136 [==============================] - 1s 9ms/step - loss: 0.1722 - accuracy: 0.9262 - val_loss: 0.1791 - val_accuracy: 0.9293\n",
            "Epoch 90/1000\n",
            "136/136 [==============================] - 1s 9ms/step - loss: 0.1717 - accuracy: 0.9269 - val_loss: 0.1744 - val_accuracy: 0.9324\n",
            "Epoch 91/1000\n",
            "136/136 [==============================] - 1s 9ms/step - loss: 0.1716 - accuracy: 0.9267 - val_loss: 0.1750 - val_accuracy: 0.9311\n",
            "Epoch 92/1000\n",
            "136/136 [==============================] - 1s 9ms/step - loss: 0.1680 - accuracy: 0.9288 - val_loss: 0.1769 - val_accuracy: 0.9300\n",
            "Epoch 93/1000\n",
            "136/136 [==============================] - 1s 9ms/step - loss: 0.1717 - accuracy: 0.9267 - val_loss: 0.1730 - val_accuracy: 0.9327\n"
          ],
          "name": "stdout"
        }
      ]
    },
    {
      "cell_type": "markdown",
      "metadata": {
        "id": "h9aGcfVJAjKm"
      },
      "source": [
        "### Evaluate the FFNN-Model 6 ###"
      ]
    },
    {
      "cell_type": "code",
      "metadata": {
        "id": "zLonmaGpAjKn",
        "colab": {
          "base_uri": "https://localhost:8080/",
          "height": 35
        },
        "outputId": "c4df330b-556a-4c0d-ce2f-767c4f069ea3"
      },
      "source": [
        "history6.history.keys()"
      ],
      "execution_count": null,
      "outputs": [
        {
          "output_type": "execute_result",
          "data": {
            "text/plain": [
              "dict_keys(['loss', 'accuracy', 'val_loss', 'val_accuracy'])"
            ]
          },
          "metadata": {
            "tags": []
          },
          "execution_count": 100
        }
      ]
    },
    {
      "cell_type": "code",
      "metadata": {
        "id": "8sQUNE1wAjKr",
        "colab": {
          "base_uri": "https://localhost:8080/",
          "height": 350
        },
        "outputId": "518f45ab-1fe7-48d4-cbf1-0876a6cdfe22"
      },
      "source": [
        "#training and validation loss by epoch\n",
        "history_dict = history6.history\n",
        "loss_values = history_dict['loss'] # training loss\n",
        "val_loss_values = history_dict['val_loss'] # validation loss\n",
        "epochs = range(1, len(loss_values) + 1) # range of X (no. of epochs)\n",
        "plt.figure(figsize=(15,5))\n",
        "plt.plot(epochs, loss_values, 'bo', label='Training loss')\n",
        "plt.plot(epochs, val_loss_values, 'orange', label='Validation loss')\n",
        "plt.title('Training and validation loss')\n",
        "plt.xlabel('Epochs')\n",
        "plt.ylabel('Loss')\n",
        "plt.legend()\n",
        "plt.show()"
      ],
      "execution_count": null,
      "outputs": [
        {
          "output_type": "display_data",
          "data": {
            "image/png": "[encoded data removed]",
            "text/plain": [
              "<Figure size 1080x360 with 1 Axes>"
            ]
          },
          "metadata": {
            "tags": [],
            "needs_background": "light"
          }
        }
      ]
    },
    {
      "cell_type": "code",
      "metadata": {
        "id": "tB90CXA4AjKv",
        "colab": {
          "base_uri": "https://localhost:8080/",
          "height": 350
        },
        "outputId": "5b9f1adc-6620-43be-dad4-c0a38f0225ea"
      },
      "source": [
        "# training and validation accuracy by epoch\n",
        "history_dict = history6.history\n",
        "acc = history_dict['accuracy'] # training accuracy\n",
        "val_acc = history_dict['val_accuracy'] # validation accuracy\n",
        "epochs = range(1, len(acc) + 1) # range of X (no. of epochs)\n",
        "plt.figure(figsize=(15,5))\n",
        "plt.plot(epochs, acc, 'bo', label='Training acc')\n",
        "plt.plot(epochs, val_acc, 'orange', label='Validation acc')\n",
        "plt.title('Training and validation acc')\n",
        "plt.xlabel('Epochs')\n",
        "plt.ylabel('Acc')\n",
        "plt.legend()\n",
        "plt.show()"
      ],
      "execution_count": null,
      "outputs": [
        {
          "output_type": "display_data",
          "data": {
            "image/png": "[encoded data removed]",
            "text/plain": [
              "<Figure size 1080x360 with 1 Axes>"
            ]
          },
          "metadata": {
            "tags": [],
            "needs_background": "light"
          }
        }
      ]
    },
    {
      "cell_type": "code",
      "metadata": {
        "id": "Eif7-St8AjKx",
        "colab": {
          "base_uri": "https://localhost:8080/",
          "height": 52
        },
        "outputId": "f5eb7e43-e203-4316-d0df-c13e6ebb1b2f"
      },
      "source": [
        "# this is the max value\n",
        "print(np.max(val_acc)) # the highest validation accuracy \n",
        "print(np.max(acc)) #the highest training accuracy"
      ],
      "execution_count": null,
      "outputs": [
        {
          "output_type": "stream",
          "text": [
            "0.9345611929893494\n",
            "0.9288146495819092\n"
          ],
          "name": "stdout"
        }
      ]
    },
    {
      "cell_type": "code",
      "metadata": {
        "id": "VdkzqmOZAjKy"
      },
      "source": [
        "#predict the validation results \n",
        "preds = np.round(model6.predict(X_valid),0)"
      ],
      "execution_count": null,
      "outputs": []
    },
    {
      "cell_type": "code",
      "metadata": {
        "id": "rmzwO85xAjK0",
        "colab": {
          "base_uri": "https://localhost:8080/",
          "height": 35
        },
        "outputId": "8a5b9e3b-055a-4a26-b2ae-7e157ed38166"
      },
      "source": [
        "#Evaluating the model\n",
        "\n",
        "tn, fp, fn, tp = confusion_matrix(y_valid, preds).ravel()\n",
        "tn, fp, fn, tp\n"
      ],
      "execution_count": null,
      "outputs": [
        {
          "output_type": "execute_result",
          "data": {
            "text/plain": [
              "(7872, 981, 124, 7909)"
            ]
          },
          "metadata": {
            "tags": []
          },
          "execution_count": 105
        }
      ]
    },
    {
      "cell_type": "code",
      "metadata": {
        "id": "gpZzNOx_AjK2",
        "colab": {
          "base_uri": "https://localhost:8080/",
          "height": 173
        },
        "outputId": "4c4ebe3b-338c-4fb3-de54-aff53c273975"
      },
      "source": [
        "#Classification report \n",
        "report = classification_report(y_valid, preds)\n",
        "print(report)\n"
      ],
      "execution_count": null,
      "outputs": [
        {
          "output_type": "stream",
          "text": [
            "              precision    recall  f1-score   support\n",
            "\n",
            "           0       0.98      0.89      0.93      8853\n",
            "           1       0.89      0.98      0.93      8033\n",
            "\n",
            "    accuracy                           0.93     16886\n",
            "   macro avg       0.94      0.94      0.93     16886\n",
            "weighted avg       0.94      0.93      0.93     16886\n",
            "\n"
          ],
          "name": "stdout"
        }
      ]
    },
    {
      "cell_type": "markdown",
      "metadata": {
        "id": "ZRdIK9_BAjK3"
      },
      "source": [
        "From the Model 6 we can see that\n",
        "\n",
        "*   The loss on both training and validation sets decreases gradually with each epoch which indicates that the model is learning and improving with each iteration.\n",
        "* This model has 3 layers and a considerably higher number of hidden units in each layer as compared to the first four models, making it a more complex network.\n",
        "* The trend in loss and accuracy values for both training and validation sets is similar, with validation accuracy being slightly higher, indicating that there is no overfitting of data. \n",
        "* We get an accuracy of 93% on validation set using this architecture which is much greater than the accuracy of 79% from the Baseline- Logistic Regression model.\n",
        "* However, for this architecture we notice that the validation loss and accuracy are pretty unstable with validation accuracy fluctuating very close to the training accuracy during some epochs. We infer that further increasing the number of hidden units (also checked in model 5 with 800 hidden units) will cause the network to overfit to the training set but will not predict accurately on new data.\n",
        "* We also observed that this complex model took longer (> 100 epochs) to train and reach a maximum value for accuracy that did not improve for the next 10 epochs (patience=10).\n"
      ]
    },
    {
      "cell_type": "code",
      "metadata": {
        "id": "Cj2C_GY-aRP9",
        "colab": {
          "base_uri": "https://localhost:8080/",
          "height": 201
        },
        "outputId": "9f8b57d6-ae5b-4f53-a056-8243186fc334"
      },
      "source": [
        "# using the model 3 to predict the test data\n",
        "test_preds = np.round(model3.predict(test),0)\n",
        "list(test_preds)\n",
        "test['new'] = ''"
      ],
      "execution_count": null,
      "outputs": [
        {
          "output_type": "error",
          "ename": "IndexError",
          "evalue": "ignored",
          "traceback": [
            "\u001b[0;31m---------------------------------------------------------------------------\u001b[0m",
            "\u001b[0;31mIndexError\u001b[0m                                Traceback (most recent call last)",
            "\u001b[0;32m<ipython-input-42-bc7a5d3e388a>\u001b[0m in \u001b[0;36m<module>\u001b[0;34m()\u001b[0m\n\u001b[1;32m      3\u001b[0m \u001b[0mtest_preds\u001b[0m \u001b[0;34m=\u001b[0m \u001b[0mnp\u001b[0m\u001b[0;34m.\u001b[0m\u001b[0mround\u001b[0m\u001b[0;34m(\u001b[0m\u001b[0mmodel3\u001b[0m\u001b[0;34m.\u001b[0m\u001b[0mpredict\u001b[0m\u001b[0;34m(\u001b[0m\u001b[0mtest\u001b[0m\u001b[0;34m)\u001b[0m\u001b[0;34m,\u001b[0m\u001b[0;36m0\u001b[0m\u001b[0;34m)\u001b[0m\u001b[0;34m\u001b[0m\u001b[0;34m\u001b[0m\u001b[0m\n\u001b[1;32m      4\u001b[0m \u001b[0mlist\u001b[0m\u001b[0;34m(\u001b[0m\u001b[0mtest_preds\u001b[0m\u001b[0;34m)\u001b[0m\u001b[0;34m\u001b[0m\u001b[0;34m\u001b[0m\u001b[0m\n\u001b[0;32m----> 5\u001b[0;31m \u001b[0mtest\u001b[0m\u001b[0;34m[\u001b[0m\u001b[0;34m'new'\u001b[0m\u001b[0;34m]\u001b[0m \u001b[0;34m=\u001b[0m \u001b[0;34m''\u001b[0m\u001b[0;34m\u001b[0m\u001b[0;34m\u001b[0m\u001b[0m\n\u001b[0m",
            "\u001b[0;31mIndexError\u001b[0m: only integers, slices (`:`), ellipsis (`...`), numpy.newaxis (`None`) and integer or boolean arrays are valid indices"
          ]
        }
      ]
    },
    {
      "cell_type": "markdown",
      "metadata": {
        "id": "WnLdR6HPJ2Ip"
      },
      "source": [
        "# **Conclusion**\n",
        "\n",
        "* The data has been preprocessed to remove missing values, resampled to have proportionate instances for both the 'promoted' and 'not promoted' classes, scaling and one-hot encoding of the necessary columns performed as well.\n",
        "* EDA showed some interesting relationships between the different parameters that are available in the dataset and helped us understand the data better. A baseline model has been built to compare the increase/decrease in performance with the FFNN models.\n",
        "* Different FFNN models were built by trying different architectures ( dropouts for resolving overfitting, activation functions 'relu', 'tanh', different number of hidden layers and units). The interesting thing we found while trying different architectures is that a model with hidden layers <=2 will be best suited to solve complex problems as well in most cases.\n",
        "* From our analysis, we find that Model 3 with an accuracy of around 87%  with only 2 hidden layers and maximum of 50 hidden units (much simpler model) and Model 6 with an accuracy of around 93% with 3 hidden layers and a maximum of 250 hidden units (complex model) best suited the data. \n",
        "* This model can be used to predict the promotion probability with an accuracy of about 85%-93% thus reducing the manual labor and time spent by the HR team. We can also understand from the EDA the important parameters that are to be satisfied by the employees like meeting the KPI's, maintaining a decent training score and winning awards, to increase their chances of promotion."
      ]
    }
  ]
}